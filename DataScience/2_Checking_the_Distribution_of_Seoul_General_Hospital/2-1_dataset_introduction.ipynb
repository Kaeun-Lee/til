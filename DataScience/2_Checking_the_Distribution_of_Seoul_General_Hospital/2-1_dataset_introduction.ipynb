{
 "cells": [
  {
   "cell_type": "markdown",
   "metadata": {},
   "source": [
    "## 핵심 키워드\n",
    "- 공공데이터"
   ]
  },
  {
   "cell_type": "markdown",
   "metadata": {},
   "source": [
    "## 공공데이터 상권정보 분석해 보기\n",
    "- https://www.data.go.kr/dataset/15012005/fileData.do\n",
    "- 국가중점데이터인 상권정보를 살펴보기\n",
    "- 먼저 파일데이터에서 `상가(상권)정보_의료기관_201909`를 다운로드 받기"
   ]
  }
 ],
 "metadata": {
  "kernelspec": {
   "display_name": "Python 3.8.0 32-bit",
   "language": "python",
   "name": "python3"
  },
  "language_info": {
   "name": "python",
   "version": "3.8.0"
  },
  "orig_nbformat": 4,
  "vscode": {
   "interpreter": {
    "hash": "ab346aeb941d3eb22c315bdddbcd7a9399296d9e3feea520812b7600ca0cd9c8"
   }
  }
 },
 "nbformat": 4,
 "nbformat_minor": 2
}
