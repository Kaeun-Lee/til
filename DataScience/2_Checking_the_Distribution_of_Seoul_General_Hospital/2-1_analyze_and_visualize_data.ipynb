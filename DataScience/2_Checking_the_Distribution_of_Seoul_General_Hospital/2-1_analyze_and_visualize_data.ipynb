{
 "cells": [
  {
   "cell_type": "markdown",
   "metadata": {},
   "source": [
    "# 1. 공공데이터 상권정보 분석해 보기\n",
    "- https://www.data.go.kr/dataset/15012005/fileData.do\n",
    "- 국가중점데이터인 상권정보를 살펴보기\n",
    "- 먼저 파일데이터에서 `상가(상권)정보_의료기관_201909`를 다운로드 받기"
   ]
  },
  {
   "cell_type": "markdown",
   "metadata": {},
   "source": [
    "## 1.1 필요한 라이브러리 불러오기"
   ]
  },
  {
   "cell_type": "markdown",
   "metadata": {},
   "source": [
    "## 핵심 키워드\n",
    "- read_csv()\n",
    "- shape\n",
    "- head()/tail()\n",
    "- info()\n",
    "- columns\n",
    "- dtypes"
   ]
  },
  {
   "cell_type": "code",
   "execution_count": null,
   "metadata": {},
   "outputs": [],
   "source": [
    "import pandas as pd\n",
    "import numpy as np  # 고성능의 수치계산, 대규모 다차원 배열을 쉽게 처리하는 라이브러리\n",
    "import seaborn as sns  # 데이터 시각화 라이브러리"
   ]
  },
  {
   "cell_type": "markdown",
   "metadata": {},
   "source": [
    "## 1.2 시각화를 위한 폰트 설정"
   ]
  },
  {
   "cell_type": "code",
   "execution_count": null,
   "metadata": {},
   "outputs": [],
   "source": [
    "import matplotlib.pyplot as plt  # 데이터 시각화 라이브러리\n",
    "\n",
    "# Window의 한글 폰트 설정\n",
    "plt.rc('font', family='Malgun Gothic')\n",
    "plt.rc('axes', unicode_minus=False)  # 한글 폰트에서 minus font가 깨지는 문제 방지\n",
    "# Mac의 한글 폰트 설정\n",
    "# plt.rc('font', family='AppleGothic')\n",
    "\n",
    "\n",
    "# 그래프가 노트북 안에 보이게 하기\n",
    "%matplotlib inline"
   ]
  },
  {
   "cell_type": "code",
   "execution_count": null,
   "metadata": {},
   "outputs": [],
   "source": [
    "from IPython.display import set_matplotlib_formats\n",
    "\n",
    "# 폰트를 선명하게 보기 위해 retina 설정\n",
    "set_matplotlib_formats(\"retina\")\n",
    "# %config InlineBackend.figure_format = 'retina'  # ipython 7.23이후 버전"
   ]
  },
  {
   "cell_type": "markdown",
   "metadata": {},
   "source": [
    "## 1.3 데이터 로드하기\n",
    "- 판다스에서 데이터를 로드할 때는 read_csv를 사용\n",
    "- 데이터를 로드해서 df라는 변수에 담기\n",
    "- shape를 통해 데이터의 갯수 찍기 -> 결과는 (행, 열) 순으로 출력됨"
   ]
  },
  {
   "cell_type": "code",
   "execution_count": null,
   "metadata": {},
   "outputs": [],
   "source": [
    "# read_csv로 불러온 파일을 df라는 변수에 담기\n",
    "df = pd.read_csv(\"./data/소상공인시장진흥공단_상가업소정보_의료기관_201909.csv\", low_memory=False)\n",
    "df.shape"
   ]
  },
  {
   "cell_type": "markdown",
   "metadata": {},
   "source": [
    "## 1.4 데이터 미리보기\n",
    "- head, tail을 통해 데이터를 미리 볼 수 있음"
   ]
  },
  {
   "cell_type": "code",
   "execution_count": null,
   "metadata": {},
   "outputs": [],
   "source": [
    "# head로 데이터를 미리보기\n",
    "df.head(1)"
   ]
  },
  {
   "cell_type": "code",
   "execution_count": null,
   "metadata": {},
   "outputs": [],
   "source": [
    "# tail로 마지막 부분에 있는 데이터를 불러오기\n",
    "df.tail(1)"
   ]
  },
  {
   "cell_type": "code",
   "execution_count": null,
   "metadata": {},
   "outputs": [],
   "source": [
    "# sample로 미리보기(랜덤한 row 값)\n",
    "df.sample()"
   ]
  },
  {
   "cell_type": "markdown",
   "metadata": {},
   "source": [
    "## 1.5 데이터 요약하기"
   ]
  },
  {
   "cell_type": "markdown",
   "metadata": {},
   "source": [
    "### 1.5.1 요약 정보"
   ]
  },
  {
   "cell_type": "code",
   "execution_count": null,
   "metadata": {},
   "outputs": [],
   "source": [
    "# info로 데이터의 요약 보기\n",
    "# object : 문자열\n",
    "df.info()  # 메모리 : 27MB"
   ]
  },
  {
   "cell_type": "markdown",
   "metadata": {},
   "source": [
    "### 1.5.2 컬럼명 보기"
   ]
  },
  {
   "cell_type": "code",
   "execution_count": null,
   "metadata": {},
   "outputs": [],
   "source": [
    "df.columns"
   ]
  },
  {
   "cell_type": "markdown",
   "metadata": {},
   "source": [
    "### 1.5.3 데이터 타입 확인하기"
   ]
  },
  {
   "cell_type": "code",
   "execution_count": null,
   "metadata": {},
   "outputs": [],
   "source": [
    "# 데이터 타입만 출력\n",
    "df.dtypes"
   ]
  },
  {
   "cell_type": "markdown",
   "metadata": {},
   "source": [
    "## 1.6 결측치 확인"
   ]
  },
  {
   "cell_type": "markdown",
   "metadata": {},
   "source": [
    "## 핵심 키워드\n",
    "- insull().sum()\n",
    "- plot()/plot.bar()/plot.barh()\n",
    "- reset_index\n",
    "- sort_values()\n",
    "- NaN\n",
    "- drop()"
   ]
  },
  {
   "cell_type": "markdown",
   "metadata": {},
   "source": [
    "### 1.6.1 결측치 확인하기\n"
   ]
  },
  {
   "cell_type": "code",
   "execution_count": null,
   "metadata": {},
   "outputs": [],
   "source": [
    "# 각 column별 결측치 개수 확인\n",
    "# boolean indexing : True는 1이니 isnull()을 하여 해당 데이터가 결측치라면 True를 출력\n",
    "# .sum() : True의 개수를 세줌\n",
    "null_count = df.isnull().sum()\n",
    "null_count"
   ]
  },
  {
   "cell_type": "markdown",
   "metadata": {},
   "source": [
    "### 1.6.2 결측치 시각화하기"
   ]
  },
  {
   "cell_type": "code",
   "execution_count": null,
   "metadata": {},
   "outputs": [],
   "source": [
    "# 위에서 구한 결측치를 .plot.bar를 통해 막대 그래프로 시각화\n",
    "# rot : 글자들이 회전하여 표시됨\n",
    "# barh : x, y축을 바꿈. 세로 막대형 그래프\n",
    "# firsize : 그래프 사이즈 지정\n",
    "null_count.plot.barh(figsize=(5, 7))"
   ]
  },
  {
   "cell_type": "markdown",
   "metadata": {},
   "source": [
    "### 1.6.3 데이터 프레임 형태로 변형하기"
   ]
  },
  {
   "cell_type": "code",
   "execution_count": null,
   "metadata": {},
   "outputs": [],
   "source": [
    "# 위에서 계산한 결측치 수를 reset_index를 활용해 dataframe 형태로 변환\n",
    "# df_null_count 변수에 결과를 담아서 head로 미리보기\n",
    "df_null_count = null_count.reset_index()\n",
    "df_null_count.head()"
   ]
  },
  {
   "cell_type": "markdown",
   "metadata": {},
   "source": [
    "## 1.7 컬럼명 변경하기"
   ]
  },
  {
   "cell_type": "markdown",
   "metadata": {},
   "source": [
    "### 1.7.1 새로운 컬럼명 지정하기"
   ]
  },
  {
   "cell_type": "code",
   "execution_count": null,
   "metadata": {},
   "outputs": [],
   "source": [
    "# df_null_count 변수에 담겨있는 컬럼의 이름을 \"컬럼명\", \"결측치수\"로 변경\n",
    "df_null_count.columns = [\"컬럼명\", \"결측치수\"]\n",
    "df_null_count.head()"
   ]
  },
  {
   "cell_type": "markdown",
   "metadata": {},
   "source": [
    "## 1.8 정렬하기"
   ]
  },
  {
   "cell_type": "markdown",
   "metadata": {},
   "source": [
    "### 1.8.1 결측치만 보기"
   ]
  },
  {
   "cell_type": "code",
   "execution_count": null,
   "metadata": {},
   "outputs": [],
   "source": [
    "# df_null_count dataframe에 있는 결측치수 컬럼을 sort_values를 통해 정렬\n",
    "# 결측치가 많은 순으로 상위 10개만 출력\n",
    "df_null_count_top = df_null_count.sort_values(by=\"결측치수\", ascending=False).head(10)\n",
    "df_null_count_top"
   ]
  },
  {
   "cell_type": "code",
   "execution_count": null,
   "metadata": {},
   "outputs": [],
   "source": [
    "# 참고\n",
    "df_null_count.sort_index(ascending=False).head()  # index 값으로 sort"
   ]
  },
  {
   "cell_type": "markdown",
   "metadata": {},
   "source": [
    "## 1.9 특정 컬럼만 불러오기\n",
    "- 결측치 column 자체도 데이터가 큰 경우 메모리를 많이 차지함"
   ]
  },
  {
   "cell_type": "code",
   "execution_count": null,
   "metadata": {},
   "outputs": [],
   "source": [
    "# 지점명 컬럼을 불러오기(결측치의 상황을 확인하기)\n",
    "# NaN : Not a Number의 약자로 결측치를 의미\n",
    "df['지점명'].head()"
   ]
  },
  {
   "cell_type": "markdown",
   "metadata": {},
   "source": [
    "### 1.9.1 column명 리스트화하기"
   ]
  },
  {
   "cell_type": "code",
   "execution_count": null,
   "metadata": {},
   "outputs": [],
   "source": [
    "# 삭제할 column의 이름을 리스트 형태로 만들어 drop_columns 변수에 담기\n",
    "drop_columns = df_null_count_top[\"컬럼명\"].tolist()\n",
    "drop_columns"
   ]
  },
  {
   "cell_type": "markdown",
   "metadata": {},
   "source": [
    "### 1.9.2 삭제할 column 확인하기"
   ]
  },
  {
   "cell_type": "code",
   "execution_count": null,
   "metadata": {},
   "outputs": [],
   "source": [
    "# drop_columns 변수로 해당 컬럼 정보만 dataframe에서 가져오기\n",
    "df[drop_columns].head()"
   ]
  },
  {
   "cell_type": "markdown",
   "metadata": {},
   "source": [
    "## 1.10 제거하기"
   ]
  },
  {
   "cell_type": "code",
   "execution_count": null,
   "metadata": {},
   "outputs": [],
   "source": [
    "print(df.shape)\n",
    "df = df.drop(drop_columns, axis=1)  # column을 기준으로 drop, 행을 삭제하려면 axis=0\n",
    "print(df.shape)"
   ]
  },
  {
   "cell_type": "code",
   "execution_count": null,
   "metadata": {},
   "outputs": [],
   "source": [
    "# 제거 결과를 info로 확인\n",
    "df.info()  # 메모리 20MB로 줄어듬"
   ]
  },
  {
   "cell_type": "markdown",
   "metadata": {},
   "source": [
    "## 1.11 기초 통계값 보기"
   ]
  },
  {
   "cell_type": "markdown",
   "metadata": {},
   "source": [
    "## 핵심 키워드\n",
    "- mean\n",
    "- median\n",
    "- max\n",
    "- min\n",
    "- count\n",
    "- describe"
   ]
  },
  {
   "cell_type": "markdown",
   "metadata": {},
   "source": [
    "### 1.11.1 기초 통계 수치"
   ]
  },
  {
   "cell_type": "code",
   "execution_count": null,
   "metadata": {},
   "outputs": [],
   "source": [
    "# 데이터 타입 확인\n",
    "# df.dtypes\n",
    "\n",
    "# 평균값 -> 최솟값, 최댓값에 많이 편형되어 있음\n",
    "df[\"위도\"].mean()"
   ]
  },
  {
   "cell_type": "code",
   "execution_count": null,
   "metadata": {},
   "outputs": [],
   "source": [
    "# 중앙값 -> 데이터의 중간에 있는 값. 최솟값, 최댓값의 영향을 많이받지 않음\n",
    "df[\"위도\"].median()"
   ]
  },
  {
   "cell_type": "code",
   "execution_count": null,
   "metadata": {},
   "outputs": [],
   "source": [
    "# 최댓값\n",
    "df[\"위도\"].max()"
   ]
  },
  {
   "cell_type": "code",
   "execution_count": null,
   "metadata": {},
   "outputs": [],
   "source": [
    "# 최솟값\n",
    "df[\"위도\"].min()"
   ]
  },
  {
   "cell_type": "code",
   "execution_count": null,
   "metadata": {},
   "outputs": [],
   "source": [
    "# 데이터의 개수\n",
    "df[\"위도\"].count()"
   ]
  },
  {
   "cell_type": "markdown",
   "metadata": {},
   "source": [
    "### 1.11.2 기초통계 값 요약하기 - describe\n",
    "- describe를 사용하면 데이터를 요약해 볼 수 있음\n",
    "- 기본적으로 수치형 데이터를 요약해서 보여줌\n",
    "- 데이터의 개수, 평균, 표준편차, 최솟값, 1사분위수(25%), 2사분위수(50%), 3사분위수(75%), 최댓값을 볼 수 있음"
   ]
  },
  {
   "cell_type": "markdown",
   "metadata": {},
   "source": [
    "### "
   ]
  },
  {
   "cell_type": "code",
   "execution_count": null,
   "metadata": {},
   "outputs": [],
   "source": [
    "# 위도를 descirbe로 요약하기\n",
    "# 1개의 데이터를 가져오면 series 형태로 출력\n",
    "# 25% : 앞에서 1/4이 되는 값, 1사분위수\n",
    "# 50% : 중앙값, 2사분위수\n",
    "# 75% : 앞에서 3/4 번째 되는 값, 3사분위수\n",
    "df[\"위도\"].describe()"
   ]
  },
  {
   "cell_type": "code",
   "execution_count": null,
   "metadata": {},
   "outputs": [],
   "source": [
    "# 2개의 column을 describe로 요약하기\n",
    "# pandas는 2개 이상의 데이터를 가져올 때, list를 사용 -> dataframe 형태로 출력\n",
    "df[[\"위도\", \"경도\"]].describe()"
   ]
  },
  {
   "cell_type": "code",
   "execution_count": null,
   "metadata": {},
   "outputs": [],
   "source": [
    "# describe로 문자열 데이터타입의 요약 보기\n",
    "# describe는 기본적으로 수치형 data만 가져옴\n",
    "# top : 가장 높은 빈도로 저장된 object data\n",
    "# freq : 빈도수\n",
    "df.describe(include=\"object\") # 결측치는 빼고 보여줌"
   ]
  },
  {
   "cell_type": "code",
   "execution_count": null,
   "metadata": {},
   "outputs": [],
   "source": [
    "# include=\"all\" : number와 object 데이터 모두 요약. 결측치는 요약하지 않음\n",
    "df.describe(include=\"all\")"
   ]
  },
  {
   "cell_type": "markdown",
   "metadata": {},
   "source": [
    "### 1.11.3 중복제거한 값 보기\n",
    "- unique : 값의 종류가 몇 개인지 보여줌\n",
    "- unique로 중복을 제거한 값을 보고 nunique로 개수 세어보기"
   ]
  },
  {
   "cell_type": "markdown",
   "metadata": {},
   "source": [
    "### 핵심 키워드\n",
    "- unique() / nunique()\n",
    "- value_counts()\n",
    "- barh() / pie chart()"
   ]
  },
  {
   "cell_type": "code",
   "execution_count": null,
   "metadata": {},
   "outputs": [],
   "source": [
    "# \"상권업종대분류명\"\n",
    "df[\"상권업종대분류명\"].unique()"
   ]
  },
  {
   "cell_type": "code",
   "execution_count": null,
   "metadata": {},
   "outputs": [],
   "source": [
    "df[\"상권업종대분류명\"].nunique()"
   ]
  },
  {
   "cell_type": "code",
   "execution_count": null,
   "metadata": {},
   "outputs": [],
   "source": [
    "# \"상권업종중분류명\"\n",
    "df[\"상권업종중분류명\"].unique()"
   ]
  },
  {
   "cell_type": "code",
   "execution_count": null,
   "metadata": {},
   "outputs": [],
   "source": [
    "df[\"상권업종중분류명\"].nunique()"
   ]
  },
  {
   "cell_type": "code",
   "execution_count": null,
   "metadata": {},
   "outputs": [],
   "source": [
    "# \"상권업종소분류명\"\n",
    "df[\"상권업종소분류명\"].unique()"
   ]
  },
  {
   "cell_type": "code",
   "execution_count": null,
   "metadata": {},
   "outputs": [],
   "source": [
    "df[\"상권업종소분류명\"].nunique()"
   ]
  },
  {
   "cell_type": "code",
   "execution_count": null,
   "metadata": {},
   "outputs": [],
   "source": [
    "# nunique 대신 len을 사용\n",
    "len(df[\"상권업종소분류명\"].unique())"
   ]
  },
  {
   "cell_type": "markdown",
   "metadata": {},
   "source": [
    "### 1.11.3 그룹화된 요약값 보기 - value_counts\n",
    "- value_counts를 사용하면 카테고리 형태의 데이터 개수를 세어볼 수 있음"
   ]
  },
  {
   "cell_type": "code",
   "execution_count": null,
   "metadata": {},
   "outputs": [],
   "source": [
    "# 시도명 확인하기\n",
    "df[\"시도명\"].head()"
   ]
  },
  {
   "cell_type": "code",
   "execution_count": null,
   "metadata": {},
   "outputs": [],
   "source": [
    "# 시도명 세어보기\n",
    "city = df[\"시도명\"].value_counts()\n",
    "city"
   ]
  },
  {
   "cell_type": "code",
   "execution_count": null,
   "metadata": {},
   "outputs": [],
   "source": [
    "# normalize=True : 전체에서 차지하는 비율을 계산\n",
    "city_normalize = df[\"시도명\"].value_counts(normalize=True)\n",
    "city_normalize"
   ]
  },
  {
   "cell_type": "code",
   "execution_count": null,
   "metadata": {},
   "outputs": [],
   "source": [
    "# pandas에는 plot 기능을 내장하고 있음\n",
    "# 위에서 분석한 시도명 수를 막대 그래프로 표현하기\n",
    "city.plot.barh()"
   ]
  },
  {
   "cell_type": "code",
   "execution_count": null,
   "metadata": {},
   "outputs": [],
   "source": [
    "# pandas의 plot.pie()를 사용해서 파이 그래프 그리기\n",
    "# 서울시, 경기도의 차이를 확인하기 어려워서 막대 그래프가 더 보기 편함\n",
    "# seaborn에서는 pie chart의 모호함 때문에 pie chart를 만들 계획이 없다고 함\n",
    "city_normalize.plot.pie(figsize=(7, 7))"
   ]
  },
  {
   "cell_type": "markdown",
   "metadata": {},
   "source": [
    "### 1.11.4 seaborn으로 빈도수 시각화 하기\n",
    "- seaborn과 matplotlib으로 빈도수 시각화\n",
    "- 장점 : 고급 통계 기능을 그래프 내부에서 제공\n",
    "- 단점 : 데이터가 클수록 속도가 느림\n",
    "- seaborn은 대체로 x, y, data를 기본으로 넣어줘야 하지만 countplot은 x, y 중 하나만 넣어도 됨"
   ]
  },
  {
   "cell_type": "markdown",
   "metadata": {},
   "source": [
    "### 핵심 키워드\n",
    "- countplot\n",
    "- seaborn\n",
    "- value_counts\n",
    "- df.plot.bar\n",
    "- df.plot.barh"
   ]
  },
  {
   "cell_type": "code",
   "execution_count": null,
   "metadata": {},
   "outputs": [],
   "source": [
    "# seaborn의 countplot으로 그려보기\n",
    "# 그래프 설명이 뜨지 않게 하려면 변수에 담기\n",
    "plt.figure(figsize=(7,5))  # seaborn의 figsize 조절\n",
    "c = sns.countplot(data=df, y=\"시도명\")  # value_counts를 알아서 적용함"
   ]
  },
  {
   "cell_type": "code",
   "execution_count": null,
   "metadata": {},
   "outputs": [],
   "source": [
    "# \"상권업종대분류명\"의 데이터 값 당 개수를 세어보기\n",
    "df[\"상권업종대분류명\"].value_counts()"
   ]
  },
  {
   "cell_type": "code",
   "execution_count": null,
   "metadata": {},
   "outputs": [],
   "source": [
    "# \"상권업종중분류명\"으로 개수 세어보기\n",
    "c = df[\"상권업종중분류명\"].value_counts()\n",
    "c"
   ]
  },
  {
   "cell_type": "code",
   "execution_count": null,
   "metadata": {},
   "outputs": [],
   "source": [
    "# normalize=True를 사용해 전체 대비 비율 구하기\n",
    "n = df[\"상권업종중분류명\"].value_counts(normalize=True)\n",
    "n"
   ]
  },
  {
   "cell_type": "code",
   "execution_count": null,
   "metadata": {},
   "outputs": [],
   "source": [
    "# pandas의 plot.bar()를 사용해서 막대 그래프 그리기\n",
    "# rot : label 값 회전\n",
    "n.plot.bar(rot=0)  # rot=0: 그래프의 글자를 수평으로 만듦"
   ]
  },
  {
   "cell_type": "code",
   "execution_count": null,
   "metadata": {},
   "outputs": [],
   "source": [
    "# pandas의 plot.pie()를 사용해서 파이 그래프 그리기\n",
    "n.plot.pie()"
   ]
  },
  {
   "cell_type": "code",
   "execution_count": null,
   "metadata": {},
   "outputs": [],
   "source": [
    "# \"상권업종소분류명\"에 대한 그룹화된 값을 카운트하기\n",
    "c = df[\"상권업종소분류명\"].value_counts()\n",
    "c"
   ]
  },
  {
   "cell_type": "code",
   "execution_count": null,
   "metadata": {},
   "outputs": [],
   "source": [
    "# pandas의 plot.bar()를 사용해서 막대 그래프 그리기\n",
    "# grid : 격자 표시\n",
    "c.plot.barh(figsize=(7, 8), grid=True)"
   ]
  },
  {
   "cell_type": "markdown",
   "metadata": {},
   "source": [
    "## 1.12 데이터 색인하기\n",
    "- 특정 데이터만 모아서 따로 보기"
   ]
  },
  {
   "cell_type": "markdown",
   "metadata": {},
   "source": [
    "## 핵심 키워드\n",
    "- ==\n",
    "- loc\n",
    "- boolean indexing\n",
    "- True/False\n",
    "- &, |"
   ]
  },
  {
   "cell_type": "code",
   "execution_count": null,
   "metadata": {},
   "outputs": [],
   "source": [
    "# \"상권업종중분류명\"이 \"약국/한약방\"인 데이터만 가져오기\n",
    "# df_medical 변수에 담고, head()로 미리보기\n",
    "# copy : 다른 목적으로 사용한다면 copy()를 해야 warning이 뜨지 않거나 원본에 영향을 미치지 않음\n",
    "df_medical = df[df[\"상권업종중분류명\"] == \"약국/한약방\"].copy()\n",
    "df_medical.head(1)"
   ]
  },
  {
   "cell_type": "markdown",
   "metadata": {},
   "source": [
    "### 2개의 조건 사용하기"
   ]
  },
  {
   "cell_type": "code",
   "execution_count": null,
   "metadata": {},
   "outputs": [],
   "source": [
    "# \"상권업종대분류명\"이 \"의료\"인 데이터에서 \"상권업종중분류명\"을 가져오기\n",
    "# 가져온 결과를 value_counts를 통해 중분류의 개수를 세어보기\n",
    "# df.loc를 사용하면 행, 열을 함께 가져올 수 있음\n",
    "df.loc[df[\"상권업종대분류명\"] == \"의료\", \"상권업종중분류명\"].value_counts()\n",
    "\n",
    "# 아래 코드는 dataframe에 2번 접근해서 가져오기 때문에 속도가 약간 느림\n",
    "# df[df[\"상권업종대분류명\"] == \"의료\"][\"상권업종중분류명\"].value_counts()\n"
   ]
  },
  {
   "cell_type": "code",
   "execution_count": null,
   "metadata": {},
   "outputs": [],
   "source": [
    "# 위와 똑같은 기능을 수행하는 코드(boolean indexing 사용)\n",
    "m = df[\"상권업종대분류명\"] == \"의료\"\n",
    "df.loc[m, \"상권업종중분류명\"].value_counts()"
   ]
  },
  {
   "cell_type": "code",
   "execution_count": null,
   "metadata": {},
   "outputs": [],
   "source": [
    "# 유사의료업만 따로 모으기\n",
    "df_medi = df[df[\"상권업종중분류명\"] == \"유사의료업\"]\n",
    "df_medi.shape"
   ]
  },
  {
   "cell_type": "code",
   "execution_count": null,
   "metadata": {},
   "outputs": [],
   "source": [
    "# 상호명을 그룹화해서 개수 세기\n",
    "# value_counts를 사용해서 상위 10개를 출력하기\n",
    "df[\"상호명\"].value_counts().head(10)"
   ]
  },
  {
   "cell_type": "code",
   "execution_count": null,
   "metadata": {},
   "outputs": [],
   "source": [
    "# 유사의료업만 df_medi 변수에 담기\n",
    "# df_medi 변수에서 상호명으로 개수 세고 상위 10개를 출력하기\n",
    "df_medi[\"상호명\"].value_counts().head(10)"
   ]
  },
  {
   "cell_type": "markdown",
   "metadata": {},
   "source": [
    "### 1.12.1 여러 조건으로 색인하기\n",
    "- 연산자 우선순위에 의해 각 조건에 ()를 걸어줌\n",
    "- and는 &, or은 |를 사용하여 조건을 정해줌"
   ]
  },
  {
   "cell_type": "code",
   "execution_count": null,
   "metadata": {},
   "outputs": [],
   "source": [
    "# \"상권업종소분류명\"이 \"약국\"인 것과\n",
    "# \"시도명\"이 \"서울특별시\"인 데이터만 가져오기\n",
    "df_seoul_drug = df[(df[\"상권업종소분류명\"] == \"약국\") & (df[\"시도명\"] == \"서울특별시\")]\n",
    "print(df_seoul_drug.shape)\n",
    "df_seoul_drug.head(1)"
   ]
  },
  {
   "cell_type": "code",
   "execution_count": null,
   "metadata": {},
   "outputs": [],
   "source": [
    "# 지번주소 중 원하는 텍스트가 들어간 데이터만 추출하는방법\n",
    "df[df[\"지번주소\"].str.contains(\"서초구\")].head(1)"
   ]
  },
  {
   "cell_type": "markdown",
   "metadata": {},
   "source": [
    "### 1.12.2 구별로 보기"
   ]
  },
  {
   "cell_type": "code",
   "execution_count": null,
   "metadata": {},
   "outputs": [],
   "source": [
    "# 위에서 색인한 데이터를 \"시군구명\"으로 그룹화해서 개수 세기\n",
    "# 구별로 약국이 몇 개가 있는지 확인하기\n",
    "c = df_seoul_drug[\"시군구명\"].value_counts()\n",
    "c.head()"
   ]
  },
  {
   "cell_type": "code",
   "execution_count": null,
   "metadata": {},
   "outputs": [],
   "source": [
    "# normalize=True를 통해 비율 구하기\n",
    "n = df_seoul_drug[\"시군구명\"].value_counts(normalize=True)\n",
    "n.head()"
   ]
  },
  {
   "cell_type": "code",
   "execution_count": null,
   "metadata": {},
   "outputs": [],
   "source": [
    "# pandas의 plot.bar()를 활용해 막대 그래프 그리기\n",
    "c.plot.bar(rot=60)"
   ]
  },
  {
   "cell_type": "code",
   "execution_count": null,
   "metadata": {},
   "outputs": [],
   "source": [
    "# 서울시의 종합병원만 분석하기\n",
    "# \"상권업종소분류명\"이 \"종합병원\"인 것과\n",
    "# \"시도명\"이 \"서울특별시\"인 데이터를 가져와 df_seoul_hospital에 할당해서 재사용하기\n",
    "df_seoul_hospital = df[(df[\"상권업종소분류명\"] == \"종합병원\") & (df[\"시도명\"] == \"서울특별시\")].copy()\n",
    "df_seoul_hospital.head(1)"
   ]
  },
  {
   "cell_type": "code",
   "execution_count": null,
   "metadata": {},
   "outputs": [],
   "source": [
    "# \"시군구명\"으로 그룹화해서 구별로 종합병원의 수 세어보기\n",
    "df_seoul_hospital[\"시군구명\"].value_counts().head()"
   ]
  },
  {
   "cell_type": "markdown",
   "metadata": {},
   "source": [
    "### 1.12.3 텍스트 데이터 색인하기"
   ]
  },
  {
   "cell_type": "code",
   "execution_count": null,
   "metadata": {},
   "outputs": [],
   "source": [
    "# 색인하기 전에 상호명 중 종합병원이 없는 데이터를 중복없이 가져오기\n",
    "# ~ : 조건이 False인 것을 가져옴\n",
    "df_seoul_hospital.loc[~df_seoul_hospital[\"상호명\"].str.contains(\"종합병원\"), \"상호명\"].unique()"
   ]
  },
  {
   "cell_type": "markdown",
   "metadata": {},
   "source": [
    "### 제거할 데이터 지정하기"
   ]
  },
  {
   "cell_type": "code",
   "execution_count": null,
   "metadata": {},
   "outputs": [],
   "source": [
    "# 상호명에서 특정 단어가 들어가는 데이터만 가져오기 - 꽃배달\n",
    "df_seoul_hospital[df_seoul_hospital[\"상호명\"].str.contains(\"꽃배달\")].head(1)"
   ]
  },
  {
   "cell_type": "code",
   "execution_count": null,
   "metadata": {},
   "outputs": [],
   "source": [
    "# 특정 단어가 들어가는 데이터만 가져오기 - 의료기\n",
    "df_seoul_hospital[df_seoul_hospital[\"상호명\"].str.contains(\"의료기\")].head()"
   ]
  },
  {
   "cell_type": "code",
   "execution_count": null,
   "metadata": {},
   "outputs": [],
   "source": [
    "# \"꽃배달|의료기|장례식장|상담소|어린이집\"은 종합병원과 무관하기 때문에\n",
    "# 전처리를 위해 해당 텍스트를 한 번에 검색하기\n",
    "# 제거할 데이터의 인덱스만 drop_row에 담아주고 list 형태로 변환하기\n",
    "# .index : 해당 row의 index만 가져옴\n",
    "drop_row = df_seoul_hospital[df_seoul_hospital[\"상호명\"].str.contains(\"꽃배달|의료기|장례식장|상담소|어린이집\")].index\n",
    "drop_row = drop_row.tolist()\n",
    "drop_row"
   ]
  },
  {
   "cell_type": "code",
   "execution_count": null,
   "metadata": {},
   "outputs": [],
   "source": [
    "# 의원으로 끝나는 데이터도 종합병원으로 볼 수 없기 때문에 인덱스를 찾아서\n",
    "# drop_row2에 담아주고 list 형태로 변환하기\n",
    "# endswith(\"문자열\") : 해당 문자열로 끝나는 것\n",
    "drop_row2 = df_seoul_hospital[df_seoul_hospital[\"상호명\"].str.endswith(\"의원\")].index\n",
    "drop_row2 = drop_row2.tolist()\n",
    "drop_row2"
   ]
  },
  {
   "cell_type": "code",
   "execution_count": null,
   "metadata": {},
   "outputs": [],
   "source": [
    "# 삭제할 행을 drop_row에 합치기\n",
    "drop_row = drop_row + drop_row2\n",
    "len(drop_row)"
   ]
  },
  {
   "cell_type": "code",
   "execution_count": null,
   "metadata": {},
   "outputs": [],
   "source": [
    "# 해당 셀을 삭제하고 삭제 전과 후의 행의 개수를 비교하기\n",
    "# drop()에서는 drop_row에 들어있는 index 번호에 해당하는 행을 제거하고\n",
    "# 다시 df_seoul_hospital에 넣어서 전체 데이터를 업데이트\n",
    "print(len(df_seoul_hospital))\n",
    "df_seoul_hospital = df_seoul_hospital.drop(drop_row, axis=0)\n",
    "print(len(df_seoul_hospital))"
   ]
  },
  {
   "cell_type": "code",
   "execution_count": null,
   "metadata": {},
   "outputs": [],
   "source": [
    "# pandas의 plot으로 막대 그래프 그리기\n",
    "df_seoul_hospital[\"시군구명\"].value_counts().plot.bar()\n"
   ]
  },
  {
   "cell_type": "code",
   "execution_count": null,
   "metadata": {},
   "outputs": [],
   "source": [
    "# 시군구명에 따라 종합병원의 숫자를 seaborn의 countplot으로 그리기\n",
    "plt.figure(figsize=(15, 4))\n",
    "sns.countplot(data=df_seoul_hospital, x=\"시군구명\", order=df_seoul_hospital[\"시군구명\"].value_counts().index)"
   ]
  },
  {
   "cell_type": "code",
   "execution_count": null,
   "metadata": {},
   "outputs": [],
   "source": [
    "df_seoul_hospital[\"상호명\"].unique()"
   ]
  },
  {
   "cell_type": "markdown",
   "metadata": {},
   "source": [
    "- 전처리를 위해서 특정 지역에 데이터가 많이 치우쳐져 있는지 확인하고, 종합병원이 아닌 데이터를 제거하는 과정을 거침\n",
    "- 전처리는 데이터 분석 과정에서 시간이 많이 걸리고, 지루할 수 있는 부분임"
   ]
  },
  {
   "cell_type": "markdown",
   "metadata": {},
   "source": [
    "### 1.12.4 특정 지역만 보기"
   ]
  },
  {
   "cell_type": "markdown",
   "metadata": {},
   "source": [
    "### 핵심 키워드\n",
    "- scatter plot : 수치형 데이터가 어디 좌표에 위치하는지 출력할 때 주로 이용\n",
    "- 보통 상관계수, 회귀선을 출력하는데 사용하는데, 지리 데이터에서도 사용이 가능함"
   ]
  },
  {
   "cell_type": "code",
   "execution_count": null,
   "metadata": {},
   "outputs": [],
   "source": [
    "# 서울에 있는 데이터의 위도와 경도를 보기\n",
    "# 결과를 df_seoul이라는 dataframe에 저장하기\n",
    "# 새로운 변수에 dataframe을 저장 시 copy()를 사용\n",
    "df_seoul = df[df[\"시도명\"] == \"서울특별시\"].copy()\n",
    "df_seoul.shape"
   ]
  },
  {
   "cell_type": "code",
   "execution_count": null,
   "metadata": {},
   "outputs": [],
   "source": [
    "# 서울시의 구에 얼마나 많은 가게가 있는지 파악하기\n",
    "df_seoul[\"시군구명\"].value_counts().head()"
   ]
  },
  {
   "cell_type": "code",
   "execution_count": null,
   "metadata": {},
   "outputs": [],
   "source": [
    "# pandas plot의 막대 그래프로 시군구명 시각화하기\n",
    "df_seoul[\"시군구명\"].value_counts().plot.bar(figsize=(10, 4), rot=30)"
   ]
  },
  {
   "cell_type": "code",
   "execution_count": null,
   "metadata": {},
   "outputs": [],
   "source": [
    "# 시군구명을 seaborn의 countplot으로 그리기\n",
    "plt.figure(figsize=(15, 4))\n",
    "sns.countplot(data=df_seoul, x=\"시군구명\")"
   ]
  },
  {
   "cell_type": "code",
   "execution_count": null,
   "metadata": {},
   "outputs": [],
   "source": [
    "# matplotlib의 plot.scatter를 통해 경도와 위도를 표시하기\n",
    "df_seoul[[\"경도\", \"위도\", \"시군구명\"]].plot.scatter(x=\"경도\", y=\"위도\", figsize=(8, 7), grid=True)"
   ]
  },
  {
   "cell_type": "code",
   "execution_count": null,
   "metadata": {},
   "outputs": [],
   "source": [
    "# seaborn의 scatterplot을 통해 구별 경도와 위도를 표시하기\n",
    "# hue : 시군구별로 다른 색상을 적용\n",
    "plt.figure(figsize=(9, 8))\n",
    "sns.scatterplot(data=df_seoul, x=\"경도\", y=\"위도\", hue=\"시군구명\")"
   ]
  },
  {
   "cell_type": "code",
   "execution_count": null,
   "metadata": {},
   "outputs": [],
   "source": [
    "# seaborn의 scatterplot을 통해 \"상권업종중분류명\" 경도와 위도를 표시하기\n",
    "plt.figure(figsize=(9, 8))\n",
    "sns.scatterplot(data=df_seoul, x=\"경도\", y=\"위도\", hue=\"상권업종중분류명\")"
   ]
  },
  {
   "cell_type": "code",
   "execution_count": null,
   "metadata": {},
   "outputs": [],
   "source": [
    "# seaborn의 scatterplot을 통해 전국 데이터(df)로 구별 경도와 위도를 표시하기\n",
    "# scatter plot은 데이터가 어디쯤에 위치하는지를 나타냈지만, 정확한 위치를 알기는 어려움\n",
    "plt.figure(figsize=(10, 10))\n",
    "sns.scatterplot(data=df, x=\"경도\", y=\"위도\", hue=\"시도명\")"
   ]
  },
  {
   "cell_type": "markdown",
   "metadata": {},
   "source": [
    "## 1.13 Folium으로 지도 활용하기\n",
    "- `conda install -c conda-forge folium`으로 folium 설치\n",
    "- Folium map에 직관적으로 지역 표시하기"
   ]
  },
  {
   "cell_type": "markdown",
   "metadata": {},
   "source": [
    "### 핵심 키워드\n",
    "- folium\n",
    "- Map\n",
    "- Marker"
   ]
  },
  {
   "cell_type": "markdown",
   "metadata": {},
   "source": [
    "### 1.13.1 Folium 사용예제\n",
    "- http://nbviewer.jupyter.org/github/python-visualization/folium/tree/master/examples/\n",
    "- https://nbviewer.org/github/python-visualization/folium/blob/main/examples/Quickstart.ipynb"
   ]
  },
  {
   "cell_type": "code",
   "execution_count": null,
   "metadata": {},
   "outputs": [],
   "source": [
    "# 아나콘다에서 folium을 사용하기 위해서는 별도의 설치가 필요\n",
    "# https://anaconda.org/conda-forge/folium\n",
    "# 지도 시각화를 위한 라이브러리\n",
    "import folium\n",
    "\n",
    "# folium.Map만 찍으면 세계지도가 나옴\n",
    "# folium.Map()\n",
    "\n",
    "# 지도 저장\n",
    "# m.save('index.html')  # html 파일로 저장"
   ]
  },
  {
   "cell_type": "code",
   "execution_count": null,
   "metadata": {},
   "outputs": [],
   "source": [
    "# 지도의 중심을 지정하기 위해 위도와 경도의 평균을 구하기\n",
    "df_seoul_hospital[\"위도\"].mean()\n",
    "df_seoul_hospital[\"경도\"].mean()"
   ]
  },
  {
   "cell_type": "code",
   "execution_count": null,
   "metadata": {},
   "outputs": [],
   "source": [
    "# tiles : 테마 설정\n",
    "map = folium.Map(tiles=\"Stamen Toner\")\n",
    "map"
   ]
  },
  {
   "cell_type": "code",
   "execution_count": null,
   "metadata": {},
   "outputs": [],
   "source": [
    "df_seoul_hospital.tail(1)"
   ]
  },
  {
   "cell_type": "code",
   "execution_count": null,
   "metadata": {},
   "outputs": [],
   "source": [
    "# location과 zoom_start로 위치를 설정할 수 있음\n",
    "# tooltip : 마커에 마우스를 올릴시 표현될 문구\n",
    "# popup : 마커 클릭시 표현될 문구\n",
    "map = folium.Map(location=[df_seoul_hospital[\"위도\"].mean(), df_seoul_hospital[\"경도\"].mean()], zoom_start=12)\n",
    "\n",
    "# 함수를 통해 마커와 팝업 설정\n",
    "for n in df_seoul_hospital.index:\n",
    "    name = df_seoul_hospital.loc[n, \"상호명\"]  # loc : 행 기준으로 데이터 가져옴\n",
    "    address = df_seoul_hospital.loc[n, \"도로명주소\"]\n",
    "    popup = f\"{name}-{address}\"\n",
    "    location = [df_seoul_hospital.loc[n, \"위도\"], df_seoul_hospital.loc[n, \"경도\"]]\n",
    "    folium.Marker(\n",
    "        location = location,\n",
    "        popup = popup,\n",
    "    ).add_to(map)\n",
    "map"
   ]
  },
  {
   "cell_type": "markdown",
   "metadata": {},
   "source": [
    "- 서울 외곽에 갈수록 종합병원 수가 적다는 것을 알 수 있음"
   ]
  },
  {
   "cell_type": "markdown",
   "metadata": {},
   "source": [
    "## 1.14 자율주제를 세우고 직접 분석해 보세요.\n",
    "- 상권업종중분류명, 상권업종소분류명 중에 관심 있는 분류명을 색인 후에 시도별, 시군구별 분석하기\n",
    "- 예시\n",
    "    - 언어치료는 시군구별로 어디에 많이 위치할까?\n",
    "    - 의료시설은 서울과 강남에 집중되어 있을까?\n",
    "    - 강남에는 피부과, 성형외과가 다른 지역에 비해 많을까?"
   ]
  }
 ],
 "metadata": {
  "kernelspec": {
   "display_name": "Python 3.7.10 ('AI_exam')",
   "language": "python",
   "name": "python3"
  },
  "language_info": {
   "codemirror_mode": {
    "name": "ipython",
    "version": 3
   },
   "file_extension": ".py",
   "mimetype": "text/x-python",
   "name": "python",
   "nbconvert_exporter": "python",
   "pygments_lexer": "ipython3",
   "version": "3.7.13"
  },
  "orig_nbformat": 4,
  "vscode": {
   "interpreter": {
    "hash": "c4542eabbf237886ddbfc4b03920dae9795823cec85ea13af7528167bd142d90"
   }
  }
 },
 "nbformat": 4,
 "nbformat_minor": 2
}
