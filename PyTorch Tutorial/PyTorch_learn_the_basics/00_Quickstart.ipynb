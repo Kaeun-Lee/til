{
 "cells": [
  {
   "cell_type": "markdown",
   "metadata": {},
   "source": [
    "### 1. 데이터 작업하기"
   ]
  },
  {
   "cell_type": "code",
   "execution_count": 2,
   "metadata": {},
   "outputs": [],
   "source": [
    "import torch\n",
    "from torch import nn\n",
    "from torch.utils.data import DataLoader\n",
    "from torchvision import datasets\n",
    "from torchvision.transforms import ToTensor, Lambda, Compose\n",
    "import matplotlib.pyplot as plt"
   ]
  },
  {
   "cell_type": "code",
   "execution_count": 3,
   "metadata": {},
   "outputs": [],
   "source": [
    "# 공개 데이터셋에서 학습 데이터를 내려받기\n",
    "training_data = datasets.FashionMNIST(\n",
    "    root=\"data\",\n",
    "    train=True,\n",
    "    download=False,\n",
    "    transform=ToTensor(),\n",
    ")\n",
    "\n",
    "# 공개 데이터셋에서 테스트 데이터를 내려받기\n",
    "test_data = datasets.FashionMNIST(\n",
    "    root=\"data\",\n",
    "    train=False,\n",
    "    download=False,\n",
    "    transform=ToTensor(),\n",
    ")"
   ]
  },
  {
   "cell_type": "code",
   "execution_count": 4,
   "metadata": {},
   "outputs": [
    {
     "name": "stdout",
     "output_type": "stream",
     "text": [
      "Dataset FashionMNIST\n",
      "    Number of datapoints: 60000\n",
      "    Root location: data\n",
      "    Split: Train\n",
      "    StandardTransform\n",
      "Transform: ToTensor() \n",
      "\n",
      "Dataset FashionMNIST\n",
      "    Number of datapoints: 10000\n",
      "    Root location: data\n",
      "    Split: Test\n",
      "    StandardTransform\n",
      "Transform: ToTensor()\n"
     ]
    }
   ],
   "source": [
    "print(training_data, '\\n')\n",
    "print(test_data)"
   ]
  },
  {
   "cell_type": "code",
   "execution_count": 5,
   "metadata": {},
   "outputs": [
    {
     "name": "stdout",
     "output_type": "stream",
     "text": [
      "Shape of X [N, C, H, W]:  torch.Size([64, 1, 28, 28])\n",
      "Shape of y:  torch.Size([64]) torch.int64\n",
      "Example of y:  tensor([9, 2, 1, 1, 6, 1, 4, 6, 5, 7, 4, 5, 7, 3, 4, 1, 2, 4, 8, 0, 2, 5, 7, 9,\n",
      "        1, 4, 6, 0, 9, 3, 8, 8, 3, 3, 8, 0, 7, 5, 7, 9, 6, 1, 3, 7, 6, 7, 2, 1,\n",
      "        2, 2, 4, 4, 5, 8, 2, 2, 8, 4, 8, 0, 7, 7, 8, 5])\n"
     ]
    }
   ],
   "source": [
    "batch_size = 64\n",
    "\n",
    "# 데이터로더 생성\n",
    "train_dataloader = DataLoader(training_data, batch_size=batch_size)\n",
    "test_dataloader = DataLoader(test_data, batch_size=batch_size)\n",
    "\n",
    "for X, y in test_dataloader:\n",
    "\tprint(\"Shape of X [N, C, H, W]: \", X.shape)\n",
    "\tprint(\"Shape of y: \", y.shape, y.dtype)\n",
    "\tprint(\"Example of y: \", y)\n",
    "\tbreak  # 하나의 데이터만 추출"
   ]
  },
  {
   "cell_type": "markdown",
   "metadata": {},
   "source": [
    "### 2. 모델 만들기\n",
    "- \\_\\_init\\_\\_ 함수 : 신경망 layer 정의\n",
    "- forward 함수 : 신경망에 데이터를 어떻게 전달할지 지정"
   ]
  },
  {
   "cell_type": "code",
   "execution_count": 13,
   "metadata": {},
   "outputs": [
    {
     "name": "stdout",
     "output_type": "stream",
     "text": [
      "Using cpu device\n",
      "NeuralNetwork(\n",
      "  (flatten): Flatten(start_dim=1, end_dim=-1)\n",
      "  (linear_relu_stack): Sequential(\n",
      "    (0): Linear(in_features=784, out_features=512, bias=True)\n",
      "    (1): ReLU()\n",
      "    (2): Linear(in_features=512, out_features=512, bias=True)\n",
      "    (3): ReLU()\n",
      "    (4): Linear(in_features=512, out_features=10, bias=True)\n",
      "  )\n",
      ")\n"
     ]
    }
   ],
   "source": [
    "# 학습에 사용할 CPU나 GPU 장치 얻기\n",
    "device = \"cuda\" if torch.cuda.is_available() else \"cpu\"\n",
    "print(f\"Using {device} device\")\n",
    "\n",
    "# 모델 정의\n",
    "class NeuralNetwork(nn.Module):\n",
    "\tdef __init__(self):\n",
    "\t\tsuper(NeuralNetwork, self).__init__()  # super()로 기반 클래스의 __init__ 메서드 호출\n",
    "\t\tself.flatten = nn.Flatten()\n",
    "\t\tself.linear_relu_stack = nn.Sequential(\n",
    "\t\t\tnn.Linear(28*28, 512),\n",
    "            nn.ReLU(),\n",
    "            nn.Linear(512, 512),\n",
    "            nn.ReLU(),\n",
    "            nn.Linear(512, 10)\n",
    "\t\t)\n",
    "\n",
    "\tdef forward(self, x):\n",
    "\t\tx = self.flatten(x)\n",
    "\t\tlogits = self.linear_relu_stack(x)\n",
    "\t\treturn logits\n",
    "\n",
    "model = NeuralNetwork().to(device)\n",
    "print(model)"
   ]
  },
  {
   "cell_type": "markdown",
   "metadata": {},
   "source": [
    "### 3. 모델 매개변수 최적화하기"
   ]
  },
  {
   "cell_type": "code",
   "execution_count": 14,
   "metadata": {},
   "outputs": [],
   "source": [
    "loss_fn = nn.CrossEntropyLoss()\n",
    "optimizer = torch.optim.SGD(model.parameters(), lr=1e-3)"
   ]
  },
  {
   "cell_type": "code",
   "execution_count": 15,
   "metadata": {},
   "outputs": [],
   "source": [
    "def train(dataloader, model, loss_fn, optimizer):\n",
    "\tsize = len(dataloader.dataset)  \t\t     # 60,000\n",
    "\tfor batch, (X, y) in enumerate(dataloader):  # range(938)(=math.ceil(600000/64))\n",
    "\t\tX, y = X.to(device), y.to(device)\n",
    "\n",
    "\t\t# 예측 오류 계산\n",
    "\t\tpred = model(X)\n",
    "\t\tloss = loss_fn(pred, y)\n",
    "\n",
    "\t\t# 역전파\n",
    "\t\toptimizer.zero_grad()\n",
    "\t\tloss.backward()\n",
    "\t\toptimizer.step()\n",
    "\n",
    "\t\tif batch % 100 == 0:\n",
    "\t\t\tloss, current = loss.item(), batch * len(X)  # len(X) : 64\n",
    "\t\t\tprint(f\"loss: {loss:>7f} [{current:>5d}/{size:>5d}]\")"
   ]
  },
  {
   "cell_type": "code",
   "execution_count": 54,
   "metadata": {},
   "outputs": [],
   "source": [
    "def test(dataloader, model, loss_fn):\n",
    "\tsize = len(dataloader.dataset)   # 10,000\n",
    "\tnum_batches = len(dataloader)    # 157(=math.ceil(10000/64))\n",
    "\ttest_loss, correct = 0, 0\n",
    "\twith torch.no_grad():\n",
    "\t\tfor X, y in dataloader:      # range(157)\n",
    "\t\t\tX, y = X.to(device), y.to(device)\n",
    "\t\t\tpred = model(X)\n",
    "\t\t\ttest_loss += loss_fn(pred, y).item()\n",
    "\t\t\tcorrect += (pred.argmax(1) == y).type(torch.float).sum().item()  # batch 내에 있는 모든 샘플들의 정답 일치 여부 확인      \n",
    "\ttest_loss /= num_batches\n",
    "\tcorrect /= size\n",
    "\tprint(f\"Test Error: \\n Accuracy: {(100*correct):>0.1f}%, Avg loss:{test_loss:>8f} \\n\")"
   ]
  },
  {
   "cell_type": "markdown",
   "metadata": {},
   "source": [
    "#### ★ test 코드 부연 설명"
   ]
  },
  {
   "cell_type": "code",
   "execution_count": 16,
   "metadata": {},
   "outputs": [],
   "source": [
    "# device = torch.device(\"cuda\")\n",
    "\n",
    "def test(dataloader, model, loss_fn):\n",
    "    number_of_samples = len(dataloader.dataset)\n",
    "    number_of_batches = len(dataloader)\n",
    "    \n",
    "    list_of_average_batch_loss = []\n",
    "    number_of_correct_predictions = 0\n",
    "    \n",
    "    with torch.no_grad():\n",
    "        for batch_input, batch_label in dataloader:\n",
    "            batch_input, batch_label = batch_input.to(device), batch_label.to(device)\n",
    "            batch_prediction = model(batch_input)\n",
    "            \n",
    "            #★ Batch 안에 있는 각 sample data들의 loss를 구하고, 그 평균값을 average_loss_of_current_batch에 저장\n",
    "            average_loss_of_current_batch = loss_fn(batch_prediction, batch_label).item()\n",
    "            \n",
    "            #★ 이번 batch에 있는 데이터들에 대해서 평균을 한 loss들을 list에 저장\n",
    "            list_of_average_batch_loss.append(average_loss_of_current_batch)\n",
    "            \n",
    "            is_correct_prediction = (batch_prediction.argmax(dim=1)==batch_label)\n",
    "            number_of_correct_predictions += is_correct_prediction.sum().item()\n",
    "            \n",
    "    #★ 평균 batch loss들을 모아 놓은 list에 대해 다시 평균하면, 전체 데이터들을 한 번에 평균 낸 것과 동일 = test_loss\n",
    "    average_loss_of_all_data = sum(list_of_average_batch_loss) / number_of_batches\n",
    "    ratio_of_correct_predictions = number_of_correct_predictions / number_of_samples\n",
    "            "
   ]
  },
  {
   "cell_type": "code",
   "execution_count": 17,
   "metadata": {},
   "outputs": [
    {
     "name": "stdout",
     "output_type": "stream",
     "text": [
      "Epoch 1\n",
      "------------------------------\n",
      "loss: 2.309907 [    0/60000]\n",
      "loss: 2.297539 [ 6400/60000]\n",
      "loss: 2.279222 [12800/60000]\n",
      "loss: 2.271118 [19200/60000]\n",
      "loss: 2.251609 [25600/60000]\n",
      "loss: 2.236799 [32000/60000]\n",
      "loss: 2.241691 [38400/60000]\n",
      "loss: 2.211391 [44800/60000]\n",
      "loss: 2.204928 [51200/60000]\n",
      "loss: 2.175111 [57600/60000]\n",
      "Done!\n"
     ]
    }
   ],
   "source": [
    "epochs= 5\n",
    "for t in range(epochs):\n",
    "\tprint(f\"Epoch {t+1}\\n------------------------------\")\n",
    "\ttrain(train_dataloader, model, loss_fn, optimizer)\n",
    "\ttest(test_dataloader, model, loss_fn)\n",
    "print(\"Done!\")"
   ]
  },
  {
   "cell_type": "markdown",
   "metadata": {},
   "source": [
    "### 4. 모델 저장하기"
   ]
  },
  {
   "cell_type": "code",
   "execution_count": 56,
   "metadata": {},
   "outputs": [
    {
     "name": "stdout",
     "output_type": "stream",
     "text": [
      "Saved PyTorch Model State to model.pth\n"
     ]
    }
   ],
   "source": [
    "torch.save(model.state_dict(), \"model.pth\")\n",
    "print(\"Saved PyTorch Model State to model.pth\")"
   ]
  },
  {
   "cell_type": "markdown",
   "metadata": {},
   "source": [
    "### 5. 모델 불러오기"
   ]
  },
  {
   "cell_type": "code",
   "execution_count": 57,
   "metadata": {},
   "outputs": [
    {
     "data": {
      "text/plain": [
       "<All keys matched successfully>"
      ]
     },
     "execution_count": 57,
     "metadata": {},
     "output_type": "execute_result"
    }
   ],
   "source": [
    "model = NeuralNetwork()\n",
    "model.load_state_dict(torch.load(\"model.pth\"))"
   ]
  },
  {
   "cell_type": "code",
   "execution_count": 98,
   "metadata": {},
   "outputs": [
    {
     "name": "stdout",
     "output_type": "stream",
     "text": [
      "Predicted: \"Ankle boot\", Actual: \"Ankle boot\"\n"
     ]
    }
   ],
   "source": [
    "classes = [\n",
    "\t\"T-shirt/top\",\n",
    "    \"Trouser\",\n",
    "    \"Pullover\",\n",
    "    \"Dress\",\n",
    "    \"Coat\",\n",
    "    \"Sandal\",\n",
    "    \"Shirt\",\n",
    "    \"Sneaker\",\n",
    "    \"Bag\",\n",
    "    \"Ankle boot\",\n",
    "]\n",
    "\n",
    "model.eval()\n",
    "x, y = test_data[0][0], test_data[0][1]\n",
    "with torch.no_grad():\n",
    "\tpred = model(x)  \n",
    "\tpredicted, actual = classes[pred[0].argmax(0)], classes[y]  \n",
    "\tprint(f'Predicted: \"{predicted}\", Actual: \"{actual}\"')"
   ]
  }
 ],
 "metadata": {
  "interpreter": {
   "hash": "49de8edb4a174572adfce8885130fd6486c82b1df7252289157b68155bf6ea64"
  },
  "kernelspec": {
   "display_name": "Python 3.7.10 ('AI_exam')",
   "language": "python",
   "name": "python3"
  },
  "language_info": {
   "codemirror_mode": {
    "name": "ipython",
    "version": 3
   },
   "file_extension": ".py",
   "mimetype": "text/x-python",
   "name": "python",
   "nbconvert_exporter": "python",
   "pygments_lexer": "ipython3",
   "version": "3.7.10"
  },
  "orig_nbformat": 4
 },
 "nbformat": 4,
 "nbformat_minor": 2
}
