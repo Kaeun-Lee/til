{
 "cells": [
  {
   "cell_type": "markdown",
   "metadata": {},
   "source": [
    "# 웹 API를 이용한 데이터 수집 방법"
   ]
  },
  {
   "cell_type": "markdown",
   "metadata": {},
   "source": [
    "## 01. 웹 API 사용 방법"
   ]
  },
  {
   "cell_type": "markdown",
   "metadata": {},
   "source": [
    "## 웹 API 란?"
   ]
  },
  {
   "cell_type": "markdown",
   "metadata": {},
   "source": [
    "웹 API(Wep Application Programming Interface)\n",
    "- 페이스북, 트위터, 유튜브 등의 SNS와 네이버, 카카오 등의 포털사이트는  \n",
    "  자사가 제공하는 서비스와 다른 회사나 다양한 기기들과 데이터를 공유하기 위해 API를 제공\n",
    "- 웹 API는 어떤 기기가 웹 서버에 데이터를 요청하면 웹서버가 다양한 형식  \n",
    "  (JSON, XML 등)으로 응답하는 방식으로 데이터를 주고 받음\n",
    "- 많은 웹 사이트들이 웹 API를 공개하고 있어, 웹 API를 통해 원하는 데이터를  \n",
    "  요청하여 가져올 수 있음\n",
    "    \n",
    "- 웹 사이트에서 어떤 API를 제공하는지를 정리한 사이트\n",
    " https://www.programmableweb.com/category/all/apis"
   ]
  },
  {
   "cell_type": "markdown",
   "metadata": {},
   "source": [
    "## 웹 API의 데이터 획득 과정"
   ]
  },
  {
   "cell_type": "markdown",
   "metadata": {},
   "source": [
    "### REST(Representational State Transfer) API"
   ]
  },
  {
   "cell_type": "markdown",
   "metadata": {},
   "source": [
    "- 웹 서비스가 웹 API를 지원하는 경우 대부분 REST API를 지원하는 것을 의미함\n",
    "- 이미 존재하고 있는 데이터를 공유하는데 이용\n",
    "- 데이터를 요청하고 응답한 후에는 연결이 끊어짐\n",
    "\n",
    "----요청(Request)---->  \n",
    "<--응답(Response)후 연결 닫음--"
   ]
  },
  {
   "cell_type": "markdown",
   "metadata": {},
   "source": [
    "### Streaming API"
   ]
  },
  {
   "cell_type": "markdown",
   "metadata": {},
   "source": [
    "- 향후 발생할 이벤트에 대해 등록해 놓고 그 이벤트가 발생하면 데이터를 갱신(update)\n",
    "  한 후 응답\n",
    "- 응답한 이후 강제로 연결이 끊기기 전까지는 연결을 계속 유지\n",
    "\n",
    "----요청(Request)---->  \n",
    "<--데이터 갱신 후 응답(Response)--  \n",
    "<--데이터 갱신 후 응답(Response)--  \n",
    "<--데이터 갱신 후 응답(Response)--  \n",
    "...  \n",
    "<--데이터 갱신 후 응답(Response)--"
   ]
  },
  {
   "cell_type": "markdown",
   "metadata": {},
   "source": [
    "## 02. 웹 API의 인증"
   ]
  },
  {
   "cell_type": "markdown",
   "metadata": {},
   "source": [
    "### 웹 API 인증 방식"
   ]
  },
  {
   "cell_type": "markdown",
   "metadata": {},
   "source": [
    "- 인증이 필요한 웹 API(이메일, 블로그 등)는 사용자를 인증하고 서비스를 이용  \n",
    "  할 수 있는 권한을 얻어야 함\n",
    "- 오늘날 주로 사용되는 인증방식(OAuth)에서는 API 키(Key)와 접속 토큰(Access Token),  \n",
    "  비밀번호를 이용해 애플리케이션 별로 인증을 수행하고 서비스를 이용\n",
    "- 이러한 인증 관련 정보를 얻기 위해 사용자는 서비스 제공 사이트에 사용자 등록 후  \n",
    "  웹 API별로 서비스를 신청해서 제공 받아야 함   \n",
    "(신청으로 생성된 인증 키와 접속 토큰, 비밀번호 등은 유일한 것으로 공개되어서는 안되며, 공개되었을 경우 재신청해야함)\n",
    "\n",
    "- 트위터 API에서 사용하는 API 키와 비밀번호, 접속 토큰과 비밀번호 예  \n",
    " - Consumer Key (API Key): L9WwxSUZXGt7vIXEiYmtIjcHQ  \n",
    " - Consumer Secret (API Secret): bjQrLuottDdpg94VWcG1I3LWXUYZNZnzCRE7KvFXR6hzuQcjOh   \n",
    " - Access Token: 503869961253584201-zsbIDKpTNdFCp5Q9JWYhi0MqtoTFqg2  \n",
    " - Access Token Secret: XuJ8EYgtim6wye7fYuTrQuY80x1TS2hhPHXAtMzeuPRsb"
   ]
  },
  {
   "cell_type": "markdown",
   "metadata": {},
   "source": [
    "## 03. 웹 API에 데이터 요청 및 응답 받기"
   ]
  },
  {
   "cell_type": "markdown",
   "metadata": {},
   "source": [
    "### 웹 API(REST API)에 접속해 데이터를 요청하고 응답받기"
   ]
  },
  {
   "cell_type": "markdown",
   "metadata": {},
   "source": [
    "- 웹 API의 경우 URL외에 API 키와 같은 매개변수를 추가해 데이터를 요청해야 함\n",
    "- requests 라이브러리를 사용\n",
    "- 웹사이트에 데이터 요청 : requests.get(\"웹사이트 주소\")"
   ]
  },
  {
   "cell_type": "markdown",
   "metadata": {},
   "source": [
    "## 04. 웹 API를 사용해 데이터 요청하기"
   ]
  },
  {
   "cell_type": "markdown",
   "metadata": {},
   "source": [
    "## 웹 사이트 주소에 부가정보 추가하기"
   ]
  },
  {
   "cell_type": "markdown",
   "metadata": {},
   "source": [
    "### 웹사이트 주소에 경로 추가하기"
   ]
  },
  {
   "cell_type": "code",
   "execution_count": 2,
   "metadata": {},
   "outputs": [
    {
     "name": "stdout",
     "output_type": "stream",
     "text": [
      "https://api.github.com/event\n",
      "https://api.github.com/user\n",
      "https://api.github.com/emails\n"
     ]
    }
   ],
   "source": [
    "# 기본 웹사이트 주소는 변하지 않고 하위 경로만 변할 때 사용\n",
    "\n",
    "import requests\n",
    "\n",
    "base_url = \"https://api.github.com/\"\n",
    "sub_dirs=[\"event\",\"user\",\"emails\"]\n",
    "\n",
    "for sub_dir in sub_dirs:\n",
    "    url_dir = base_url+sub_dir   \n",
    "    r = requests.get(url_dir)  # 요청한 주소에서 응답한 객체가 r에 저장됨\n",
    "    print(r.url)               # r.url 하면 응답객체의 url 주소를 반환"
   ]
  },
  {
   "cell_type": "markdown",
   "metadata": {},
   "source": [
    "### 웹 사이트 주소에 매개변수 추가하기"
   ]
  },
  {
   "cell_type": "markdown",
   "metadata": {},
   "source": [
    "- 웹 API에 데이터를 요청하기 위해 웹사이트 주소에 매개변수(지정된 키와 값으로 구성)  \n",
    "  를 추가하기도 함\n",
    "- 웹사이트 주소와 경로가 'http://abc.org/get' 지정된 키는 key, 값은 value일 경우\n",
    " - 데이터를 요청하기 위한 전체 URL은 'http://abc.org/get?key=value'가 됨\n",
    " - 전달하려는 매개변수가 2개 이상일 경우 &로 연결하여  \n",
    "    http://abc.org/get?key1=value1&key2=value2 로 생성"
   ]
  },
  {
   "cell_type": "markdown",
   "metadata": {},
   "source": [
    "### 요청 URL 생성 방법"
   ]
  },
  {
   "cell_type": "code",
   "execution_count": 3,
   "metadata": {},
   "outputs": [],
   "source": [
    "url ='http://abc.org/get'       # 웹 사이트 주소\n",
    "req_parameter = {'key1' : 'value1', 'key2' : 'value2'}\n",
    "# 딕셔너리 타입으로 키와 값을 params 인자를 사용해 전달\n",
    "\n",
    "r = requests.get(url,params=req_parameter)"
   ]
  },
  {
   "cell_type": "markdown",
   "metadata": {},
   "source": [
    "### 웹 사이트 주소에 매개변수 추가하기"
   ]
  },
  {
   "cell_type": "markdown",
   "metadata": {},
   "source": [
    "- 데이터 요청 시 필요한 요청 변수들은 웹 API마다 다름\n",
    "- 날씨 데이터를 제공하는 웹 API에 여러 매개변수(API키,위도,경도,단위의 키와 값)을\n",
    "  전달하기 위한 URL 생성 예"
   ]
  },
  {
   "cell_type": "code",
   "execution_count": 4,
   "metadata": {},
   "outputs": [
    {
     "name": "stdout",
     "output_type": "stream",
     "text": [
      "http://api.openweathermap.org/data/2.5/weather?lat=37.57&lon=126.98&appid=b235c57pc357fb68acrle81&units=metric\n"
     ]
    }
   ],
   "source": [
    "import requests\n",
    "\n",
    "LAT = '37.57'   # 위도\n",
    "LON = '126.98'  # 경도\n",
    "API_KEY = 'b235c57pc357fb68acrle81'  # API키(임의의 API키)\n",
    "UNIT = 'metric'  # 단위\n",
    "\n",
    "req_url = \"http://api.openweathermap.org/data/2.5/weather\"\n",
    "req_parameter = {'lat' : LAT, \"lon\" : LON, \"appid\" : API_KEY, \"units\" : UNIT}\n",
    "r= requests.get(req_url, params = req_parameter)\n",
    "print(r.url)"
   ]
  },
  {
   "cell_type": "markdown",
   "metadata": {},
   "source": [
    "## 05. 웹 사이트 주소 생성 시 주의할 점"
   ]
  },
  {
   "cell_type": "markdown",
   "metadata": {},
   "source": [
    "### URL 인코딩(URL encoding)"
   ]
  },
  {
   "cell_type": "markdown",
   "metadata": {},
   "source": [
    "- 요청주소와 요청 매개변수(params)를 분리해 'requests.get()'에 입력 시 주의\n",
    "\n",
    "- **URL 인코딩은 퍼센트 인코딩(Percent-encoding)**이라고도 함\n",
    "- URL에 사용하는 문자를 인코딩(다른 값으로 변환)하는 방법\n",
    "- URL 인코딩에서는 알파벳이나 숫자, 몇몇 기호를 제외한 나머지는 16진수 값으로\n",
    "  변환(인코딩)해 이용함  \n",
    "(예) '+'는 '%2B'로, '/'는 '%2F'로, '='는 '%3D')\n",
    "\n",
    "- requests.get(url, params=req_parameter)는 URL 인코딩이 자동으로 수행됨\n",
    " - 즉 **req_parameter로 들어가는 문자열**은 **인코딩되지 않은 문자열로 넣어야 함**\n",
    " - 그렇지 않을 경우 잘못 생성된 URL로 요청을 보냄"
   ]
  },
  {
   "cell_type": "markdown",
   "metadata": {},
   "source": [
    "### URL 디코딩(URL decoding)"
   ]
  },
  {
   "cell_type": "markdown",
   "metadata": {},
   "source": [
    "- 이미 URL 인코딩된 결과가 API 키 문자열로 제공되는 경우 인코딩된 API 키를 \n",
    "  원래의 API 키 문자열로 되돌리는 디코딩이 필요함\n",
    "- 'requests.utils.unquote()'를 이용"
   ]
  },
  {
   "cell_type": "code",
   "execution_count": 5,
   "metadata": {},
   "outputs": [
    {
     "name": "stdout",
     "output_type": "stream",
     "text": [
      "et5piq3pfpqLEWPpCbvtSQ+ertertg+x3evdvbaRBvhWEerg3efac2r3f3RfhDTERTw+ 9rkvoewRV/ovmrk3dq==\n"
     ]
    }
   ],
   "source": [
    "import requests\n",
    "\n",
    "API_KEY = \"et5piq3pfpqLEWPpCbvtSQ%2Bertertg%2Bx3evdvbaRBvhWEerg3efac2r3f3RfhDTERTw%2B 9rkvoewRV%2Fovmrk3dq%3D%3D\" \n",
    "# 제공된 API키가 퍼센트 되어 있음\n",
    "\n",
    "API_KEY_decode = requests.utils.unquote(API_KEY)\n",
    "# API키를 디코딩하여 원래의 문자열로 되돌림\n",
    "\n",
    "print(API_KEY_decode)"
   ]
  },
  {
   "cell_type": "markdown",
   "metadata": {},
   "source": [
    "## 06. 웹 API가 응답한 데이터 처리하기"
   ]
  },
  {
   "cell_type": "markdown",
   "metadata": {},
   "source": [
    "### 웹 API가 응답하는 데이터의 형식"
   ]
  },
  {
   "cell_type": "markdown",
   "metadata": {},
   "source": [
    "- 웹 API로 요청해서 응답받은 데이터 형식은 주로 JSON과 XML\n",
    "- JSON과 XML : 웹 서버에서 클라이언트로 데이터를 전달하기 위해 만든 구조화된 텍스트 형식\n",
    "- JSON과 XML 형식으로 받은 데이터로부터 원하는 데이터를 추출해서 사용"
   ]
  },
  {
   "cell_type": "markdown",
   "metadata": {},
   "source": [
    "### JSON(JavaScript Object Notation) 형식의 데이터 처리"
   ]
  },
  {
   "cell_type": "markdown",
   "metadata": {},
   "source": [
    "- JSON 형식의 데이터 : 하나의 데이터의 집합을 객체라고 하며 **{}**로 감싸 표현\n",
    " - **객체의 구성은 '이름':'값'으로 이루어진 쌍의 집합**\n",
    " - 각 쌍은, 콤마로 구분\n",
    " - 배열은 [] 대괄호 사용\n",
    " - {\"이름\":\"홍길동\",\"나이\":25, \"거주지\":\"서울\",\"신체정보\":{\"키\":175.4,\"몸무게\":71.2},\"취미\":[\"등산\",\"자전거타기\",\"독서\"]}  \n",
    " - **JSON 형식의 데이터는 공백이나 탭없이 알아보기 어려움**"
   ]
  },
  {
   "cell_type": "markdown",
   "metadata": {},
   "source": [
    "- 웹 API의 응답 데이터를 온라인 뷰어로 쉽게 보기  \n",
    " http://jsonviewer.stack.hu/\n",
    "\n",
    "방법\n",
    "- 1. 위 사이트에 들어간다\n",
    "- 2. JSON 형식의 데이터를 Text 탭에 복사해서 붙이기\n",
    "- 3. Viewer 탭에서 보기"
   ]
  },
  {
   "cell_type": "markdown",
   "metadata": {},
   "source": [
    "### JSON 형식의 데이터를 파이썬 데이터 타입으로 변환"
   ]
  },
  {
   "cell_type": "markdown",
   "metadata": {},
   "source": [
    "- 내장 라이브러리 json 사용\n",
    "- json.loads(json_data)  <- **json_data는 문자열 형식의 데이터**"
   ]
  },
  {
   "cell_type": "code",
   "execution_count": 6,
   "metadata": {},
   "outputs": [
    {
     "data": {
      "text/plain": [
       "{'이름': '홍길동',\n",
       " '나이': 25,\n",
       " '거주지': '서울',\n",
       " '신체정보': {'키': 175.4, '몸무게': 71.2},\n",
       " '취미': ['등산', '자전거타기', '독서']}"
      ]
     },
     "execution_count": 6,
     "metadata": {},
     "output_type": "execute_result"
    }
   ],
   "source": [
    "import json\n",
    "json_data='{\"이름\":\"홍길동\",\"나이\":25, \"거주지\":\"서울\",\"신체정보\":{\"키\":175.4,\"몸무게\":71.2},\"취미\":[\"등산\",\"자전거타기\",\"독서\"]}'\n",
    "# json 형식의 데이터는 문자열 데이터\n",
    "\n",
    "json_dict = json.loads(json_data)\n",
    "json_dict\n",
    "\n",
    "# {} 밖에 ' '를 쓰기 때문에 안에 string 데이터에는 ''가 아닌 \"\"로 써줘야 함"
   ]
  },
  {
   "cell_type": "markdown",
   "metadata": {},
   "source": [
    "### 원하는 데이터 추출"
   ]
  },
  {
   "cell_type": "code",
   "execution_count": 7,
   "metadata": {},
   "outputs": [
    {
     "data": {
      "text/plain": [
       "{'키': 175.4, '몸무게': 71.2}"
      ]
     },
     "execution_count": 7,
     "metadata": {},
     "output_type": "execute_result"
    }
   ],
   "source": [
    "json_dict['신체정보']"
   ]
  },
  {
   "cell_type": "code",
   "execution_count": 8,
   "metadata": {},
   "outputs": [
    {
     "data": {
      "text/plain": [
       "71.2"
      ]
     },
     "execution_count": 8,
     "metadata": {},
     "output_type": "execute_result"
    }
   ],
   "source": [
    "json_dict['신체정보']['몸무게']"
   ]
  },
  {
   "cell_type": "code",
   "execution_count": 9,
   "metadata": {},
   "outputs": [
    {
     "data": {
      "text/plain": [
       "['등산', '자전거타기', '독서']"
      ]
     },
     "execution_count": 9,
     "metadata": {},
     "output_type": "execute_result"
    }
   ],
   "source": [
    "json_dict['취미']"
   ]
  },
  {
   "cell_type": "markdown",
   "metadata": {},
   "source": [
    "### XML(eXtensible Markup Language) 형식의 데이터 처리"
   ]
  },
  {
   "cell_type": "markdown",
   "metadata": {},
   "source": [
    "- 마크업 언어: HTML과 같이 **태그(Tag)**를 이용해 문서나 데이터를 구조화하는 언어\n",
    "- XML은 정의된 규칙에 따라 자신이 태그를 정의하여 사용\n",
    "- **XML 형식의 데이터**"
   ]
  },
  {
   "cell_type": "code",
   "execution_count": null,
   "metadata": {},
   "outputs": [],
   "source": [
    "<?xml version = '1.0' encoding= \"UTF-8\"?>  # XML선언으로 xml문서에 대한 정보\n",
    "<사용자정보>\n",
    "    <이름>홍길동</이름>\n",
    "    <나이>25</나이>\n",
    "    <거주지>서울</거주지>\n",
    "    <신체정보>\n",
    "        <키 unit=\"cm\">175.4</키>\n",
    "        <몸무게 unit=\"kg\">71.2</몸무게>\n",
    "    </신체정보>\n",
    "    <취미>등산</취미>\n",
    "    <취미>자전거타기</취미>\n",
    "    <취미>독서</취미>\n",
    "</사용자정보>"
   ]
  },
  {
   "cell_type": "markdown",
   "metadata": {},
   "source": [
    "### XML 형식의 데이터를 파이썬 데이터 타입으로 변환"
   ]
  },
  {
   "cell_type": "markdown",
   "metadata": {},
   "source": [
    "- xmltodict 라이브러리 사용\n",
    "- 아나콘다에 포함되어 있지 않기 때문에 별도로 설치  \n",
    "(윈도우 시작메뉴 -> Anaconda->Anaconda Prompt 선택-> pip install xmltodict)"
   ]
  },
  {
   "cell_type": "markdown",
   "metadata": {},
   "source": [
    "- xmltodict.parse(): XML 형식의 데이터를 파이썬 딕셔너리 타입으로 변환  \n",
    "(xml_attribs : XML 형식의 데이터에서 속성을 처리할지(True), 무시할지(False))\n",
    "\n",
    "- xmltodict.parse(xml_input[, xml_attribs = True 혹은 False])"
   ]
  },
  {
   "cell_type": "code",
   "execution_count": 11,
   "metadata": {},
   "outputs": [
    {
     "name": "stdout",
     "output_type": "stream",
     "text": [
      "<?xml version = \"1.0\" encoding= \"UTF-8\"?>\n",
      "<사용자정보>\n",
      "    <이름>홍길동</이름>\n",
      "    <나이>25</나이>\n",
      "    <거주지>서울</거주지>\n",
      "    <신체정보>\n",
      "        <키 unit=\"cm\">175.4</키> \n",
      "        <몸무게 unit=\"kg\">71.2</몸무게>\n",
      "    </신체정보>\n",
      "</사용자정보>\n",
      "\n"
     ]
    }
   ],
   "source": [
    "xml_data =\"\"\"<?xml version = \"1.0\" encoding= \"UTF-8\"?>\n",
    "<사용자정보>\n",
    "    <이름>홍길동</이름>\n",
    "    <나이>25</나이>\n",
    "    <거주지>서울</거주지>\n",
    "    <신체정보>\n",
    "        <키 unit=\"cm\">175.4</키> \n",
    "        <몸무게 unit=\"kg\">71.2</몸무게>\n",
    "    </신체정보>\n",
    "</사용자정보>\n",
    "\"\"\"\n",
    "# 키는 태그, unit은 속성\n",
    "\n",
    "print(xml_data)"
   ]
  },
  {
   "cell_type": "code",
   "execution_count": 14,
   "metadata": {},
   "outputs": [
    {
     "data": {
      "text/plain": [
       "OrderedDict([('사용자정보',\n",
       "              OrderedDict([('이름', '홍길동'),\n",
       "                           ('나이', '25'),\n",
       "                           ('거주지', '서울'),\n",
       "                           ('신체정보',\n",
       "                            OrderedDict([('키',\n",
       "                                          OrderedDict([('@unit', 'cm'),\n",
       "                                                       ('#text', '175.4')])),\n",
       "                                         ('몸무게',\n",
       "                                          OrderedDict([('@unit', 'kg'),\n",
       "                                                       ('#text',\n",
       "                                                        '71.2')]))]))]))])"
      ]
     },
     "execution_count": 14,
     "metadata": {},
     "output_type": "execute_result"
    }
   ],
   "source": [
    "# 속성이 처리된 딕셔너리 데이터 @unit, #text\n",
    "import xmltodict\n",
    "\n",
    "dict_data = xmltodict.parse(xml_data, xml_attribs = True)\n",
    "dict_data\n",
    "\n",
    "# 순서가 있는 딕셔너리 데이터로(OrderedDict) [(키, 값),(키, 값)...]으로 저장됨"
   ]
  },
  {
   "cell_type": "code",
   "execution_count": 15,
   "metadata": {},
   "outputs": [
    {
     "data": {
      "text/plain": [
       "OrderedDict([('사용자정보',\n",
       "              OrderedDict([('이름', '홍길동'),\n",
       "                           ('나이', '25'),\n",
       "                           ('거주지', '서울'),\n",
       "                           ('신체정보',\n",
       "                            OrderedDict([('키', '175.4'),\n",
       "                                         ('몸무게', '71.2')]))]))])"
      ]
     },
     "execution_count": 15,
     "metadata": {},
     "output_type": "execute_result"
    }
   ],
   "source": [
    "# 속성이 무시된 딕셔너리 데이터 ('키', '175.4')\n",
    "import xmltodict\n",
    "\n",
    "dict_data = xmltodict.parse(xml_data, xml_attribs = False)\n",
    "dict_data"
   ]
  },
  {
   "cell_type": "markdown",
   "metadata": {},
   "source": [
    "### 원하는 데이터 추출"
   ]
  },
  {
   "cell_type": "code",
   "execution_count": 16,
   "metadata": {},
   "outputs": [
    {
     "data": {
      "text/plain": [
       "OrderedDict([('이름', '홍길동'),\n",
       "             ('나이', '25'),\n",
       "             ('거주지', '서울'),\n",
       "             ('신체정보', OrderedDict([('키', '175.4'), ('몸무게', '71.2')]))])"
      ]
     },
     "execution_count": 16,
     "metadata": {},
     "output_type": "execute_result"
    }
   ],
   "source": [
    "dict_data['사용자정보']"
   ]
  },
  {
   "cell_type": "code",
   "execution_count": 17,
   "metadata": {},
   "outputs": [
    {
     "data": {
      "text/plain": [
       "'홍길동'"
      ]
     },
     "execution_count": 17,
     "metadata": {},
     "output_type": "execute_result"
    }
   ],
   "source": [
    "dict_data['사용자정보']['이름']"
   ]
  },
  {
   "cell_type": "code",
   "execution_count": 18,
   "metadata": {},
   "outputs": [
    {
     "data": {
      "text/plain": [
       "OrderedDict([('키', '175.4'), ('몸무게', '71.2')])"
      ]
     },
     "execution_count": 18,
     "metadata": {},
     "output_type": "execute_result"
    }
   ],
   "source": [
    "dict_data['사용자정보']['신체정보']"
   ]
  },
  {
   "cell_type": "markdown",
   "metadata": {},
   "source": [
    "### 정리"
   ]
  },
  {
   "cell_type": "markdown",
   "metadata": {},
   "source": [
    "- URL 디코딩(URL decoding)\n",
    "    - API_KEY_decode = requests.utils.unquote(API_KEY) \n",
    "    - API키를 디코딩하여 원래의 문자열로 되돌림\n",
    "    \n",
    "\n",
    "- 웹 사이트 주소에 매개변수 추가하여 URL 생성하고 데이터 요청  \n",
    "    - 딕셔너리 타입으로 매개변수를 params 인자를 사용해 전달  \n",
    "import requests  \n",
    "r = requests.get(url,params=req_parameter) \n",
    "\n",
    "- JSON 형식의 데이터 처리  \n",
    "    - jason_data는 문자열 형식의 데이터  \n",
    "import json  \n",
    "json.loads(jason_data)  \n",
    "\n",
    "- XML 형식의 데이터 처리  \n",
    "import xmltodict  \n",
    "xmltodict.parse(xml_input[,xml_attribs=True 혹은 False])"
   ]
  }
 ],
 "metadata": {
  "kernelspec": {
   "display_name": "Python 3",
   "language": "python",
   "name": "python3"
  },
  "language_info": {
   "codemirror_mode": {
    "name": "ipython",
    "version": 3
   },
   "file_extension": ".py",
   "mimetype": "text/x-python",
   "name": "python",
   "nbconvert_exporter": "python",
   "pygments_lexer": "ipython3",
   "version": "3.7.6"
  }
 },
 "nbformat": 4,
 "nbformat_minor": 4
}
