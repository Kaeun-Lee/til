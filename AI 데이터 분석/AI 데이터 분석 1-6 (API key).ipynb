{
 "cells": [
  {
   "cell_type": "markdown",
   "metadata": {},
   "source": [
    "## API 키 인증이 있는 데이터 가져오기\n",
    "- 정부의 공공데이터 가져오기"
   ]
  },
  {
   "cell_type": "markdown",
   "metadata": {},
   "source": [
    "## 주소 및 우편번호 가져오기"
   ]
  },
  {
   "cell_type": "markdown",
   "metadata": {},
   "source": [
    "#### 1. API 서비스 사이트 회원 가입하기\n",
    "- 공공데이터 포털 사이트 :    \n",
    "    www.data.go.kr\n",
    "\n",
    "    \n",
    "#### 2. API 서비스 신청   \n",
    "- 로그인 후 오픈 APi 선택  \n",
    "    1. 데이터셋 > 오픈 API > 원하는 서비스(API) 선택 및 활용 신청\n",
    "\n",
    "    \n",
    "#### 3. 원하는 서비스(API) 선택 및 활용 신청  \n",
    "- API 활용 신청 완료  \n",
    "    - 자동 승인으로 키가 발급되는 경우 바로 API 서비스 이용 가능  \n",
    "    - 약 20~1시간 정도 지나서 API 접속 권한이 주어지는 경우도 있음\n",
    "    \n",
    "    \n",
    "#### 4. API 인증키 발급  \n",
    "- 1. 개발계정 상세보기 > 일반 인증키 받기\n",
    "-일반 인증키  \n",
    "(UTF-8)\tANAm6eOAvFN8QqxH%2FbK9Q1DlOXafhw8qG3rbMvMHHYQr8%2Brj3Schyp3eskwM82SVwRVNynVCiOr%2FhWrw3sCoNw%3D%3D  \n",
    "- 일반 인증키(UTF-8): 일반 인증키가 생성됨  \n",
    "- 참고 문서 : 명세서로 요청 주소, 요청 변수 등 세부 사항 알아보기\n",
    "    \n",
    "    \n",
    "#### 5. 원하는 서비스의 API 명세서 확인  \n",
    "원하는 데이터를 가져오기 위한 '요청주소' 확인(참고 문서 누르면 밑에 있음)  \n",
    "- 요청주소(Request URL)  \n",
    "- 호출 URL  \n",
    "http://openapi.epost.go.kr/postal/retrieveNewAdressAreaCdService/retrieveNewAdressAreaCdService/getNewAddressListAreaCd?ServiceKey=인증키&searchSe=road&srchwrd=세종로 17  \n",
    "- '?'전까지가 요청주소  \n",
    "http://openapi.epost.go.kr/postal/retrieveNewAdressAreaCdService/retrieveNewAdressAreaCdService/getNewAddressListAreaCd\n",
    "    \n",
    "    \n",
    "#### 6. 원하는 데이터를 가져오기 위한 '요청변수' 확인(참고 문서 누르면 있음)\n",
    "- 요청변수(Request Parameters)  \n",
    "\n",
    "항목명(영문) /  항목설명  \n",
    "searchSe   /   road: 도로명[default]  \n",
    "srchwrd    /   검색어\n",
    "\n",
    "\n",
    "#### 7. API 서비스 요청 URL 생성  \n",
    "요청 URL 생성 방법  \n",
    "- 사용예 : 도로명 주소인 '세종로 17'을 입력해서 데이터를 받으려면  \n",
    "    http://openapi.epost.go.kr/postal/retrieveNewAdressAreaCdService/retrieveNewAdressAreaCdService/getNewAddressListAreaCd?ServiceKey=인증키&searchSe=road&srchwrd=세종로17"
   ]
  },
  {
   "cell_type": "markdown",
   "metadata": {},
   "source": [
    "## 원하는 데이터 요청"
   ]
  },
  {
   "cell_type": "markdown",
   "metadata": {},
   "source": [
    "### 주소 및 우편변호 가져오기"
   ]
  },
  {
   "cell_type": "code",
   "execution_count": 1,
   "metadata": {},
   "outputs": [
    {
     "data": {
      "text/plain": [
       "'ANAm6eOAvFN8QqxH/bK9Q1DlOXafhw8qG3rbMvMHHYQr8+rj3Schyp3eskwM82SVwRVNynVCiOr/hWrw3sCoNw=='"
      ]
     },
     "execution_count": 1,
     "metadata": {},
     "output_type": "execute_result"
    }
   ],
   "source": [
    "# 인증키 디코딩\n",
    "import requests\n",
    "\n",
    "API_KEY =\"ANAm6eOAvFN8QqxH%2FbK9Q1DlOXafhw8qG3rbMvMHHYQr8%2Brj3Schyp3eskwM82SVwRVNynVCiOr%2FhWrw3sCoNw%3D%3D\"\n",
    "# 공공데이터 포탈사이트 자신의 개발계정 상세보기에 나타난 인증키\n",
    "# API_KEY = 자신의 인증키를 복사해서 입력\n",
    "\n",
    "API_KEY_decode = requests.utils.unquote(API_KEY)\n",
    "# % 인코딩이 되어있는 형태이므로 디코딩 해야 함\n",
    "API_KEY_decode"
   ]
  },
  {
   "cell_type": "code",
   "execution_count": 2,
   "metadata": {},
   "outputs": [
    {
     "data": {
      "text/plain": [
       "'<?xml version=\"1.0\" encoding=\"UTF-8\" standalone=\"yes\"?><NewAddressListResponse><cmmMsgHeader><requestMsgId></requestMsgId><responseMsgId></responseMsgId><responseTime>20201106:163731684</responseTime><successYN>Y</successYN><returnCode>00</returnCode><errMsg></errMsg><totalCount>1</totalCount><countPerPage>10</countPerPage><totalPage>1</totalPage><currentPage></currentPage></cmmMsgHeader><newAddressListAreaCd><zipNo>06978</zipNo><lnmAdres>서울특별시 동작구 상도로 369 (상도동, 숭실대학교)</lnmAdres><rnAdres>서울특별시 동작구 상도동 511 숭실대학교</rnAdres><bdMgtSn>1159010200105110000020269</bdMgtSn></newAddressListAreaCd></NewAddressListResponse>'"
      ]
     },
     "execution_count": 2,
     "metadata": {},
     "output_type": "execute_result"
    }
   ],
   "source": [
    "# 요청 URL 생성\n",
    "req_url = \"http://openapi.epost.go.kr/postal/retrieveNewAdressAreaCdService/retrieveNewAdressAreaCdService/getNewAddressListAreaCd\"\n",
    "\n",
    "search_Se= \"road\"\n",
    "srch_wrd = \"상도로 369\"\n",
    "\n",
    "parameter = {\"ServiceKey\":API_KEY_decode,\"searchSe\":search_Se,\"srchwrd\":srch_wrd}\n",
    "\n",
    "r=requests.get(req_url,params=parameter)\n",
    "r.text\n",
    "\n",
    "# API가 XML 형식으로 응답"
   ]
  },
  {
   "cell_type": "markdown",
   "metadata": {},
   "source": [
    "## 데이터 타입 변환"
   ]
  },
  {
   "cell_type": "markdown",
   "metadata": {},
   "source": [
    "### 주소 및 우편번호 가져오기"
   ]
  },
  {
   "cell_type": "code",
   "execution_count": 3,
   "metadata": {},
   "outputs": [
    {
     "data": {
      "text/plain": [
       "OrderedDict([('NewAddressListResponse',\n",
       "              OrderedDict([('cmmMsgHeader',\n",
       "                            OrderedDict([('requestMsgId', None),\n",
       "                                         ('responseMsgId', None),\n",
       "                                         ('responseTime',\n",
       "                                          '20201106:163731684'),\n",
       "                                         ('successYN', 'Y'),\n",
       "                                         ('returnCode', '00'),\n",
       "                                         ('errMsg', None),\n",
       "                                         ('totalCount', '1'),\n",
       "                                         ('countPerPage', '10'),\n",
       "                                         ('totalPage', '1'),\n",
       "                                         ('currentPage', None)])),\n",
       "                           ('newAddressListAreaCd',\n",
       "                            OrderedDict([('zipNo', '06978'),\n",
       "                                         ('lnmAdres',\n",
       "                                          '서울특별시 동작구 상도로 369 (상도동, 숭실대학교)'),\n",
       "                                         ('rnAdres',\n",
       "                                          '서울특별시 동작구 상도동 511 숭실대학교'),\n",
       "                                         ('bdMgtSn',\n",
       "                                          '1159010200105110000020269')]))]))])"
      ]
     },
     "execution_count": 3,
     "metadata": {},
     "output_type": "execute_result"
    }
   ],
   "source": [
    "# XML 형식 데이터 딕셔너리 데이터 타입으로 변환\n",
    "import xmltodict\n",
    "\n",
    "dict_data=xmltodict.parse(r.text)  # XML 형식 데이터를 딕셔너리 데이터 타입으로 변환\n",
    "dict_data"
   ]
  },
  {
   "cell_type": "code",
   "execution_count": 4,
   "metadata": {},
   "outputs": [
    {
     "name": "stdout",
     "output_type": "stream",
     "text": [
      "[입력한 도로명 주소] 상도로 369\n",
      "[응답 데이터에서 추출한 결과]\n",
      "- 우편번호: 06978\n",
      "- 도로명 주소: 서울특별시 동작구 상도로 369 (상도동, 숭실대학교)\n",
      "- 지번 주소: 서울특별시 동작구 상도동 511 숭실대학교\n"
     ]
    }
   ],
   "source": [
    "# 딕셔너리 데이터로부터 원하는 데이터 추출\n",
    "adress_list= dict_data['NewAddressListResponse']['newAddressListAreaCd']\n",
    "\n",
    "print(\"[입력한 도로명 주소]\",srch_wrd)\n",
    "print(\"[응답 데이터에서 추출한 결과]\")\n",
    "print(\"- 우편번호:\", adress_list['zipNo'])\n",
    "print(\"- 도로명 주소:\", adress_list['lnmAdres'])\n",
    "print(\"- 지번 주소:\", adress_list['rnAdres'])\n"
   ]
  },
  {
   "cell_type": "code",
   "execution_count": 5,
   "metadata": {},
   "outputs": [
    {
     "data": {
      "text/plain": [
       "OrderedDict([('zipNo', '06978'),\n",
       "             ('lnmAdres', '서울특별시 동작구 상도로 369 (상도동, 숭실대학교)'),\n",
       "             ('rnAdres', '서울특별시 동작구 상도동 511 숭실대학교'),\n",
       "             ('bdMgtSn', '1159010200105110000020269')])"
      ]
     },
     "execution_count": 5,
     "metadata": {},
     "output_type": "execute_result"
    }
   ],
   "source": [
    "adress_list"
   ]
  },
  {
   "cell_type": "markdown",
   "metadata": {},
   "source": [
    "## 대기 오염 정보 가져오기"
   ]
  },
  {
   "cell_type": "markdown",
   "metadata": {},
   "source": [
    "### API 서비스 신청 및 승인"
   ]
  },
  {
   "cell_type": "markdown",
   "metadata": {},
   "source": [
    "#### 대기 오염 정보 가져오기  \n",
    "\n",
    "- 동일한 방법으로 오픈 API에서 원하는 서비스(API)선택  \n",
    "    -> 원하는 서비스 활용 신청  \n",
    "    -> API 활용신청 후 승인 확인 : 마이페이지 > 개발계정  \n",
    "    -> API 인증키 발급(일반 인증키(일반 인증키 생성됨),  \n",
    "    참고문서(명세서로 요청 주소, 요청 변수 등 세부 사항 알아보기))  \n",
    "    \n",
    "    \n",
    "- API 명세서 확인\n",
    "    - 요청주소(Request URL)(13쪽)    \n",
    "        URL end-point : http://openapi.airkorea.or.kr/openapi/services/rest/ArpltnInforInqireSvc/getMsrstnAcctoRltmMesureDnsty\n",
    "    \n",
    "    - 요청변수(13쪽)  \n",
    "        항목명(영문)   샘플데이터  \n",
    "        ServiceKey     aAb12…..%30  \n",
    "        numOfRows         10  \n",
    "        pageNo             1  \n",
    "        stationName       종로구  \n",
    "        dataTerm          DAILY  \n",
    "        ver                1.0"
   ]
  },
  {
   "cell_type": "markdown",
   "metadata": {},
   "source": [
    "### API 서비스 요청 URL 생성"
   ]
  },
  {
   "cell_type": "markdown",
   "metadata": {},
   "source": [
    "#### 미세먼지 경보 정보 가져오기\n",
    "- 요청 URL 생성 방법(15쪽)\n",
    "  - 사용예:  측정소명이 종로구인 실시간 측정 정보(버전1.3)를 JSON 형식으로 받고 싶으면  \n",
    "http://openapi.airkorea.or.kr/openapi/services/rest/ArpltnInforInqireSvc/getMsrstnAcctoRltmMesureDnsty?stationName=종로구&dataTerm=month&pageNo=1&numOfRows=10&ServiceKey=서비스키&ver=1.3"
   ]
  },
  {
   "cell_type": "markdown",
   "metadata": {},
   "source": [
    "### 원하는 데이터 요청"
   ]
  },
  {
   "cell_type": "code",
   "execution_count": 7,
   "metadata": {},
   "outputs": [
    {
     "data": {
      "text/plain": [
       "'ANAm6eOAvFN8QqxH/bK9Q1DlOXafhw8qG3rbMvMHHYQr8+rj3Schyp3eskwM82SVwRVNynVCiOr/hWrw3sCoNw=='"
      ]
     },
     "execution_count": 7,
     "metadata": {},
     "output_type": "execute_result"
    }
   ],
   "source": [
    "# 인증키 디코딩\n",
    "import requests\n",
    "\n",
    "API_KEY=\"ANAm6eOAvFN8QqxH%2FbK9Q1DlOXafhw8qG3rbMvMHHYQr8%2Brj3Schyp3eskwM82SVwRVNynVCiOr%2FhWrw3sCoNw%3D%3D\"\n",
    "# 자신의 인증키를 복사해서 입력(공공데이터 포탈사이트 자신의 개발계정에 상세보기에 나타난 인증키)\n",
    "\n",
    "API_KEY_decode = requests.utils.unquote(API_KEY) # % 인코딩되어 있는 형태이므로 디코딩해야 함\n",
    "API_KEY_decode\n",
    "# 디코딩된 자신의 인증키 생성, url 생성시 사용"
   ]
  },
  {
   "cell_type": "code",
   "execution_count": 9,
   "metadata": {
    "scrolled": true
   },
   "outputs": [
    {
     "data": {
      "text/plain": [
       "{'_returnType': 'json',\n",
       " 'coGrade': '1',\n",
       " 'coValue': '0.4',\n",
       " 'dataTerm': '',\n",
       " 'dataTime': '2020-11-06 16:00',\n",
       " 'khaiGrade': '2',\n",
       " 'khaiValue': '66',\n",
       " 'mangName': '도시대기',\n",
       " 'no2Grade': '2',\n",
       " 'no2Value': '0.032',\n",
       " 'numOfRows': '10',\n",
       " 'o3Grade': '1',\n",
       " 'o3Value': '0.026',\n",
       " 'pageNo': '1',\n",
       " 'pm10Grade': '2',\n",
       " 'pm10Grade1h': '2',\n",
       " 'pm10Value': '31',\n",
       " 'pm10Value24': '43',\n",
       " 'pm25Grade': '2',\n",
       " 'pm25Grade1h': '2',\n",
       " 'pm25Value': '16',\n",
       " 'pm25Value24': '22',\n",
       " 'resultCode': '',\n",
       " 'resultMsg': '',\n",
       " 'rnum': 0,\n",
       " 'serviceKey': '',\n",
       " 'sidoName': '',\n",
       " 'so2Grade': '1',\n",
       " 'so2Value': '0.005',\n",
       " 'stationCode': '',\n",
       " 'stationName': '',\n",
       " 'totalCount': '',\n",
       " 'ver': ''}"
      ]
     },
     "execution_count": 9,
     "metadata": {},
     "output_type": "execute_result"
    }
   ],
   "source": [
    "# 요청 URL 생성하여 JSON 형식의 데이터 요청하고 딕셔너리 데이터로 변환\n",
    "\n",
    "req_url=\" http://openapi.airkorea.or.kr/openapi/services/rest/ArpltnInforInqireSvc/getMsrstnAcctoRltmMesureDnsty\"\n",
    "station_name = \"동작구\"\n",
    "data_term= \"DAILY\"\n",
    "num_of_rows= 10\n",
    "page_no= 1\n",
    "version = 1.3\n",
    "output_type = \"json\"\n",
    "\n",
    "parameter={\"ServiceKey\":API_KEY_decode, \"stationName\":station_name,\"dataTerm\":data_term,\"ver\":version,\"pageNo\":page_no,\"numOfRows\":num_of_rows,\"_returnType\":output_type}\n",
    "   # JSON 형식으로 데이터를 가져올 경우 &_returnType = json을 url에 추가해야 함(명세서12쪽)\n",
    "  # ※ JSON 방식 호출 방법 : 호출 시 다음의 파라미터(&_returnType=json)를 추가하여 호출\n",
    "        \n",
    "dict_data=requests.get(req_url,params=parameter).json() # JSON 형식의 데이터를 딕셔너리 데이터로 변환\n",
    "dict_data['list'][0] # dict_data의 가장 최신 시각 정보를 가져옴"
   ]
  },
  {
   "cell_type": "code",
   "execution_count": null,
   "metadata": {},
   "outputs": [],
   "source": [
    "# 요청 URL 생성하여 JSON 형식의 데이터 요청\n",
    "'dataTime': '2020-01-20 17:00' -- 측정시각\n",
    "'khaiGrade': '2'  -- 통합대기환경 등급\n",
    "'pm10Grade1h': '2',  -- 미세먼지 등급\n",
    "'pm25Grade1h': '2',  -- 초미세먼지 등급"
   ]
  },
  {
   "cell_type": "code",
   "execution_count": 12,
   "metadata": {},
   "outputs": [
    {
     "name": "stdout",
     "output_type": "stream",
     "text": [
      "[동작구]에서 측정된 대기 오염 상태\n",
      "- 측정 시간 :2020-11-06 16:00\n",
      "- 미세먼지:보통, 초미세먼지:보통, 통합대기환경:보통\n"
     ]
    }
   ],
   "source": [
    "# 필요 데이터 가져오기\n",
    "\n",
    "dataTime=dict_data['list'][0]['dataTime']\n",
    "\n",
    "미세먼지 = dict_data['list'][0]['pm10Grade1h'] # 1~4 사이의 미세먼지 등급\n",
    "초미세먼지 = dict_data['list'][0]['pm25Grade1h'] # 1~4 사이의 초미세먼지 등급\n",
    "통합대기환경 = dict_data['list'][0]['khaiGrade'] # 1~4 사이의 통합대기환경 등급\n",
    "\n",
    "grade = {\"1\":\"좋음\",\"2\":\"보통\",\"3\":\"나쁨\",\"4\":\"매우나쁨\"}\n",
    "\n",
    "print(\"[{}]에서 측정된 대기 오염 상태\".format(station_name))  # station_name =\"동작구\" url 생성시 생성한 변수\n",
    "print(\"- 측정 시간 :{}\".format(dataTime))\n",
    "print(\"- 미세먼지:{}, 초미세먼지:{}, 통합대기환경:{}\".format(grade[미세먼지],grade[초미세먼지],grade[통합대기환경]))\n"
   ]
  }
 ],
 "metadata": {
  "kernelspec": {
   "display_name": "Python 3",
   "language": "python",
   "name": "python3"
  },
  "language_info": {
   "codemirror_mode": {
    "name": "ipython",
    "version": 3
   },
   "file_extension": ".py",
   "mimetype": "text/x-python",
   "name": "python",
   "nbconvert_exporter": "python",
   "pygments_lexer": "ipython3",
   "version": "3.7.6"
  }
 },
 "nbformat": 4,
 "nbformat_minor": 4
}
