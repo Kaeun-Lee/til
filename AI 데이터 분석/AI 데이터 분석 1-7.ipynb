{
 "cells": [
  {
   "cell_type": "markdown",
   "metadata": {},
   "source": [
    "# 지도학습 알고리즘의 이해"
   ]
  },
  {
   "cell_type": "markdown",
   "metadata": {},
   "source": [
    "## 머신러닝의 지도학습"
   ]
  },
  {
   "cell_type": "markdown",
   "metadata": {},
   "source": [
    "- '학습할 데이터와 명시적인 정답(레이블)을 이용'해 데이터의 특성과  \n",
    "    분포를 학습하여 새로운 데이터에 대해 '미래결과를 예측'하는 방법\n",
    "    \n",
    "\n",
    "- **분류(Classification)**\n",
    "  - k-최근접 이웃 알고리즘\n",
    "  - 서포트 벡터 머신\n",
    "  - 의사결정트리\n",
    "  - 랜덤포레스트\n",
    "  - 나이브 베이즈\n",
    "  \n",
    "  \n",
    "- **회귀(Regrssion)**\n",
    "  - 선형회귀\n",
    "  - 로지스틱 회귀"
   ]
  },
  {
   "cell_type": "markdown",
   "metadata": {},
   "source": [
    "## 분류 - K-최근접 이웃 알고리즘"
   ]
  },
  {
   "cell_type": "markdown",
   "metadata": {},
   "source": [
    "- k-Nearest Neighbors 알고리즘\n",
    "    - 이웃: 가까이 존재하는 데이터들을 의미\n",
    "    - 기존의 데이터 안에서 현재 데이터로부터 가까운 k개의 데이터를 찾아  \n",
    "     k개의 레이블 중 가장 많이 분류된 값으로 분류하는 알고리즘\n",
    "    - K : 최근접 점(일반적으로 홀수로 정함)    \n",
    "\n",
    "\n",
    "- 최근접점 찾기\n",
    "    - 피타고라스 정리를 이용"
   ]
  },
  {
   "cell_type": "markdown",
   "metadata": {},
   "source": [
    "## 분류 - 서포트 벡터 머신의 이해"
   ]
  },
  {
   "cell_type": "markdown",
   "metadata": {},
   "source": [
    "- Support Vector Machine\n",
    "    - 서로 다른 분류 값을 결정하는 경계선(결정 경계선 decision boundary)을  \n",
    "    결정하는 알고리즘\n",
    "    - 벡터의 의미 : 2차원 공간 상에 나타난 데이터 포인트\n",
    "    - 서포트 벡터 : 결정경계선과 가장 가까이 맞닿은 데이터 포인트\n",
    "    - 마진(margin) : 서포트 벡터와 결정 경계 사이의 거리\n",
    "    \n",
    "    \n",
    "- SVM의 목표 : 마진을 최대로 하는 결정 경계를 찾는 것  \n",
    " (마진이 클수록 알지 못하는 새로운 데이터에 대해 안정적으로 분류할 가능성이 높음)\n",
    "    - 마진을 최대로 하는 결정 경계는 학습 단계를 통해 발견\n",
    "\n",
    "\n",
    "벡터 공간을 N차원의 데이터 벡터공간이라 한다면,  \n",
    "결정 경계 = N-1 차원.\n"
   ]
  },
  {
   "cell_type": "markdown",
   "metadata": {},
   "source": [
    "### 커널 트릭"
   ]
  },
  {
   "cell_type": "markdown",
   "metadata": {},
   "source": [
    "- 저차원 벡터 공간 데이터(1차원)를 고차원 벡터 공간(2차원)으로 옮김\n",
    "    - 저차원일 때 정하기 힘들었던 결정 경계선을 정할 수 있게됨"
   ]
  },
  {
   "cell_type": "markdown",
   "metadata": {},
   "source": [
    "### 파라메터 최적화"
   ]
  },
  {
   "cell_type": "markdown",
   "metadata": {},
   "source": [
    "#### 마진을 얼마나 할 것인가?\n",
    "- 비용(Cost): 마진조절 변수\n",
    " - 비용이 작을수록 마진 너비가 넓어짐\n",
    "\n",
    "- 마진을 크게 할 경우 학습 시 에러율이 높음\n",
    "\n",
    "#### 마진을 얼마나 할 것인가?\n",
    "- 비용(Cost): 마진조절 변수\n",
    " -- 비용이 클수록 마진 너비가 좁아짐\n",
    "\n",
    "- 마진을 작게 할 경우 학습 시 에러율은 낮음\n",
    "- But, 학습되지 않은 데이터는 에러가 발생 될 가능성이 있음"
   ]
  },
  {
   "cell_type": "markdown",
   "metadata": {},
   "source": [
    "- 감마(Gamma)\n",
    "    - 학습 데이터 포인트들이 결정 경계에 영향을 끼치는 범위를  \n",
    "    조절해주는 변수\n",
    "    - 감마 값이 크면 많은 데이터 포인트들이 가까이 있는 것으로 고려되어  \n",
    "    결정 경계가 작아지고 구부러짐  \n",
    "(감마 값이 작으면 데이터 포인트들이 멀리 분포되어 있는 것으로 고려돼\n",
    "결정 경계가 완만해짐)\n",
    "    \n",
    "**비용(Cost)와 감마(gamma) 수치를 조정하면 정확도를 높일 수 있음**"
   ]
  },
  {
   "cell_type": "markdown",
   "metadata": {},
   "source": [
    "# Scikit-Learn 라이브러리를 이용한 지도학습 예제"
   ]
  },
  {
   "cell_type": "markdown",
   "metadata": {},
   "source": [
    "## NBA 농구선수의 게임 데이터를 활용한 포지션 예측"
   ]
  },
  {
   "cell_type": "markdown",
   "metadata": {},
   "source": [
    "## Scikit-learn 라이브러리"
   ]
  },
  {
   "cell_type": "markdown",
   "metadata": {},
   "source": [
    "- Scikit-learn(사이킷 런)은 대표적인 머신러닝 라이브러리\n",
    "    - 분류, 회귀, 클러스터링 등 다양한 알고리즘 제공\n",
    "\n",
    "\n",
    "- Scikit-learn 홈페이지:  https://scikit-learn.org/ \n",
    "- 아나콘다 배포판에 포함돼 있음"
   ]
  },
  {
   "cell_type": "markdown",
   "metadata": {},
   "source": [
    "### 데이터 획득"
   ]
  },
  {
   "cell_type": "markdown",
   "metadata": {},
   "source": [
    "- NBA 농구선수들의 게임 기록 데이터\n",
    "(https://www.basketball-reference.com/leagues/NBA_2019_per_game.html)\n",
    "- 파일명 : basketball_state.csv\n",
    "    \n",
    "#### NBA 농구선수들의 게임 기록 데이터 200개 항목\n",
    "\n",
    "Player Pos\n",
    "- 선수이름, 포지션\n",
    "\n",
    "3P  \n",
    "- 한 경기 평균 3점 슛 성공 횟수\n",
    "\n",
    "TRB \n",
    "- 한 경기 리바운드 성공 횟수\n",
    "\n",
    "BLK \n",
    "- 한 경기 블로킹 성공 횟수"
   ]
  },
  {
   "cell_type": "markdown",
   "metadata": {},
   "source": [
    "### basketball_stat.csv 파일의 데이터를 DataFrame으로 불러오기"
   ]
  },
  {
   "cell_type": "code",
   "execution_count": 9,
   "metadata": {},
   "outputs": [
    {
     "data": {
      "text/html": [
       "<div>\n",
       "<style scoped>\n",
       "    .dataframe tbody tr th:only-of-type {\n",
       "        vertical-align: middle;\n",
       "    }\n",
       "\n",
       "    .dataframe tbody tr th {\n",
       "        vertical-align: top;\n",
       "    }\n",
       "\n",
       "    .dataframe thead th {\n",
       "        text-align: right;\n",
       "    }\n",
       "</style>\n",
       "<table border=\"1\" class=\"dataframe\">\n",
       "  <thead>\n",
       "    <tr style=\"text-align: right;\">\n",
       "      <th></th>\n",
       "      <th>Player</th>\n",
       "      <th>Pos</th>\n",
       "      <th>3P</th>\n",
       "      <th>2P</th>\n",
       "      <th>TRB</th>\n",
       "      <th>AST</th>\n",
       "      <th>STL</th>\n",
       "      <th>BLK</th>\n",
       "    </tr>\n",
       "  </thead>\n",
       "  <tbody>\n",
       "    <tr>\n",
       "      <th>0</th>\n",
       "      <td>Alex Abrines</td>\n",
       "      <td>SG</td>\n",
       "      <td>1.3</td>\n",
       "      <td>0.5</td>\n",
       "      <td>1.5</td>\n",
       "      <td>0.6</td>\n",
       "      <td>0.5</td>\n",
       "      <td>0.2</td>\n",
       "    </tr>\n",
       "    <tr>\n",
       "      <th>1</th>\n",
       "      <td>Steven Adams</td>\n",
       "      <td>C</td>\n",
       "      <td>0.0</td>\n",
       "      <td>6.0</td>\n",
       "      <td>9.5</td>\n",
       "      <td>1.6</td>\n",
       "      <td>1.5</td>\n",
       "      <td>1.0</td>\n",
       "    </tr>\n",
       "    <tr>\n",
       "      <th>2</th>\n",
       "      <td>Bam Adebayo</td>\n",
       "      <td>C</td>\n",
       "      <td>0.0</td>\n",
       "      <td>3.4</td>\n",
       "      <td>7.3</td>\n",
       "      <td>2.2</td>\n",
       "      <td>0.9</td>\n",
       "      <td>0.8</td>\n",
       "    </tr>\n",
       "    <tr>\n",
       "      <th>3</th>\n",
       "      <td>DeVaughn Akoon-Purcell</td>\n",
       "      <td>SG</td>\n",
       "      <td>0.0</td>\n",
       "      <td>0.4</td>\n",
       "      <td>0.6</td>\n",
       "      <td>0.9</td>\n",
       "      <td>0.3</td>\n",
       "      <td>0.0</td>\n",
       "    </tr>\n",
       "    <tr>\n",
       "      <th>4</th>\n",
       "      <td>LaMarcus Aldridge</td>\n",
       "      <td>C</td>\n",
       "      <td>0.1</td>\n",
       "      <td>8.3</td>\n",
       "      <td>9.2</td>\n",
       "      <td>2.4</td>\n",
       "      <td>0.5</td>\n",
       "      <td>1.3</td>\n",
       "    </tr>\n",
       "  </tbody>\n",
       "</table>\n",
       "</div>"
      ],
      "text/plain": [
       "                   Player Pos   3P   2P  TRB  AST  STL  BLK\n",
       "0            Alex Abrines  SG  1.3  0.5  1.5  0.6  0.5  0.2\n",
       "1            Steven Adams   C  0.0  6.0  9.5  1.6  1.5  1.0\n",
       "2             Bam Adebayo   C  0.0  3.4  7.3  2.2  0.9  0.8\n",
       "3  DeVaughn Akoon-Purcell  SG  0.0  0.4  0.6  0.9  0.3  0.0\n",
       "4       LaMarcus Aldridge   C  0.1  8.3  9.2  2.4  0.5  1.3"
      ]
     },
     "execution_count": 9,
     "metadata": {},
     "output_type": "execute_result"
    }
   ],
   "source": [
    "import pandas as pd\n",
    "\n",
    "df = pd.read_csv(r'C:\\Users\\user\\Documents\\주피터노트북\\data\\basketball_stat.csv')\n",
    "data_df = df[0:100]  # 슬라이싱\n",
    "data_df.head()  # 5줄만 불러옴"
   ]
  },
  {
   "cell_type": "markdown",
   "metadata": {},
   "source": [
    "## 데이터 나누기"
   ]
  },
  {
   "cell_type": "markdown",
   "metadata": {},
   "source": [
    "### 머신러닝 모델을 학습할 데이터 셋과 테스트할 데이터 셋으로 나누기"
   ]
  },
  {
   "cell_type": "code",
   "execution_count": 23,
   "metadata": {},
   "outputs": [
    {
     "data": {
      "text/plain": [
       "(80, 8)"
      ]
     },
     "execution_count": 23,
     "metadata": {},
     "output_type": "execute_result"
    }
   ],
   "source": [
    "# 사이킷런 라이브러리의 train_test_split을 사용하여\n",
    "# 학습 데이터와 테스트 데이터 분리\n",
    "\n",
    "from sklearn.model_selection import train_test_split\n",
    "\n",
    "# 학습 데이터 80%, 테스트데이터 20%로 분리\n",
    "train, test = train_test_split(data_df,test_size=0.2)\n",
    "train.shape\n",
    "\n",
    "# Pos : 레이블(정답)\n",
    "# 3P, TRB, BLK : 데이터"
   ]
  },
  {
   "cell_type": "code",
   "execution_count": 24,
   "metadata": {},
   "outputs": [
    {
     "data": {
      "text/plain": [
       "(20, 8)"
      ]
     },
     "execution_count": 24,
     "metadata": {},
     "output_type": "execute_result"
    }
   ],
   "source": [
    "test.shape"
   ]
  },
  {
   "cell_type": "code",
   "execution_count": 25,
   "metadata": {},
   "outputs": [
    {
     "data": {
      "text/html": [
       "<div>\n",
       "<style scoped>\n",
       "    .dataframe tbody tr th:only-of-type {\n",
       "        vertical-align: middle;\n",
       "    }\n",
       "\n",
       "    .dataframe tbody tr th {\n",
       "        vertical-align: top;\n",
       "    }\n",
       "\n",
       "    .dataframe thead th {\n",
       "        text-align: right;\n",
       "    }\n",
       "</style>\n",
       "<table border=\"1\" class=\"dataframe\">\n",
       "  <thead>\n",
       "    <tr style=\"text-align: right;\">\n",
       "      <th></th>\n",
       "      <th>Player</th>\n",
       "      <th>Pos</th>\n",
       "      <th>3P</th>\n",
       "      <th>2P</th>\n",
       "      <th>TRB</th>\n",
       "      <th>AST</th>\n",
       "      <th>STL</th>\n",
       "      <th>BLK</th>\n",
       "    </tr>\n",
       "  </thead>\n",
       "  <tbody>\n",
       "    <tr>\n",
       "      <th>86</th>\n",
       "      <td>Marc Gasol</td>\n",
       "      <td>C</td>\n",
       "      <td>1.3</td>\n",
       "      <td>3.7</td>\n",
       "      <td>7.9</td>\n",
       "      <td>4.4</td>\n",
       "      <td>1.1</td>\n",
       "      <td>1.1</td>\n",
       "    </tr>\n",
       "    <tr>\n",
       "      <th>19</th>\n",
       "      <td>Marco Belinelli</td>\n",
       "      <td>SG</td>\n",
       "      <td>1.9</td>\n",
       "      <td>1.7</td>\n",
       "      <td>2.5</td>\n",
       "      <td>1.7</td>\n",
       "      <td>0.4</td>\n",
       "      <td>0.1</td>\n",
       "    </tr>\n",
       "    <tr>\n",
       "      <th>22</th>\n",
       "      <td>Dairis Bert?ns</td>\n",
       "      <td>SG</td>\n",
       "      <td>0.8</td>\n",
       "      <td>0.2</td>\n",
       "      <td>0.8</td>\n",
       "      <td>0.8</td>\n",
       "      <td>0.1</td>\n",
       "      <td>0.0</td>\n",
       "    </tr>\n",
       "    <tr>\n",
       "      <th>82</th>\n",
       "      <td>Channing Frye</td>\n",
       "      <td>C</td>\n",
       "      <td>0.9</td>\n",
       "      <td>0.3</td>\n",
       "      <td>1.4</td>\n",
       "      <td>0.6</td>\n",
       "      <td>0.2</td>\n",
       "      <td>0.1</td>\n",
       "    </tr>\n",
       "    <tr>\n",
       "      <th>43</th>\n",
       "      <td>Wendell Carter</td>\n",
       "      <td>C</td>\n",
       "      <td>0.1</td>\n",
       "      <td>4.0</td>\n",
       "      <td>7.0</td>\n",
       "      <td>1.8</td>\n",
       "      <td>0.6</td>\n",
       "      <td>1.3</td>\n",
       "    </tr>\n",
       "    <tr>\n",
       "      <th>36</th>\n",
       "      <td>Sterling Brown</td>\n",
       "      <td>SG</td>\n",
       "      <td>0.9</td>\n",
       "      <td>1.6</td>\n",
       "      <td>3.2</td>\n",
       "      <td>1.4</td>\n",
       "      <td>0.4</td>\n",
       "      <td>0.1</td>\n",
       "    </tr>\n",
       "    <tr>\n",
       "      <th>39</th>\n",
       "      <td>Alec Burks</td>\n",
       "      <td>SG</td>\n",
       "      <td>1.0</td>\n",
       "      <td>2.0</td>\n",
       "      <td>3.7</td>\n",
       "      <td>2.0</td>\n",
       "      <td>0.6</td>\n",
       "      <td>0.3</td>\n",
       "    </tr>\n",
       "    <tr>\n",
       "      <th>64</th>\n",
       "      <td>Donte DiVincenzo</td>\n",
       "      <td>SG</td>\n",
       "      <td>0.8</td>\n",
       "      <td>1.0</td>\n",
       "      <td>2.4</td>\n",
       "      <td>1.1</td>\n",
       "      <td>0.5</td>\n",
       "      <td>0.2</td>\n",
       "    </tr>\n",
       "    <tr>\n",
       "      <th>50</th>\n",
       "      <td>DeMarcus Cousins</td>\n",
       "      <td>C</td>\n",
       "      <td>0.9</td>\n",
       "      <td>5.1</td>\n",
       "      <td>8.2</td>\n",
       "      <td>3.6</td>\n",
       "      <td>1.3</td>\n",
       "      <td>1.5</td>\n",
       "    </tr>\n",
       "    <tr>\n",
       "      <th>77</th>\n",
       "      <td>Terrance Ferguson</td>\n",
       "      <td>SG</td>\n",
       "      <td>1.4</td>\n",
       "      <td>1.1</td>\n",
       "      <td>1.9</td>\n",
       "      <td>1.0</td>\n",
       "      <td>0.5</td>\n",
       "      <td>0.2</td>\n",
       "    </tr>\n",
       "    <tr>\n",
       "      <th>7</th>\n",
       "      <td>Jarrett Allen</td>\n",
       "      <td>C</td>\n",
       "      <td>0.1</td>\n",
       "      <td>4.1</td>\n",
       "      <td>8.4</td>\n",
       "      <td>1.4</td>\n",
       "      <td>0.5</td>\n",
       "      <td>1.5</td>\n",
       "    </tr>\n",
       "    <tr>\n",
       "      <th>92</th>\n",
       "      <td>Danny Green</td>\n",
       "      <td>SG</td>\n",
       "      <td>2.5</td>\n",
       "      <td>1.2</td>\n",
       "      <td>4.0</td>\n",
       "      <td>1.6</td>\n",
       "      <td>0.9</td>\n",
       "      <td>0.7</td>\n",
       "    </tr>\n",
       "    <tr>\n",
       "      <th>12</th>\n",
       "      <td>Ron Baker</td>\n",
       "      <td>SG</td>\n",
       "      <td>0.1</td>\n",
       "      <td>0.2</td>\n",
       "      <td>0.7</td>\n",
       "      <td>1.0</td>\n",
       "      <td>0.4</td>\n",
       "      <td>0.1</td>\n",
       "    </tr>\n",
       "    <tr>\n",
       "      <th>75</th>\n",
       "      <td>Derrick Favors</td>\n",
       "      <td>C</td>\n",
       "      <td>0.2</td>\n",
       "      <td>4.6</td>\n",
       "      <td>7.4</td>\n",
       "      <td>1.2</td>\n",
       "      <td>0.7</td>\n",
       "      <td>1.4</td>\n",
       "    </tr>\n",
       "    <tr>\n",
       "      <th>72</th>\n",
       "      <td>Jacob Evans</td>\n",
       "      <td>SG</td>\n",
       "      <td>0.1</td>\n",
       "      <td>0.5</td>\n",
       "      <td>0.8</td>\n",
       "      <td>0.8</td>\n",
       "      <td>0.2</td>\n",
       "      <td>0.1</td>\n",
       "    </tr>\n",
       "    <tr>\n",
       "      <th>59</th>\n",
       "      <td>Dewayne Dedmon</td>\n",
       "      <td>C</td>\n",
       "      <td>1.3</td>\n",
       "      <td>2.8</td>\n",
       "      <td>7.5</td>\n",
       "      <td>1.4</td>\n",
       "      <td>1.1</td>\n",
       "      <td>1.1</td>\n",
       "    </tr>\n",
       "    <tr>\n",
       "      <th>10</th>\n",
       "      <td>Deandre Ayton</td>\n",
       "      <td>C</td>\n",
       "      <td>0.0</td>\n",
       "      <td>7.2</td>\n",
       "      <td>10.3</td>\n",
       "      <td>1.8</td>\n",
       "      <td>0.9</td>\n",
       "      <td>0.9</td>\n",
       "    </tr>\n",
       "    <tr>\n",
       "      <th>54</th>\n",
       "      <td>Troy Daniels</td>\n",
       "      <td>SG</td>\n",
       "      <td>1.5</td>\n",
       "      <td>0.8</td>\n",
       "      <td>1.4</td>\n",
       "      <td>0.5</td>\n",
       "      <td>0.5</td>\n",
       "      <td>0.1</td>\n",
       "    </tr>\n",
       "    <tr>\n",
       "      <th>20</th>\n",
       "      <td>Jordan Bell</td>\n",
       "      <td>C</td>\n",
       "      <td>0.0</td>\n",
       "      <td>1.5</td>\n",
       "      <td>2.7</td>\n",
       "      <td>1.1</td>\n",
       "      <td>0.3</td>\n",
       "      <td>0.8</td>\n",
       "    </tr>\n",
       "    <tr>\n",
       "      <th>52</th>\n",
       "      <td>Jamal Crawford</td>\n",
       "      <td>SG</td>\n",
       "      <td>1.0</td>\n",
       "      <td>1.7</td>\n",
       "      <td>1.3</td>\n",
       "      <td>3.6</td>\n",
       "      <td>0.5</td>\n",
       "      <td>0.2</td>\n",
       "    </tr>\n",
       "  </tbody>\n",
       "</table>\n",
       "</div>"
      ],
      "text/plain": [
       "               Player Pos   3P   2P   TRB  AST  STL  BLK\n",
       "86         Marc Gasol   C  1.3  3.7   7.9  4.4  1.1  1.1\n",
       "19    Marco Belinelli  SG  1.9  1.7   2.5  1.7  0.4  0.1\n",
       "22     Dairis Bert?ns  SG  0.8  0.2   0.8  0.8  0.1  0.0\n",
       "82      Channing Frye   C  0.9  0.3   1.4  0.6  0.2  0.1\n",
       "43     Wendell Carter   C  0.1  4.0   7.0  1.8  0.6  1.3\n",
       "36     Sterling Brown  SG  0.9  1.6   3.2  1.4  0.4  0.1\n",
       "39         Alec Burks  SG  1.0  2.0   3.7  2.0  0.6  0.3\n",
       "64   Donte DiVincenzo  SG  0.8  1.0   2.4  1.1  0.5  0.2\n",
       "50   DeMarcus Cousins   C  0.9  5.1   8.2  3.6  1.3  1.5\n",
       "77  Terrance Ferguson  SG  1.4  1.1   1.9  1.0  0.5  0.2\n",
       "7       Jarrett Allen   C  0.1  4.1   8.4  1.4  0.5  1.5\n",
       "92        Danny Green  SG  2.5  1.2   4.0  1.6  0.9  0.7\n",
       "12          Ron Baker  SG  0.1  0.2   0.7  1.0  0.4  0.1\n",
       "75     Derrick Favors   C  0.2  4.6   7.4  1.2  0.7  1.4\n",
       "72        Jacob Evans  SG  0.1  0.5   0.8  0.8  0.2  0.1\n",
       "59     Dewayne Dedmon   C  1.3  2.8   7.5  1.4  1.1  1.1\n",
       "10      Deandre Ayton   C  0.0  7.2  10.3  1.8  0.9  0.9\n",
       "54       Troy Daniels  SG  1.5  0.8   1.4  0.5  0.5  0.1\n",
       "20        Jordan Bell   C  0.0  1.5   2.7  1.1  0.3  0.8\n",
       "52     Jamal Crawford  SG  1.0  1.7   1.3  3.6  0.5  0.2"
      ]
     },
     "execution_count": 25,
     "metadata": {},
     "output_type": "execute_result"
    }
   ],
   "source": [
    "test  # 20개의 테스트 데이터"
   ]
  },
  {
   "cell_type": "markdown",
   "metadata": {},
   "source": [
    "### 학습 데이터셋에서 데이터와 레이블(정답)을 나누기"
   ]
  },
  {
   "cell_type": "code",
   "execution_count": 26,
   "metadata": {
    "scrolled": false
   },
   "outputs": [
    {
     "data": {
      "text/html": [
       "<div>\n",
       "<style scoped>\n",
       "    .dataframe tbody tr th:only-of-type {\n",
       "        vertical-align: middle;\n",
       "    }\n",
       "\n",
       "    .dataframe tbody tr th {\n",
       "        vertical-align: top;\n",
       "    }\n",
       "\n",
       "    .dataframe thead th {\n",
       "        text-align: right;\n",
       "    }\n",
       "</style>\n",
       "<table border=\"1\" class=\"dataframe\">\n",
       "  <thead>\n",
       "    <tr style=\"text-align: right;\">\n",
       "      <th></th>\n",
       "      <th>3P</th>\n",
       "      <th>BLK</th>\n",
       "      <th>TRB</th>\n",
       "    </tr>\n",
       "  </thead>\n",
       "  <tbody>\n",
       "    <tr>\n",
       "      <th>91</th>\n",
       "      <td>1.1</td>\n",
       "      <td>0.2</td>\n",
       "      <td>3.1</td>\n",
       "    </tr>\n",
       "    <tr>\n",
       "      <th>21</th>\n",
       "      <td>0.6</td>\n",
       "      <td>0.5</td>\n",
       "      <td>4.4</td>\n",
       "    </tr>\n",
       "    <tr>\n",
       "      <th>15</th>\n",
       "      <td>0.4</td>\n",
       "      <td>0.7</td>\n",
       "      <td>4.7</td>\n",
       "    </tr>\n",
       "    <tr>\n",
       "      <th>95</th>\n",
       "      <td>0.0</td>\n",
       "      <td>0.0</td>\n",
       "      <td>0.5</td>\n",
       "    </tr>\n",
       "    <tr>\n",
       "      <th>37</th>\n",
       "      <td>0.5</td>\n",
       "      <td>0.9</td>\n",
       "      <td>6.3</td>\n",
       "    </tr>\n",
       "  </tbody>\n",
       "</table>\n",
       "</div>"
      ],
      "text/plain": [
       "     3P  BLK  TRB\n",
       "91  1.1  0.2  3.1\n",
       "21  0.6  0.5  4.4\n",
       "15  0.4  0.7  4.7\n",
       "95  0.0  0.0  0.5\n",
       "37  0.5  0.9  6.3"
      ]
     },
     "execution_count": 26,
     "metadata": {},
     "output_type": "execute_result"
    }
   ],
   "source": [
    "train_data_df= train[['3P','BLK','TRB']]\n",
    "train_label_df= train[['Pos']]\n",
    "train_data_df.head()"
   ]
  },
  {
   "cell_type": "code",
   "execution_count": 27,
   "metadata": {},
   "outputs": [
    {
     "data": {
      "text/plain": [
       "array([[ 1.1,  0.2,  3.1],\n",
       "       [ 0.6,  0.5,  4.4],\n",
       "       [ 0.4,  0.7,  4.7],\n",
       "       [ 0. ,  0. ,  0.5],\n",
       "       [ 0.5,  0.9,  6.3],\n",
       "       [ 0.1,  1.3,  9.2],\n",
       "       [ 2.5,  0.1,  3.4],\n",
       "       [ 0. ,  0.6,  4. ],\n",
       "       [ 0. ,  0.4,  5.6],\n",
       "       [ 2.6,  0.1,  2. ],\n",
       "       [ 1.2,  1.9, 13.6],\n",
       "       [ 1.5,  0.2,  1.6],\n",
       "       [ 0.1,  1.7, 15.6],\n",
       "       [ 2.4,  0.2,  3.8],\n",
       "       [ 0.1,  0.5,  6. ],\n",
       "       [ 1.1,  0.1,  1.5],\n",
       "       [ 1.3,  0.4,  4.2],\n",
       "       [ 0. ,  0.6,  8.4],\n",
       "       [ 0.5,  0.1,  1.6],\n",
       "       [ 0.2,  0.6,  6.8],\n",
       "       [ 0.3,  0.3,  0.9],\n",
       "       [ 0. ,  1. ,  9.5],\n",
       "       [ 0. ,  0.6,  3.8],\n",
       "       [ 2. ,  0.1,  2.5],\n",
       "       [ 0.5,  0.9,  4.2],\n",
       "       [ 1.9,  0.1,  3.2],\n",
       "       [ 0.4,  1.4,  5. ],\n",
       "       [ 0.3,  0.5,  2.5],\n",
       "       [ 2.1,  0.4,  2.5],\n",
       "       [ 0. ,  0. ,  1.2],\n",
       "       [ 0.9,  0. ,  2.4],\n",
       "       [ 1.7,  0.1,  2.1],\n",
       "       [ 1.8,  0.2,  2.9],\n",
       "       [ 0. ,  0.8,  7.3],\n",
       "       [ 1.8,  0.2,  3.3],\n",
       "       [ 2.3,  0.2,  2.7],\n",
       "       [ 2.5,  0.7,  5. ],\n",
       "       [ 1.4,  0.3,  2.8],\n",
       "       [ 1.9,  0.2,  3.5],\n",
       "       [ 0. ,  0. ,  1. ],\n",
       "       [ 0. ,  0. ,  0.5],\n",
       "       [ 0.3,  0. ,  2.6],\n",
       "       [ 2.1,  0. ,  2.9],\n",
       "       [ 0. ,  0.8,  4.6],\n",
       "       [ 0. ,  0.5,  5.6],\n",
       "       [ 2.3,  0.3,  3.4],\n",
       "       [ 0. ,  0.1,  3.6],\n",
       "       [ 2.3,  0.3,  7.8],\n",
       "       [ 1.1,  0.3,  2.9],\n",
       "       [ 1.7,  0.1,  3.6],\n",
       "       [ 0.9,  0.1,  2.1],\n",
       "       [ 0.9,  2.4, 12. ],\n",
       "       [ 0. ,  0. ,  2. ],\n",
       "       [ 0. ,  0.4,  8.6],\n",
       "       [ 0.9,  0.2,  2.7],\n",
       "       [ 1.6,  0.5,  4.6],\n",
       "       [ 0. ,  0. ,  0.6],\n",
       "       [ 0.9,  0.1,  1.5],\n",
       "       [ 0.6,  0.2,  1.9],\n",
       "       [ 0.2,  0.5,  4.6],\n",
       "       [ 0.1,  0.2,  1.9],\n",
       "       [ 0.3,  0.5,  4.1],\n",
       "       [ 0.2,  0.3,  3.7],\n",
       "       [ 1.3,  0.2,  1.5],\n",
       "       [ 0. ,  1.5, 12.7],\n",
       "       [ 1.1,  0.4,  4.2],\n",
       "       [ 0. ,  2.3, 12.9],\n",
       "       [ 3.2,  0.4,  2.2],\n",
       "       [ 0.3,  0. ,  2.8],\n",
       "       [ 1.6,  0.2,  4.5],\n",
       "       [ 0. ,  0.3,  0.8],\n",
       "       [ 0. ,  1.3,  6.5],\n",
       "       [ 0.8,  0.2,  0.6],\n",
       "       [ 2.1,  0.2,  4.1],\n",
       "       [ 0.4,  0.1,  2.5],\n",
       "       [ 0. ,  0.7,  5. ],\n",
       "       [ 0. ,  0.3,  1. ],\n",
       "       [ 1.4,  0.3,  2.8],\n",
       "       [ 0. ,  0.7,  5. ],\n",
       "       [ 1.4,  0.6,  3.9]])"
      ]
     },
     "execution_count": 27,
     "metadata": {},
     "output_type": "execute_result"
    }
   ],
   "source": [
    "# 인덱스와 열 이름이 있는데\n",
    "# 머신러닝 알고리즘을 구현한 함수 안에 데이터를 넘겨줄 때,\n",
    "# 인덱스와 열 이름을 제외한 코어 데이터만 필요함\n",
    "train_data = train_data_df.values  # 값 부분만 가져오기(2차원 배열의 형태)\n",
    "train_data"
   ]
  },
  {
   "cell_type": "code",
   "execution_count": 28,
   "metadata": {},
   "outputs": [
    {
     "data": {
      "text/html": [
       "<div>\n",
       "<style scoped>\n",
       "    .dataframe tbody tr th:only-of-type {\n",
       "        vertical-align: middle;\n",
       "    }\n",
       "\n",
       "    .dataframe tbody tr th {\n",
       "        vertical-align: top;\n",
       "    }\n",
       "\n",
       "    .dataframe thead th {\n",
       "        text-align: right;\n",
       "    }\n",
       "</style>\n",
       "<table border=\"1\" class=\"dataframe\">\n",
       "  <thead>\n",
       "    <tr style=\"text-align: right;\">\n",
       "      <th></th>\n",
       "      <th>Pos</th>\n",
       "    </tr>\n",
       "  </thead>\n",
       "  <tbody>\n",
       "    <tr>\n",
       "      <th>91</th>\n",
       "      <td>SG</td>\n",
       "    </tr>\n",
       "    <tr>\n",
       "      <th>21</th>\n",
       "      <td>SG</td>\n",
       "    </tr>\n",
       "    <tr>\n",
       "      <th>15</th>\n",
       "      <td>C</td>\n",
       "    </tr>\n",
       "    <tr>\n",
       "      <th>95</th>\n",
       "      <td>SG</td>\n",
       "    </tr>\n",
       "    <tr>\n",
       "      <th>37</th>\n",
       "      <td>C</td>\n",
       "    </tr>\n",
       "  </tbody>\n",
       "</table>\n",
       "</div>"
      ],
      "text/plain": [
       "   Pos\n",
       "91  SG\n",
       "21  SG\n",
       "15   C\n",
       "95  SG\n",
       "37   C"
      ]
     },
     "execution_count": 28,
     "metadata": {},
     "output_type": "execute_result"
    }
   ],
   "source": [
    "train_label_df.head()"
   ]
  },
  {
   "cell_type": "code",
   "execution_count": 29,
   "metadata": {},
   "outputs": [
    {
     "data": {
      "text/plain": [
       "array([['SG'],\n",
       "       ['SG'],\n",
       "       ['C'],\n",
       "       ['SG'],\n",
       "       ['C'],\n",
       "       ['C'],\n",
       "       ['SG'],\n",
       "       ['C'],\n",
       "       ['C'],\n",
       "       ['SG'],\n",
       "       ['C'],\n",
       "       ['SG'],\n",
       "       ['C'],\n",
       "       ['SG'],\n",
       "       ['SG'],\n",
       "       ['SG'],\n",
       "       ['SG'],\n",
       "       ['C'],\n",
       "       ['SG'],\n",
       "       ['C'],\n",
       "       ['SG'],\n",
       "       ['C'],\n",
       "       ['C'],\n",
       "       ['SG'],\n",
       "       ['C'],\n",
       "       ['SG'],\n",
       "       ['C'],\n",
       "       ['SG'],\n",
       "       ['SG'],\n",
       "       ['SG'],\n",
       "       ['SG'],\n",
       "       ['SG'],\n",
       "       ['SG'],\n",
       "       ['C'],\n",
       "       ['SG'],\n",
       "       ['SG'],\n",
       "       ['SG'],\n",
       "       ['SG'],\n",
       "       ['SG'],\n",
       "       ['C'],\n",
       "       ['SG'],\n",
       "       ['SG'],\n",
       "       ['SG'],\n",
       "       ['C'],\n",
       "       ['C'],\n",
       "       ['SG'],\n",
       "       ['C'],\n",
       "       ['SG'],\n",
       "       ['SG'],\n",
       "       ['SG'],\n",
       "       ['SG'],\n",
       "       ['C'],\n",
       "       ['C'],\n",
       "       ['C'],\n",
       "       ['SG'],\n",
       "       ['SG'],\n",
       "       ['SG'],\n",
       "       ['SG'],\n",
       "       ['SG'],\n",
       "       ['C'],\n",
       "       ['SG'],\n",
       "       ['C'],\n",
       "       ['SG'],\n",
       "       ['SG'],\n",
       "       ['C'],\n",
       "       ['SG'],\n",
       "       ['C'],\n",
       "       ['SG'],\n",
       "       ['SG'],\n",
       "       ['SG'],\n",
       "       ['SG'],\n",
       "       ['C'],\n",
       "       ['SG'],\n",
       "       ['SG'],\n",
       "       ['SG'],\n",
       "       ['C'],\n",
       "       ['C'],\n",
       "       ['SG'],\n",
       "       ['C'],\n",
       "       ['SG']], dtype=object)"
      ]
     },
     "execution_count": 29,
     "metadata": {},
     "output_type": "execute_result"
    }
   ],
   "source": [
    "train_label_df.values  # 80행 1열의 2차원 배열"
   ]
  },
  {
   "cell_type": "code",
   "execution_count": 30,
   "metadata": {
    "scrolled": true
   },
   "outputs": [
    {
     "data": {
      "text/plain": [
       "array(['SG', 'SG', 'C', 'SG', 'C', 'C', 'SG', 'C', 'C', 'SG', 'C', 'SG',\n",
       "       'C', 'SG', 'SG', 'SG', 'SG', 'C', 'SG', 'C', 'SG', 'C', 'C', 'SG',\n",
       "       'C', 'SG', 'C', 'SG', 'SG', 'SG', 'SG', 'SG', 'SG', 'C', 'SG',\n",
       "       'SG', 'SG', 'SG', 'SG', 'C', 'SG', 'SG', 'SG', 'C', 'C', 'SG', 'C',\n",
       "       'SG', 'SG', 'SG', 'SG', 'C', 'C', 'C', 'SG', 'SG', 'SG', 'SG',\n",
       "       'SG', 'C', 'SG', 'C', 'SG', 'SG', 'C', 'SG', 'C', 'SG', 'SG', 'SG',\n",
       "       'SG', 'C', 'SG', 'SG', 'SG', 'C', 'C', 'SG', 'C', 'SG'],\n",
       "      dtype=object)"
      ]
     },
     "execution_count": 30,
     "metadata": {},
     "output_type": "execute_result"
    }
   ],
   "source": [
    "# 정답 데이터는 머신러닝에 넘길 때 코어 데이터를 1차원 데이터로 넘겨줘야 함\n",
    "train_label = train_label_df.values.ravel() \n",
    "# 2차원에서 -> 1차원 배열 로 재구성\n",
    "train_label"
   ]
  },
  {
   "cell_type": "code",
   "execution_count": 34,
   "metadata": {},
   "outputs": [
    {
     "data": {
      "text/html": [
       "<div>\n",
       "<style scoped>\n",
       "    .dataframe tbody tr th:only-of-type {\n",
       "        vertical-align: middle;\n",
       "    }\n",
       "\n",
       "    .dataframe tbody tr th {\n",
       "        vertical-align: top;\n",
       "    }\n",
       "\n",
       "    .dataframe thead th {\n",
       "        text-align: right;\n",
       "    }\n",
       "</style>\n",
       "<table border=\"1\" class=\"dataframe\">\n",
       "  <thead>\n",
       "    <tr style=\"text-align: right;\">\n",
       "      <th></th>\n",
       "      <th>Player</th>\n",
       "      <th>Pos</th>\n",
       "      <th>3P</th>\n",
       "      <th>2P</th>\n",
       "      <th>TRB</th>\n",
       "      <th>AST</th>\n",
       "      <th>STL</th>\n",
       "      <th>BLK</th>\n",
       "    </tr>\n",
       "  </thead>\n",
       "  <tbody>\n",
       "    <tr>\n",
       "      <th>86</th>\n",
       "      <td>Marc Gasol</td>\n",
       "      <td>C</td>\n",
       "      <td>1.3</td>\n",
       "      <td>3.7</td>\n",
       "      <td>7.9</td>\n",
       "      <td>4.4</td>\n",
       "      <td>1.1</td>\n",
       "      <td>1.1</td>\n",
       "    </tr>\n",
       "    <tr>\n",
       "      <th>19</th>\n",
       "      <td>Marco Belinelli</td>\n",
       "      <td>SG</td>\n",
       "      <td>1.9</td>\n",
       "      <td>1.7</td>\n",
       "      <td>2.5</td>\n",
       "      <td>1.7</td>\n",
       "      <td>0.4</td>\n",
       "      <td>0.1</td>\n",
       "    </tr>\n",
       "    <tr>\n",
       "      <th>22</th>\n",
       "      <td>Dairis Bert?ns</td>\n",
       "      <td>SG</td>\n",
       "      <td>0.8</td>\n",
       "      <td>0.2</td>\n",
       "      <td>0.8</td>\n",
       "      <td>0.8</td>\n",
       "      <td>0.1</td>\n",
       "      <td>0.0</td>\n",
       "    </tr>\n",
       "    <tr>\n",
       "      <th>82</th>\n",
       "      <td>Channing Frye</td>\n",
       "      <td>C</td>\n",
       "      <td>0.9</td>\n",
       "      <td>0.3</td>\n",
       "      <td>1.4</td>\n",
       "      <td>0.6</td>\n",
       "      <td>0.2</td>\n",
       "      <td>0.1</td>\n",
       "    </tr>\n",
       "    <tr>\n",
       "      <th>43</th>\n",
       "      <td>Wendell Carter</td>\n",
       "      <td>C</td>\n",
       "      <td>0.1</td>\n",
       "      <td>4.0</td>\n",
       "      <td>7.0</td>\n",
       "      <td>1.8</td>\n",
       "      <td>0.6</td>\n",
       "      <td>1.3</td>\n",
       "    </tr>\n",
       "    <tr>\n",
       "      <th>36</th>\n",
       "      <td>Sterling Brown</td>\n",
       "      <td>SG</td>\n",
       "      <td>0.9</td>\n",
       "      <td>1.6</td>\n",
       "      <td>3.2</td>\n",
       "      <td>1.4</td>\n",
       "      <td>0.4</td>\n",
       "      <td>0.1</td>\n",
       "    </tr>\n",
       "    <tr>\n",
       "      <th>39</th>\n",
       "      <td>Alec Burks</td>\n",
       "      <td>SG</td>\n",
       "      <td>1.0</td>\n",
       "      <td>2.0</td>\n",
       "      <td>3.7</td>\n",
       "      <td>2.0</td>\n",
       "      <td>0.6</td>\n",
       "      <td>0.3</td>\n",
       "    </tr>\n",
       "    <tr>\n",
       "      <th>64</th>\n",
       "      <td>Donte DiVincenzo</td>\n",
       "      <td>SG</td>\n",
       "      <td>0.8</td>\n",
       "      <td>1.0</td>\n",
       "      <td>2.4</td>\n",
       "      <td>1.1</td>\n",
       "      <td>0.5</td>\n",
       "      <td>0.2</td>\n",
       "    </tr>\n",
       "    <tr>\n",
       "      <th>50</th>\n",
       "      <td>DeMarcus Cousins</td>\n",
       "      <td>C</td>\n",
       "      <td>0.9</td>\n",
       "      <td>5.1</td>\n",
       "      <td>8.2</td>\n",
       "      <td>3.6</td>\n",
       "      <td>1.3</td>\n",
       "      <td>1.5</td>\n",
       "    </tr>\n",
       "    <tr>\n",
       "      <th>77</th>\n",
       "      <td>Terrance Ferguson</td>\n",
       "      <td>SG</td>\n",
       "      <td>1.4</td>\n",
       "      <td>1.1</td>\n",
       "      <td>1.9</td>\n",
       "      <td>1.0</td>\n",
       "      <td>0.5</td>\n",
       "      <td>0.2</td>\n",
       "    </tr>\n",
       "    <tr>\n",
       "      <th>7</th>\n",
       "      <td>Jarrett Allen</td>\n",
       "      <td>C</td>\n",
       "      <td>0.1</td>\n",
       "      <td>4.1</td>\n",
       "      <td>8.4</td>\n",
       "      <td>1.4</td>\n",
       "      <td>0.5</td>\n",
       "      <td>1.5</td>\n",
       "    </tr>\n",
       "    <tr>\n",
       "      <th>92</th>\n",
       "      <td>Danny Green</td>\n",
       "      <td>SG</td>\n",
       "      <td>2.5</td>\n",
       "      <td>1.2</td>\n",
       "      <td>4.0</td>\n",
       "      <td>1.6</td>\n",
       "      <td>0.9</td>\n",
       "      <td>0.7</td>\n",
       "    </tr>\n",
       "    <tr>\n",
       "      <th>12</th>\n",
       "      <td>Ron Baker</td>\n",
       "      <td>SG</td>\n",
       "      <td>0.1</td>\n",
       "      <td>0.2</td>\n",
       "      <td>0.7</td>\n",
       "      <td>1.0</td>\n",
       "      <td>0.4</td>\n",
       "      <td>0.1</td>\n",
       "    </tr>\n",
       "    <tr>\n",
       "      <th>75</th>\n",
       "      <td>Derrick Favors</td>\n",
       "      <td>C</td>\n",
       "      <td>0.2</td>\n",
       "      <td>4.6</td>\n",
       "      <td>7.4</td>\n",
       "      <td>1.2</td>\n",
       "      <td>0.7</td>\n",
       "      <td>1.4</td>\n",
       "    </tr>\n",
       "    <tr>\n",
       "      <th>72</th>\n",
       "      <td>Jacob Evans</td>\n",
       "      <td>SG</td>\n",
       "      <td>0.1</td>\n",
       "      <td>0.5</td>\n",
       "      <td>0.8</td>\n",
       "      <td>0.8</td>\n",
       "      <td>0.2</td>\n",
       "      <td>0.1</td>\n",
       "    </tr>\n",
       "    <tr>\n",
       "      <th>59</th>\n",
       "      <td>Dewayne Dedmon</td>\n",
       "      <td>C</td>\n",
       "      <td>1.3</td>\n",
       "      <td>2.8</td>\n",
       "      <td>7.5</td>\n",
       "      <td>1.4</td>\n",
       "      <td>1.1</td>\n",
       "      <td>1.1</td>\n",
       "    </tr>\n",
       "    <tr>\n",
       "      <th>10</th>\n",
       "      <td>Deandre Ayton</td>\n",
       "      <td>C</td>\n",
       "      <td>0.0</td>\n",
       "      <td>7.2</td>\n",
       "      <td>10.3</td>\n",
       "      <td>1.8</td>\n",
       "      <td>0.9</td>\n",
       "      <td>0.9</td>\n",
       "    </tr>\n",
       "    <tr>\n",
       "      <th>54</th>\n",
       "      <td>Troy Daniels</td>\n",
       "      <td>SG</td>\n",
       "      <td>1.5</td>\n",
       "      <td>0.8</td>\n",
       "      <td>1.4</td>\n",
       "      <td>0.5</td>\n",
       "      <td>0.5</td>\n",
       "      <td>0.1</td>\n",
       "    </tr>\n",
       "    <tr>\n",
       "      <th>20</th>\n",
       "      <td>Jordan Bell</td>\n",
       "      <td>C</td>\n",
       "      <td>0.0</td>\n",
       "      <td>1.5</td>\n",
       "      <td>2.7</td>\n",
       "      <td>1.1</td>\n",
       "      <td>0.3</td>\n",
       "      <td>0.8</td>\n",
       "    </tr>\n",
       "    <tr>\n",
       "      <th>52</th>\n",
       "      <td>Jamal Crawford</td>\n",
       "      <td>SG</td>\n",
       "      <td>1.0</td>\n",
       "      <td>1.7</td>\n",
       "      <td>1.3</td>\n",
       "      <td>3.6</td>\n",
       "      <td>0.5</td>\n",
       "      <td>0.2</td>\n",
       "    </tr>\n",
       "  </tbody>\n",
       "</table>\n",
       "</div>"
      ],
      "text/plain": [
       "               Player Pos   3P   2P   TRB  AST  STL  BLK\n",
       "86         Marc Gasol   C  1.3  3.7   7.9  4.4  1.1  1.1\n",
       "19    Marco Belinelli  SG  1.9  1.7   2.5  1.7  0.4  0.1\n",
       "22     Dairis Bert?ns  SG  0.8  0.2   0.8  0.8  0.1  0.0\n",
       "82      Channing Frye   C  0.9  0.3   1.4  0.6  0.2  0.1\n",
       "43     Wendell Carter   C  0.1  4.0   7.0  1.8  0.6  1.3\n",
       "36     Sterling Brown  SG  0.9  1.6   3.2  1.4  0.4  0.1\n",
       "39         Alec Burks  SG  1.0  2.0   3.7  2.0  0.6  0.3\n",
       "64   Donte DiVincenzo  SG  0.8  1.0   2.4  1.1  0.5  0.2\n",
       "50   DeMarcus Cousins   C  0.9  5.1   8.2  3.6  1.3  1.5\n",
       "77  Terrance Ferguson  SG  1.4  1.1   1.9  1.0  0.5  0.2\n",
       "7       Jarrett Allen   C  0.1  4.1   8.4  1.4  0.5  1.5\n",
       "92        Danny Green  SG  2.5  1.2   4.0  1.6  0.9  0.7\n",
       "12          Ron Baker  SG  0.1  0.2   0.7  1.0  0.4  0.1\n",
       "75     Derrick Favors   C  0.2  4.6   7.4  1.2  0.7  1.4\n",
       "72        Jacob Evans  SG  0.1  0.5   0.8  0.8  0.2  0.1\n",
       "59     Dewayne Dedmon   C  1.3  2.8   7.5  1.4  1.1  1.1\n",
       "10      Deandre Ayton   C  0.0  7.2  10.3  1.8  0.9  0.9\n",
       "54       Troy Daniels  SG  1.5  0.8   1.4  0.5  0.5  0.1\n",
       "20        Jordan Bell   C  0.0  1.5   2.7  1.1  0.3  0.8\n",
       "52     Jamal Crawford  SG  1.0  1.7   1.3  3.6  0.5  0.2"
      ]
     },
     "execution_count": 34,
     "metadata": {},
     "output_type": "execute_result"
    }
   ],
   "source": [
    "test # 20개의 테스트 데이터"
   ]
  },
  {
   "cell_type": "code",
   "execution_count": 35,
   "metadata": {},
   "outputs": [],
   "source": [
    "test_data_df = test[['3P','BLK','TRB']]\n",
    "test_label_df = test[['Pos']]\n",
    "\n",
    "test_data = test_data_df.values\n",
    "test_label = test_label_df.values.ravel()"
   ]
  },
  {
   "cell_type": "markdown",
   "metadata": {},
   "source": [
    "## kNN 모델 학습하기"
   ]
  },
  {
   "cell_type": "markdown",
   "metadata": {},
   "source": [
    "### kNN 모델 학습하기"
   ]
  },
  {
   "cell_type": "code",
   "execution_count": 36,
   "metadata": {},
   "outputs": [
    {
     "data": {
      "text/plain": [
       "KNeighborsClassifier(algorithm='auto', leaf_size=30, metric='minkowski',\n",
       "                     metric_params=None, n_jobs=None, n_neighbors=3, p=2,\n",
       "                     weights='uniform')"
      ]
     },
     "execution_count": 36,
     "metadata": {},
     "output_type": "execute_result"
    }
   ],
   "source": [
    "from sklearn.neighbors import KNeighborsClassifier\n",
    "# KNN 라이브러리 추가\n",
    "\n",
    "knn= KNeighborsClassifier(n_neighbors=3)\n",
    "# KNN 분류기 객체 생성, 최근접 이웃의 수를 3으로 가정\n",
    "knn.fit(train_data, train_label)\n",
    "# knn 모델 학습"
   ]
  },
  {
   "cell_type": "markdown",
   "metadata": {},
   "source": [
    "### 테스트 데이터로 예측하기"
   ]
  },
  {
   "cell_type": "code",
   "execution_count": 37,
   "metadata": {},
   "outputs": [
    {
     "data": {
      "text/plain": [
       "array(['C', 'SG', 'SG', 'SG', 'C', 'SG', 'SG', 'SG', 'C', 'SG', 'C', 'SG',\n",
       "       'SG', 'C', 'SG', 'C', 'C', 'SG', 'SG', 'SG'], dtype=object)"
      ]
     },
     "execution_count": 37,
     "metadata": {},
     "output_type": "execute_result"
    }
   ],
   "source": [
    "pred_knn = knn.predict(test_data)\n",
    "pred_knn"
   ]
  },
  {
   "cell_type": "markdown",
   "metadata": {},
   "source": [
    "## kNN 모델 예측 정확도 확인하기"
   ]
  },
  {
   "cell_type": "code",
   "execution_count": 39,
   "metadata": {},
   "outputs": [
    {
     "data": {
      "text/plain": [
       "array(['C', 'SG', 'SG', 'SG', 'C', 'SG', 'SG', 'SG', 'C', 'SG', 'C', 'SG',\n",
       "       'SG', 'C', 'SG', 'C', 'C', 'SG', 'SG', 'SG'], dtype=object)"
      ]
     },
     "execution_count": 39,
     "metadata": {},
     "output_type": "execute_result"
    }
   ],
   "source": [
    "pred_knn"
   ]
  },
  {
   "cell_type": "code",
   "execution_count": 38,
   "metadata": {},
   "outputs": [
    {
     "data": {
      "text/plain": [
       "array(['C', 'SG', 'SG', 'C', 'C', 'SG', 'SG', 'SG', 'C', 'SG', 'C', 'SG',\n",
       "       'SG', 'C', 'SG', 'C', 'C', 'SG', 'C', 'SG'], dtype=object)"
      ]
     },
     "execution_count": 38,
     "metadata": {},
     "output_type": "execute_result"
    }
   ],
   "source": [
    "test_label"
   ]
  },
  {
   "cell_type": "code",
   "execution_count": 40,
   "metadata": {},
   "outputs": [
    {
     "name": "stdout",
     "output_type": "stream",
     "text": [
      "accuracy: 0.9\n"
     ]
    }
   ],
   "source": [
    "from sklearn import metrics\n",
    "\n",
    "ac_score = metrics.accuracy_score(test_label, pred_knn)\n",
    "# 테스트 데이터셋의 레이블(정답)과 예측값 비교\n",
    "print('accuracy:', ac_score)\n",
    "\n",
    "# 수행 시 마다 다를 수 있음"
   ]
  },
  {
   "cell_type": "code",
   "execution_count": 41,
   "metadata": {},
   "outputs": [
    {
     "data": {
      "text/html": [
       "<div>\n",
       "<style scoped>\n",
       "    .dataframe tbody tr th:only-of-type {\n",
       "        vertical-align: middle;\n",
       "    }\n",
       "\n",
       "    .dataframe tbody tr th {\n",
       "        vertical-align: top;\n",
       "    }\n",
       "\n",
       "    .dataframe thead th {\n",
       "        text-align: right;\n",
       "    }\n",
       "</style>\n",
       "<table border=\"1\" class=\"dataframe\">\n",
       "  <thead>\n",
       "    <tr style=\"text-align: right;\">\n",
       "      <th></th>\n",
       "      <th>prediction</th>\n",
       "      <th>ground_truth</th>\n",
       "    </tr>\n",
       "  </thead>\n",
       "  <tbody>\n",
       "    <tr>\n",
       "      <th>0</th>\n",
       "      <td>C</td>\n",
       "      <td>C</td>\n",
       "    </tr>\n",
       "    <tr>\n",
       "      <th>1</th>\n",
       "      <td>SG</td>\n",
       "      <td>SG</td>\n",
       "    </tr>\n",
       "    <tr>\n",
       "      <th>2</th>\n",
       "      <td>SG</td>\n",
       "      <td>SG</td>\n",
       "    </tr>\n",
       "    <tr>\n",
       "      <th>3</th>\n",
       "      <td>SG</td>\n",
       "      <td>C</td>\n",
       "    </tr>\n",
       "    <tr>\n",
       "      <th>4</th>\n",
       "      <td>C</td>\n",
       "      <td>C</td>\n",
       "    </tr>\n",
       "    <tr>\n",
       "      <th>5</th>\n",
       "      <td>SG</td>\n",
       "      <td>SG</td>\n",
       "    </tr>\n",
       "    <tr>\n",
       "      <th>6</th>\n",
       "      <td>SG</td>\n",
       "      <td>SG</td>\n",
       "    </tr>\n",
       "    <tr>\n",
       "      <th>7</th>\n",
       "      <td>SG</td>\n",
       "      <td>SG</td>\n",
       "    </tr>\n",
       "    <tr>\n",
       "      <th>8</th>\n",
       "      <td>C</td>\n",
       "      <td>C</td>\n",
       "    </tr>\n",
       "    <tr>\n",
       "      <th>9</th>\n",
       "      <td>SG</td>\n",
       "      <td>SG</td>\n",
       "    </tr>\n",
       "    <tr>\n",
       "      <th>10</th>\n",
       "      <td>C</td>\n",
       "      <td>C</td>\n",
       "    </tr>\n",
       "    <tr>\n",
       "      <th>11</th>\n",
       "      <td>SG</td>\n",
       "      <td>SG</td>\n",
       "    </tr>\n",
       "    <tr>\n",
       "      <th>12</th>\n",
       "      <td>SG</td>\n",
       "      <td>SG</td>\n",
       "    </tr>\n",
       "    <tr>\n",
       "      <th>13</th>\n",
       "      <td>C</td>\n",
       "      <td>C</td>\n",
       "    </tr>\n",
       "    <tr>\n",
       "      <th>14</th>\n",
       "      <td>SG</td>\n",
       "      <td>SG</td>\n",
       "    </tr>\n",
       "    <tr>\n",
       "      <th>15</th>\n",
       "      <td>C</td>\n",
       "      <td>C</td>\n",
       "    </tr>\n",
       "    <tr>\n",
       "      <th>16</th>\n",
       "      <td>C</td>\n",
       "      <td>C</td>\n",
       "    </tr>\n",
       "    <tr>\n",
       "      <th>17</th>\n",
       "      <td>SG</td>\n",
       "      <td>SG</td>\n",
       "    </tr>\n",
       "    <tr>\n",
       "      <th>18</th>\n",
       "      <td>SG</td>\n",
       "      <td>C</td>\n",
       "    </tr>\n",
       "    <tr>\n",
       "      <th>19</th>\n",
       "      <td>SG</td>\n",
       "      <td>SG</td>\n",
       "    </tr>\n",
       "  </tbody>\n",
       "</table>\n",
       "</div>"
      ],
      "text/plain": [
       "   prediction ground_truth\n",
       "0           C            C\n",
       "1          SG           SG\n",
       "2          SG           SG\n",
       "3          SG            C\n",
       "4           C            C\n",
       "5          SG           SG\n",
       "6          SG           SG\n",
       "7          SG           SG\n",
       "8           C            C\n",
       "9          SG           SG\n",
       "10          C            C\n",
       "11         SG           SG\n",
       "12         SG           SG\n",
       "13          C            C\n",
       "14         SG           SG\n",
       "15          C            C\n",
       "16          C            C\n",
       "17         SG           SG\n",
       "18         SG            C\n",
       "19         SG           SG"
      ]
     },
     "execution_count": 41,
     "metadata": {},
     "output_type": "execute_result"
    }
   ],
   "source": [
    "comparison = pd.DataFrame({'prediction':pred_knn,'ground_truth':test_label})\n",
    "comparison"
   ]
  },
  {
   "cell_type": "markdown",
   "metadata": {},
   "source": [
    "## SVM 모델로 학습하기"
   ]
  },
  {
   "cell_type": "code",
   "execution_count": 42,
   "metadata": {},
   "outputs": [
    {
     "data": {
      "text/plain": [
       "SVC(C=1, cache_size=200, class_weight=None, coef0=0.0,\n",
       "    decision_function_shape='ovr', degree=3, gamma=0.1, kernel='rbf',\n",
       "    max_iter=-1, probability=False, random_state=None, shrinking=True,\n",
       "    tol=0.001, verbose=False)"
      ]
     },
     "execution_count": 42,
     "metadata": {},
     "output_type": "execute_result"
    }
   ],
   "source": [
    "from sklearn import svm   # SVM 라이브러리 추가\n",
    "\n",
    "clf=svm.SVC(C=1, gamma=0.1)  # SVM 분류기 객체 생성, C=1, gamma=0.1 가정\n",
    "clf.fit(train_data, train_label) # SVM 모델 학습"
   ]
  },
  {
   "cell_type": "markdown",
   "metadata": {},
   "source": [
    "### 테스트 데이터로 예측하기"
   ]
  },
  {
   "cell_type": "code",
   "execution_count": 43,
   "metadata": {},
   "outputs": [
    {
     "data": {
      "text/plain": [
       "array(['C', 'SG', 'SG', 'SG', 'C', 'SG', 'SG', 'SG', 'C', 'SG', 'C', 'SG',\n",
       "       'SG', 'C', 'SG', 'C', 'C', 'SG', 'SG', 'SG'], dtype=object)"
      ]
     },
     "execution_count": 43,
     "metadata": {},
     "output_type": "execute_result"
    }
   ],
   "source": [
    "pred_svm=clf.predict(test_data)\n",
    "pred_svm"
   ]
  },
  {
   "cell_type": "markdown",
   "metadata": {},
   "source": [
    "## SVM 모델 예측 정확도 확인하기"
   ]
  },
  {
   "cell_type": "code",
   "execution_count": 44,
   "metadata": {},
   "outputs": [
    {
     "data": {
      "text/plain": [
       "array(['C', 'SG', 'SG', 'SG', 'C', 'SG', 'SG', 'SG', 'C', 'SG', 'C', 'SG',\n",
       "       'SG', 'C', 'SG', 'C', 'C', 'SG', 'SG', 'SG'], dtype=object)"
      ]
     },
     "execution_count": 44,
     "metadata": {},
     "output_type": "execute_result"
    }
   ],
   "source": [
    "pred_svm"
   ]
  },
  {
   "cell_type": "code",
   "execution_count": 45,
   "metadata": {},
   "outputs": [
    {
     "data": {
      "text/plain": [
       "array(['C', 'SG', 'SG', 'C', 'C', 'SG', 'SG', 'SG', 'C', 'SG', 'C', 'SG',\n",
       "       'SG', 'C', 'SG', 'C', 'C', 'SG', 'C', 'SG'], dtype=object)"
      ]
     },
     "execution_count": 45,
     "metadata": {},
     "output_type": "execute_result"
    }
   ],
   "source": [
    "test_label"
   ]
  },
  {
   "cell_type": "code",
   "execution_count": 46,
   "metadata": {},
   "outputs": [
    {
     "name": "stdout",
     "output_type": "stream",
     "text": [
      "accuracy: 0.9\n"
     ]
    }
   ],
   "source": [
    "from sklearn import metrics\n",
    "\n",
    "ac_score = metrics.accuracy_score(test_label, pred_svm)\n",
    "print('accuracy:', ac_score)  # 수행 시 마다 다를 수 있음"
   ]
  },
  {
   "cell_type": "markdown",
   "metadata": {},
   "source": [
    "## SVM 모델 학습하기"
   ]
  },
  {
   "cell_type": "code",
   "execution_count": 47,
   "metadata": {},
   "outputs": [
    {
     "data": {
      "text/html": [
       "<div>\n",
       "<style scoped>\n",
       "    .dataframe tbody tr th:only-of-type {\n",
       "        vertical-align: middle;\n",
       "    }\n",
       "\n",
       "    .dataframe tbody tr th {\n",
       "        vertical-align: top;\n",
       "    }\n",
       "\n",
       "    .dataframe thead th {\n",
       "        text-align: right;\n",
       "    }\n",
       "</style>\n",
       "<table border=\"1\" class=\"dataframe\">\n",
       "  <thead>\n",
       "    <tr style=\"text-align: right;\">\n",
       "      <th></th>\n",
       "      <th>prediction</th>\n",
       "      <th>ground_truth</th>\n",
       "    </tr>\n",
       "  </thead>\n",
       "  <tbody>\n",
       "    <tr>\n",
       "      <th>0</th>\n",
       "      <td>C</td>\n",
       "      <td>C</td>\n",
       "    </tr>\n",
       "    <tr>\n",
       "      <th>1</th>\n",
       "      <td>SG</td>\n",
       "      <td>SG</td>\n",
       "    </tr>\n",
       "    <tr>\n",
       "      <th>2</th>\n",
       "      <td>SG</td>\n",
       "      <td>SG</td>\n",
       "    </tr>\n",
       "    <tr>\n",
       "      <th>3</th>\n",
       "      <td>SG</td>\n",
       "      <td>C</td>\n",
       "    </tr>\n",
       "    <tr>\n",
       "      <th>4</th>\n",
       "      <td>C</td>\n",
       "      <td>C</td>\n",
       "    </tr>\n",
       "    <tr>\n",
       "      <th>5</th>\n",
       "      <td>SG</td>\n",
       "      <td>SG</td>\n",
       "    </tr>\n",
       "    <tr>\n",
       "      <th>6</th>\n",
       "      <td>SG</td>\n",
       "      <td>SG</td>\n",
       "    </tr>\n",
       "    <tr>\n",
       "      <th>7</th>\n",
       "      <td>SG</td>\n",
       "      <td>SG</td>\n",
       "    </tr>\n",
       "    <tr>\n",
       "      <th>8</th>\n",
       "      <td>C</td>\n",
       "      <td>C</td>\n",
       "    </tr>\n",
       "    <tr>\n",
       "      <th>9</th>\n",
       "      <td>SG</td>\n",
       "      <td>SG</td>\n",
       "    </tr>\n",
       "    <tr>\n",
       "      <th>10</th>\n",
       "      <td>C</td>\n",
       "      <td>C</td>\n",
       "    </tr>\n",
       "    <tr>\n",
       "      <th>11</th>\n",
       "      <td>SG</td>\n",
       "      <td>SG</td>\n",
       "    </tr>\n",
       "    <tr>\n",
       "      <th>12</th>\n",
       "      <td>SG</td>\n",
       "      <td>SG</td>\n",
       "    </tr>\n",
       "    <tr>\n",
       "      <th>13</th>\n",
       "      <td>C</td>\n",
       "      <td>C</td>\n",
       "    </tr>\n",
       "    <tr>\n",
       "      <th>14</th>\n",
       "      <td>SG</td>\n",
       "      <td>SG</td>\n",
       "    </tr>\n",
       "    <tr>\n",
       "      <th>15</th>\n",
       "      <td>C</td>\n",
       "      <td>C</td>\n",
       "    </tr>\n",
       "    <tr>\n",
       "      <th>16</th>\n",
       "      <td>C</td>\n",
       "      <td>C</td>\n",
       "    </tr>\n",
       "    <tr>\n",
       "      <th>17</th>\n",
       "      <td>SG</td>\n",
       "      <td>SG</td>\n",
       "    </tr>\n",
       "    <tr>\n",
       "      <th>18</th>\n",
       "      <td>SG</td>\n",
       "      <td>C</td>\n",
       "    </tr>\n",
       "    <tr>\n",
       "      <th>19</th>\n",
       "      <td>SG</td>\n",
       "      <td>SG</td>\n",
       "    </tr>\n",
       "  </tbody>\n",
       "</table>\n",
       "</div>"
      ],
      "text/plain": [
       "   prediction ground_truth\n",
       "0           C            C\n",
       "1          SG           SG\n",
       "2          SG           SG\n",
       "3          SG            C\n",
       "4           C            C\n",
       "5          SG           SG\n",
       "6          SG           SG\n",
       "7          SG           SG\n",
       "8           C            C\n",
       "9          SG           SG\n",
       "10          C            C\n",
       "11         SG           SG\n",
       "12         SG           SG\n",
       "13          C            C\n",
       "14         SG           SG\n",
       "15          C            C\n",
       "16          C            C\n",
       "17         SG           SG\n",
       "18         SG            C\n",
       "19         SG           SG"
      ]
     },
     "execution_count": 47,
     "metadata": {},
     "output_type": "execute_result"
    }
   ],
   "source": [
    "comparison = pd.DataFrame({'prediction':pred_svm, 'ground_truth':test_label})\n",
    "comparison"
   ]
  }
 ],
 "metadata": {
  "kernelspec": {
   "display_name": "Python 3",
   "language": "python",
   "name": "python3"
  },
  "language_info": {
   "codemirror_mode": {
    "name": "ipython",
    "version": 3
   },
   "file_extension": ".py",
   "mimetype": "text/x-python",
   "name": "python",
   "nbconvert_exporter": "python",
   "pygments_lexer": "ipython3",
   "version": "3.7.6"
  }
 },
 "nbformat": 4,
 "nbformat_minor": 4
}
