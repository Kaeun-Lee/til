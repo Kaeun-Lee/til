{
 "cells": [
  {
   "cell_type": "markdown",
   "metadata": {},
   "source": [
    "# 웹 사이트 데이터 가져오기"
   ]
  },
  {
   "cell_type": "markdown",
   "metadata": {},
   "source": [
    "#### 웹 스크레핑시 주의 사항\n",
    "\n",
    "- 웹 페이지의 소스코드에서 '데이터를 얻기 위한 규칙을 발견'할 수 있어야 함  \n",
    "- 파이썬 코드를 이용해 해당 '웹 사이트에 너무 빈번하게 접근'하지 말아야 함  \n",
    "(빈번한 접근에 의한 과부하로 서버측에서 접근을 차단할 수도 있음)  \n",
    "(해킹하는 것으로 오해를 받을 여지가 있으므로 주의 요망)  \n",
    "- 웹 사이트의 소스코드는 '예고 없이 변경'될 수 있음  \n",
    "- 인터넷 상에 공개된 '데이터'도 '저작권이 있는 경우가' 있음  "
   ]
  },
  {
   "cell_type": "markdown",
   "metadata": {},
   "source": [
    "## 순위 사이트 데이터 가져오기"
   ]
  },
  {
   "cell_type": "markdown",
   "metadata": {},
   "source": [
    "### 빌보드차트 사이트 데이터 가져오기"
   ]
  },
  {
   "cell_type": "markdown",
   "metadata": {},
   "source": [
    "빌보드차트 사이트\n",
    "\n",
    "- 미국 음악 순위 차트\n",
    "https://www.billboard.com/charts/hot-100"
   ]
  },
  {
   "cell_type": "markdown",
   "metadata": {},
   "source": [
    "### 관심위치에서 요소검사"
   ]
  },
  {
   "cell_type": "markdown",
   "metadata": {},
   "source": [
    "### 곡명을 가져오기 위해 해당 위치에서 검사\n",
    "- 관심 데이터의 위치에서 오른쪽 마우스 클릭-> 검사(익스플로러에서는 요소검사)  \n",
    "- select()의 인자로 쓸 태그 확인\n",
    "(chart-element__information__song)\n",
    "(chart-element__information__artist)"
   ]
  },
  {
   "cell_type": "markdown",
   "metadata": {},
   "source": [
    "### 곡명 데이터 가져오기"
   ]
  },
  {
   "cell_type": "code",
   "execution_count": 2,
   "metadata": {},
   "outputs": [
    {
     "data": {
      "text/plain": [
       "[<span class=\"chart-element__information__song text--truncate color--primary\">Mood</span>,\n",
       " <span class=\"chart-element__information__song text--truncate color--primary\">WAP</span>,\n",
       " <span class=\"chart-element__information__song text--truncate color--primary\">Laugh Now Cry Later</span>,\n",
       " <span class=\"chart-element__information__song text--truncate color--primary\">Blinding Lights</span>,\n",
       " <span class=\"chart-element__information__song text--truncate color--primary\">Savage Love (Laxed - Siren Beat)</span>,\n",
       " <span class=\"chart-element__information__song text--truncate color--primary\">I Hope</span>,\n",
       " <span class=\"chart-element__information__song text--truncate color--primary\">Dynamite</span>,\n",
       " <span class=\"chart-element__information__song text--truncate color--primary\">Rockstar</span>,\n",
       " <span class=\"chart-element__information__song text--truncate color--primary\">Holy</span>,\n",
       " <span class=\"chart-element__information__song text--truncate color--primary\">Lemonade</span>,\n",
       " <span class=\"chart-element__information__song text--truncate color--primary\">Watermelon Sugar</span>,\n",
       " <span class=\"chart-element__information__song text--truncate color--primary\">Before You Go</span>,\n",
       " <span class=\"chart-element__information__song text--truncate color--primary\">For The Night</span>,\n",
       " <span class=\"chart-element__information__song text--truncate color--primary\">Lonely</span>,\n",
       " <span class=\"chart-element__information__song text--truncate color--primary\">Go Crazy</span>,\n",
       " <span class=\"chart-element__information__song text--truncate color--primary\">Got What I Got</span>,\n",
       " <span class=\"chart-element__information__song text--truncate color--primary\">One Of Them Girls</span>,\n",
       " <span class=\"chart-element__information__song text--truncate color--primary\">Whats Poppin</span>,\n",
       " <span class=\"chart-element__information__song text--truncate color--primary\">Circles</span>,\n",
       " <span class=\"chart-element__information__song text--truncate color--primary\">Be Like That</span>,\n",
       " <span class=\"chart-element__information__song text--truncate color--primary\">Dreams</span>,\n",
       " <span class=\"chart-element__information__song text--truncate color--primary\">Come &amp; Go</span>,\n",
       " <span class=\"chart-element__information__song text--truncate color--primary\">Said Sum</span>,\n",
       " <span class=\"chart-element__information__song text--truncate color--primary\">Kings &amp; Queens</span>,\n",
       " <span class=\"chart-element__information__song text--truncate color--primary\">What You Know Bout Love</span>,\n",
       " <span class=\"chart-element__information__song text--truncate color--primary\">Bang!</span>,\n",
       " <span class=\"chart-element__information__song text--truncate color--primary\">ily</span>,\n",
       " <span class=\"chart-element__information__song text--truncate color--primary\">More Than My Hometown</span>,\n",
       " <span class=\"chart-element__information__song text--truncate color--primary\">Some Girls</span>,\n",
       " <span class=\"chart-element__information__song text--truncate color--primary\">Wonder</span>,\n",
       " <span class=\"chart-element__information__song text--truncate color--primary\">Adore You</span>,\n",
       " <span class=\"chart-element__information__song text--truncate color--primary\">The Woo</span>,\n",
       " <span class=\"chart-element__information__song text--truncate color--primary\">Roses</span>,\n",
       " <span class=\"chart-element__information__song text--truncate color--primary\">Break My Heart</span>,\n",
       " <span class=\"chart-element__information__song text--truncate color--primary\">Whole Lotta Choppas</span>,\n",
       " <span class=\"chart-element__information__song text--truncate color--primary\">Don't Start Now</span>,\n",
       " <span class=\"chart-element__information__song text--truncate color--primary\">One Beer</span>,\n",
       " <span class=\"chart-element__information__song text--truncate color--primary\">Rags2Riches</span>,\n",
       " <span class=\"chart-element__information__song text--truncate color--primary\">Franchise</span>,\n",
       " <span class=\"chart-element__information__song text--truncate color--primary\">Mood Swings</span>,\n",
       " <span class=\"chart-element__information__song text--truncate color--primary\">Love You Like I Used To</span>,\n",
       " <span class=\"chart-element__information__song text--truncate color--primary\">Mr. Right Now</span>,\n",
       " <span class=\"chart-element__information__song text--truncate color--primary\">I Should Probably Go To Bed</span>,\n",
       " <span class=\"chart-element__information__song text--truncate color--primary\">Pretty Heart</span>,\n",
       " <span class=\"chart-element__information__song text--truncate color--primary\">Lovin' On You</span>,\n",
       " <span class=\"chart-element__information__song text--truncate color--primary\">Popstar</span>,\n",
       " <span class=\"chart-element__information__song text--truncate color--primary\">Levitating</span>,\n",
       " <span class=\"chart-element__information__song text--truncate color--primary\">Midnight Sky</span>,\n",
       " <span class=\"chart-element__information__song text--truncate color--primary\">Happy Anywhere</span>,\n",
       " <span class=\"chart-element__information__song text--truncate color--primary\">Runnin</span>,\n",
       " <span class=\"chart-element__information__song text--truncate color--primary\">24</span>,\n",
       " <span class=\"chart-element__information__song text--truncate color--primary\">You're Mines Still</span>,\n",
       " <span class=\"chart-element__information__song text--truncate color--primary\">Tap In</span>,\n",
       " <span class=\"chart-element__information__song text--truncate color--primary\">My Ex's Best Friend</span>,\n",
       " <span class=\"chart-element__information__song text--truncate color--primary\">Wishing Well</span>,\n",
       " <span class=\"chart-element__information__song text--truncate color--primary\">Everywhere But On</span>,\n",
       " <span class=\"chart-element__information__song text--truncate color--primary\">Better Together</span>,\n",
       " <span class=\"chart-element__information__song text--truncate color--primary\">You Broke Me First.</span>,\n",
       " <span class=\"chart-element__information__song text--truncate color--primary\">Hawai</span>,\n",
       " <span class=\"chart-element__information__song text--truncate color--primary\">Diamonds</span>,\n",
       " <span class=\"chart-element__information__song text--truncate color--primary\">7 Summers</span>,\n",
       " <span class=\"chart-element__information__song text--truncate color--primary\">Ain't Always The Cowboy</span>,\n",
       " <span class=\"chart-element__information__song text--truncate color--primary\">Don't Stop</span>,\n",
       " <span class=\"chart-element__information__song text--truncate color--primary\">Heather</span>,\n",
       " <span class=\"chart-element__information__song text--truncate color--primary\">Starting Over</span>,\n",
       " <span class=\"chart-element__information__song text--truncate color--primary\">Hit Different</span>,\n",
       " <span class=\"chart-element__information__song text--truncate color--primary\">Martin &amp; Gina</span>,\n",
       " <span class=\"chart-element__information__song text--truncate color--primary\">Big, Big Plans</span>,\n",
       " <span class=\"chart-element__information__song text--truncate color--primary\">B.S.</span>,\n",
       " <span class=\"chart-element__information__song text--truncate color--primary\">U 2 Luv</span>,\n",
       " <span class=\"chart-element__information__song text--truncate color--primary\">Hate The Way</span>,\n",
       " <span class=\"chart-element__information__song text--truncate color--primary\">The Bigger Picture</span>,\n",
       " <span class=\"chart-element__information__song text--truncate color--primary\">Relacion</span>,\n",
       " <span class=\"chart-element__information__song text--truncate color--primary\">Good Time</span>,\n",
       " <span class=\"chart-element__information__song text--truncate color--primary\">Do It</span>,\n",
       " <span class=\"chart-element__information__song text--truncate color--primary\">Greece</span>,\n",
       " <span class=\"chart-element__information__song text--truncate color--primary\">Kacey Talk</span>,\n",
       " <span class=\"chart-element__information__song text--truncate color--primary\">Blind</span>,\n",
       " <span class=\"chart-element__information__song text--truncate color--primary\">Put Your Records On</span>,\n",
       " <span class=\"chart-element__information__song text--truncate color--primary\">OK Not To Be OK</span>,\n",
       " <span class=\"chart-element__information__song text--truncate color--primary\">Canceled</span>,\n",
       " <span class=\"chart-element__information__song text--truncate color--primary\">Glock In My Lap</span>,\n",
       " <span class=\"chart-element__information__song text--truncate color--primary\">Un Dia (One Day)</span>,\n",
       " <span class=\"chart-element__information__song text--truncate color--primary\">Ice Cream</span>,\n",
       " <span class=\"chart-element__information__song text--truncate color--primary\">Happy Does</span>,\n",
       " <span class=\"chart-element__information__song text--truncate color--primary\">Smile</span>,\n",
       " <span class=\"chart-element__information__song text--truncate color--primary\">Breaking Me</span>,\n",
       " <span class=\"chart-element__information__song text--truncate color--primary\">Cardigan</span>,\n",
       " <span class=\"chart-element__information__song text--truncate color--primary\">Girls In The Hood</span>,\n",
       " <span class=\"chart-element__information__song text--truncate color--primary\">3 Headed Goat</span>,\n",
       " <span class=\"chart-element__information__song text--truncate color--primary\">I Called Mama</span>,\n",
       " <span class=\"chart-element__information__song text--truncate color--primary\">Bloody Valentine</span>,\n",
       " <span class=\"chart-element__information__song text--truncate color--primary\">Throat Baby (Go Baby)</span>,\n",
       " <span class=\"chart-element__information__song text--truncate color--primary\">Hole In The Bottle</span>,\n",
       " <span class=\"chart-element__information__song text--truncate color--primary\">La Jeepeta</span>,\n",
       " <span class=\"chart-element__information__song text--truncate color--primary\">Caramelo</span>,\n",
       " <span class=\"chart-element__information__song text--truncate color--primary\">Pardon</span>,\n",
       " <span class=\"chart-element__information__song text--truncate color--primary\">One Too Many</span>,\n",
       " <span class=\"chart-element__information__song text--truncate color--primary\">Dollaz On My Head</span>,\n",
       " <span class=\"chart-element__information__song text--truncate color--primary\">Champagne Night</span>]"
      ]
     },
     "execution_count": 2,
     "metadata": {},
     "output_type": "execute_result"
    }
   ],
   "source": [
    "# 빌보드차트로부터 곡명 태그요소 가져오기\n",
    "\n",
    "import requests\n",
    "from bs4 import BeautifulSoup\n",
    "\n",
    "url =\"https://www.billboard.com/charts/hot-100\"\n",
    "\n",
    "html_music = requests.get(url).text  # 요청 사이트 html소스 가져오기\n",
    "soup_music = BeautifulSoup(html_music,'lxml') # html 데이터 파싱하여 soup_music에 저장\n",
    "\n",
    "# 파싱된 데이터 soup_music으로부터 곡명 데이터가 위치한 태그 요소 추출\n",
    "titles= soup_music.select('span.chart-element__information__song')\n",
    "titles"
   ]
  },
  {
   "cell_type": "code",
   "execution_count": 3,
   "metadata": {},
   "outputs": [
    {
     "data": {
      "text/plain": [
       "['Mood',\n",
       " 'WAP',\n",
       " 'Laugh Now Cry Later',\n",
       " 'Blinding Lights',\n",
       " 'Savage Love (Laxed - Siren Beat)',\n",
       " 'I Hope',\n",
       " 'Dynamite',\n",
       " 'Rockstar',\n",
       " 'Holy',\n",
       " 'Lemonade',\n",
       " 'Watermelon Sugar',\n",
       " 'Before You Go',\n",
       " 'For The Night',\n",
       " 'Lonely',\n",
       " 'Go Crazy',\n",
       " 'Got What I Got',\n",
       " 'One Of Them Girls',\n",
       " 'Whats Poppin',\n",
       " 'Circles',\n",
       " 'Be Like That',\n",
       " 'Dreams',\n",
       " 'Come & Go',\n",
       " 'Said Sum',\n",
       " 'Kings & Queens',\n",
       " 'What You Know Bout Love',\n",
       " 'Bang!',\n",
       " 'ily',\n",
       " 'More Than My Hometown',\n",
       " 'Some Girls',\n",
       " 'Wonder',\n",
       " 'Adore You',\n",
       " 'The Woo',\n",
       " 'Roses',\n",
       " 'Break My Heart',\n",
       " 'Whole Lotta Choppas',\n",
       " \"Don't Start Now\",\n",
       " 'One Beer',\n",
       " 'Rags2Riches',\n",
       " 'Franchise',\n",
       " 'Mood Swings',\n",
       " 'Love You Like I Used To',\n",
       " 'Mr. Right Now',\n",
       " 'I Should Probably Go To Bed',\n",
       " 'Pretty Heart',\n",
       " \"Lovin' On You\",\n",
       " 'Popstar',\n",
       " 'Levitating',\n",
       " 'Midnight Sky',\n",
       " 'Happy Anywhere',\n",
       " 'Runnin',\n",
       " '24',\n",
       " \"You're Mines Still\",\n",
       " 'Tap In',\n",
       " \"My Ex's Best Friend\",\n",
       " 'Wishing Well',\n",
       " 'Everywhere But On',\n",
       " 'Better Together',\n",
       " 'You Broke Me First.',\n",
       " 'Hawai',\n",
       " 'Diamonds',\n",
       " '7 Summers',\n",
       " \"Ain't Always The Cowboy\",\n",
       " \"Don't Stop\",\n",
       " 'Heather',\n",
       " 'Starting Over',\n",
       " 'Hit Different',\n",
       " 'Martin & Gina',\n",
       " 'Big, Big Plans',\n",
       " 'B.S.',\n",
       " 'U 2 Luv',\n",
       " 'Hate The Way',\n",
       " 'The Bigger Picture',\n",
       " 'Relacion',\n",
       " 'Good Time',\n",
       " 'Do It',\n",
       " 'Greece',\n",
       " 'Kacey Talk',\n",
       " 'Blind',\n",
       " 'Put Your Records On',\n",
       " 'OK Not To Be OK',\n",
       " 'Canceled',\n",
       " 'Glock In My Lap',\n",
       " 'Un Dia (One Day)',\n",
       " 'Ice Cream',\n",
       " 'Happy Does',\n",
       " 'Smile',\n",
       " 'Breaking Me',\n",
       " 'Cardigan',\n",
       " 'Girls In The Hood',\n",
       " '3 Headed Goat',\n",
       " 'I Called Mama',\n",
       " 'Bloody Valentine',\n",
       " 'Throat Baby (Go Baby)',\n",
       " 'Hole In The Bottle',\n",
       " 'La Jeepeta',\n",
       " 'Caramelo',\n",
       " 'Pardon',\n",
       " 'One Too Many',\n",
       " 'Dollaz On My Head',\n",
       " 'Champagne Night']"
      ]
     },
     "execution_count": 3,
     "metadata": {},
     "output_type": "execute_result"
    }
   ],
   "source": [
    "# 태그 요소 항목으로부터 곡명(텍스트) 추출\n",
    "\n",
    "music_titles =[]    # 추출한 곡명을 담을 리스트\n",
    "\n",
    "for title in titles:\n",
    "    st_title = title.get_text().strip() # 문자열(텍스트)만 가져온 뒤 앞 뒤 개행문자나 공백 제거\n",
    "    music_titles.append(st_title)   # music_titles 리스트에 한 곡명씩 추가\n",
    "    \n",
    "music_titles"
   ]
  },
  {
   "cell_type": "markdown",
   "metadata": {},
   "source": [
    "### 아티스트 데이터 가져오기"
   ]
  },
  {
   "cell_type": "code",
   "execution_count": 4,
   "metadata": {},
   "outputs": [
    {
     "data": {
      "text/plain": [
       "['24kGoldn Featuring iann dior',\n",
       " 'Cardi B Featuring Megan Thee Stallion',\n",
       " 'Drake Featuring Lil Durk',\n",
       " 'The Weeknd',\n",
       " 'Jawsh 685 x Jason Derulo',\n",
       " 'Gabby Barrett Featuring Charlie Puth',\n",
       " 'BTS',\n",
       " 'DaBaby Featuring Roddy Ricch',\n",
       " 'Justin Bieber Featuring Chance The Rapper',\n",
       " 'Internet Money & Gunna Featuring Don Toliver & NAV',\n",
       " 'Harry Styles',\n",
       " 'Lewis Capaldi',\n",
       " 'Pop Smoke Featuring Lil Baby & DaBaby',\n",
       " 'Justin Bieber & benny blanco',\n",
       " 'Chris Brown & Young Thug',\n",
       " 'Jason Aldean',\n",
       " 'Lee Brice',\n",
       " 'Jack Harlow Featuring DaBaby, Tory Lanez & Lil Wayne',\n",
       " 'Post Malone',\n",
       " 'Kane Brown With Swae Lee & Khalid',\n",
       " 'Fleetwood Mac',\n",
       " 'Juice WRLD x Marshmello',\n",
       " 'Moneybagg Yo',\n",
       " 'Ava Max',\n",
       " 'Pop Smoke',\n",
       " 'AJR',\n",
       " 'surf mesa Featuring Emilee',\n",
       " 'Morgan Wallen',\n",
       " 'Jameson Rodgers',\n",
       " 'Shawn Mendes',\n",
       " 'Harry Styles',\n",
       " 'Pop Smoke Featuring 50 Cent & Roddy Ricch',\n",
       " 'SAINt JHN',\n",
       " 'Dua Lipa',\n",
       " 'Sada Baby Featuring Nicki Minaj',\n",
       " 'Dua Lipa',\n",
       " 'HARDY Featuring Lauren Alaina & Devin Dawson',\n",
       " 'Rod Wave Featuring ATR Son Son',\n",
       " 'Travis Scott Featuring Young Thug & M.I.A.',\n",
       " 'Pop Smoke Featuring Lil Tjay',\n",
       " 'Russell Dickerson',\n",
       " '21 Savage & Metro Boomin Featuring Drake',\n",
       " 'Dan + Shay',\n",
       " 'Parker McCollum',\n",
       " 'Luke Combs',\n",
       " 'DJ Khaled Featuring Drake',\n",
       " 'Dua Lipa Featuring DaBaby',\n",
       " 'Miley Cyrus',\n",
       " 'Blake Shelton Featuring Gwen Stefani',\n",
       " '21 Savage & Metro Boomin',\n",
       " 'Money Man Featuring Lil Baby',\n",
       " 'Yung Bleu Featuring Drake',\n",
       " 'Saweetie',\n",
       " 'Machine Gun Kelly X blackbear',\n",
       " 'Juice WRLD',\n",
       " 'Matt Stell',\n",
       " 'Luke Combs',\n",
       " 'Tate McRae',\n",
       " 'Maluma',\n",
       " 'Sam Smith',\n",
       " 'Morgan Wallen',\n",
       " 'Jon Pardi',\n",
       " 'Megan Thee Stallion Featuring Young Thug',\n",
       " 'Conan Gray',\n",
       " 'Chris Stapleton',\n",
       " 'SZA Featuring Ty Dolla $ign',\n",
       " 'Polo G',\n",
       " 'Chris Lane',\n",
       " 'Jhene Aiko Featuring H.E.R.',\n",
       " 'Ne-Yo & Jeremih',\n",
       " 'G-Eazy Featuring blackbear',\n",
       " 'Lil Baby',\n",
       " 'Sech, Daddy Yankee & J Balvin Featuring ROSALIA & Farruko',\n",
       " 'Niko Moon',\n",
       " 'Chloe X Halle',\n",
       " 'DJ Khaled Featuring Drake',\n",
       " 'YoungBoy Never Broke Again',\n",
       " 'DaBaby Featuring Young Thug',\n",
       " 'Ritt Momney',\n",
       " 'Marshmello & Demi Lovato',\n",
       " 'Larray',\n",
       " '21 Savage & Metro Boomin',\n",
       " 'J Balvin, Dua Lipa, Bad Bunny & Tainy',\n",
       " 'BLACKPINK X Selena Gomez',\n",
       " 'Kenny Chesney',\n",
       " 'Juice WRLD & The Weeknd',\n",
       " 'Topic & A7S',\n",
       " 'Taylor Swift',\n",
       " 'Megan Thee Stallion',\n",
       " 'Lil Durk Featuring Lil Baby & Polo G',\n",
       " 'Tim McGraw',\n",
       " 'Machine Gun Kelly',\n",
       " 'BRS Kash',\n",
       " 'Kelsea Ballerini',\n",
       " 'Nio Garcia x Anuel AA x Myke Towers x Brray x Juanka',\n",
       " 'Ozuna x Karol G x Myke Towers',\n",
       " 'T.I. Featuring Lil Baby',\n",
       " 'Keith Urban Duet With P!nk',\n",
       " 'Gunna Featuring Young Thug',\n",
       " 'Lady A']"
      ]
     },
     "execution_count": 4,
     "metadata": {},
     "output_type": "execute_result"
    }
   ],
   "source": [
    "#파싱된 데이터에서 아티스트 태그요소 가져오고 아티스트(텍스트)추출하기\n",
    "\n",
    "# 앞에서 파싱된 데이터 soup_music으로부터 아티스트 데이터가 위치한 태그 요소 추출\n",
    "\n",
    "artists= soup_music.select('span.chart-element__information__artist')\n",
    "artists\n",
    "\n",
    "music_artists =[]\n",
    "for artist in artists:\n",
    "    st_artist= artist.get_text().strip()  # 텍스트만 가져온 뒤 앞 뒤 개행문자나 공백 제거\n",
    "    music_artists.append(st_artist)  \n",
    "    \n",
    "music_artists"
   ]
  },
  {
   "cell_type": "code",
   "execution_count": 5,
   "metadata": {},
   "outputs": [
    {
     "data": {
      "text/plain": [
       "'24kGoldn Featuring iann dior'"
      ]
     },
     "execution_count": 5,
     "metadata": {},
     "output_type": "execute_result"
    }
   ],
   "source": [
    "music_artists[0]"
   ]
  },
  {
   "cell_type": "markdown",
   "metadata": {},
   "source": [
    "### 빌보트차트 순위 가져오기"
   ]
  },
  {
   "cell_type": "code",
   "execution_count": 6,
   "metadata": {},
   "outputs": [
    {
     "name": "stdout",
     "output_type": "stream",
     "text": [
      "========2020년11월3일 빌보드 Top 100========\n",
      "\n",
      "1: Mood / 24kGoldn Featuring iann dior\n",
      "2: WAP / Cardi B Featuring Megan Thee Stallion\n",
      "3: Laugh Now Cry Later / Drake Featuring Lil Durk\n",
      "4: Blinding Lights / The Weeknd\n",
      "5: Savage Love (Laxed - Siren Beat) / Jawsh 685 x Jason Derulo\n",
      "6: I Hope / Gabby Barrett Featuring Charlie Puth\n",
      "7: Dynamite / BTS\n",
      "8: Rockstar / DaBaby Featuring Roddy Ricch\n",
      "9: Holy / Justin Bieber Featuring Chance The Rapper\n",
      "10: Lemonade / Internet Money & Gunna Featuring Don Toliver & NAV\n",
      "11: Watermelon Sugar / Harry Styles\n",
      "12: Before You Go / Lewis Capaldi\n",
      "13: For The Night / Pop Smoke Featuring Lil Baby & DaBaby\n",
      "14: Lonely / Justin Bieber & benny blanco\n",
      "15: Go Crazy / Chris Brown & Young Thug\n",
      "16: Got What I Got / Jason Aldean\n",
      "17: One Of Them Girls / Lee Brice\n",
      "18: Whats Poppin / Jack Harlow Featuring DaBaby, Tory Lanez & Lil Wayne\n",
      "19: Circles / Post Malone\n",
      "20: Be Like That / Kane Brown With Swae Lee & Khalid\n",
      "21: Dreams / Fleetwood Mac\n",
      "22: Come & Go / Juice WRLD x Marshmello\n",
      "23: Said Sum / Moneybagg Yo\n",
      "24: Kings & Queens / Ava Max\n",
      "25: What You Know Bout Love / Pop Smoke\n",
      "26: Bang! / AJR\n",
      "27: ily / surf mesa Featuring Emilee\n",
      "28: More Than My Hometown / Morgan Wallen\n",
      "29: Some Girls / Jameson Rodgers\n",
      "30: Wonder / Shawn Mendes\n",
      "31: Adore You / Harry Styles\n",
      "32: The Woo / Pop Smoke Featuring 50 Cent & Roddy Ricch\n",
      "33: Roses / SAINt JHN\n",
      "34: Break My Heart / Dua Lipa\n",
      "35: Whole Lotta Choppas / Sada Baby Featuring Nicki Minaj\n",
      "36: Don't Start Now / Dua Lipa\n",
      "37: One Beer / HARDY Featuring Lauren Alaina & Devin Dawson\n",
      "38: Rags2Riches / Rod Wave Featuring ATR Son Son\n",
      "39: Franchise / Travis Scott Featuring Young Thug & M.I.A.\n",
      "40: Mood Swings / Pop Smoke Featuring Lil Tjay\n",
      "41: Love You Like I Used To / Russell Dickerson\n",
      "42: Mr. Right Now / 21 Savage & Metro Boomin Featuring Drake\n",
      "43: I Should Probably Go To Bed / Dan + Shay\n",
      "44: Pretty Heart / Parker McCollum\n",
      "45: Lovin' On You / Luke Combs\n",
      "46: Popstar / DJ Khaled Featuring Drake\n",
      "47: Levitating / Dua Lipa Featuring DaBaby\n",
      "48: Midnight Sky / Miley Cyrus\n",
      "49: Happy Anywhere / Blake Shelton Featuring Gwen Stefani\n",
      "50: Runnin / 21 Savage & Metro Boomin\n",
      "51: 24 / Money Man Featuring Lil Baby\n",
      "52: You're Mines Still / Yung Bleu Featuring Drake\n",
      "53: Tap In / Saweetie\n",
      "54: My Ex's Best Friend / Machine Gun Kelly X blackbear\n",
      "55: Wishing Well / Juice WRLD\n",
      "56: Everywhere But On / Matt Stell\n",
      "57: Better Together / Luke Combs\n",
      "58: You Broke Me First. / Tate McRae\n",
      "59: Hawai / Maluma\n",
      "60: Diamonds / Sam Smith\n",
      "61: 7 Summers / Morgan Wallen\n",
      "62: Ain't Always The Cowboy / Jon Pardi\n",
      "63: Don't Stop / Megan Thee Stallion Featuring Young Thug\n",
      "64: Heather / Conan Gray\n",
      "65: Starting Over / Chris Stapleton\n",
      "66: Hit Different / SZA Featuring Ty Dolla $ign\n",
      "67: Martin & Gina / Polo G\n",
      "68: Big, Big Plans / Chris Lane\n",
      "69: B.S. / Jhene Aiko Featuring H.E.R.\n",
      "70: U 2 Luv / Ne-Yo & Jeremih\n",
      "71: Hate The Way / G-Eazy Featuring blackbear\n",
      "72: The Bigger Picture / Lil Baby\n",
      "73: Relacion / Sech, Daddy Yankee & J Balvin Featuring ROSALIA & Farruko\n",
      "74: Good Time / Niko Moon\n",
      "75: Do It / Chloe X Halle\n",
      "76: Greece / DJ Khaled Featuring Drake\n",
      "77: Kacey Talk / YoungBoy Never Broke Again\n",
      "78: Blind / DaBaby Featuring Young Thug\n",
      "79: Put Your Records On / Ritt Momney\n",
      "80: OK Not To Be OK / Marshmello & Demi Lovato\n",
      "81: Canceled / Larray\n",
      "82: Glock In My Lap / 21 Savage & Metro Boomin\n",
      "83: Un Dia (One Day) / J Balvin, Dua Lipa, Bad Bunny & Tainy\n",
      "84: Ice Cream / BLACKPINK X Selena Gomez\n",
      "85: Happy Does / Kenny Chesney\n",
      "86: Smile / Juice WRLD & The Weeknd\n",
      "87: Breaking Me / Topic & A7S\n",
      "88: Cardigan / Taylor Swift\n",
      "89: Girls In The Hood / Megan Thee Stallion\n",
      "90: 3 Headed Goat / Lil Durk Featuring Lil Baby & Polo G\n",
      "91: I Called Mama / Tim McGraw\n",
      "92: Bloody Valentine / Machine Gun Kelly\n",
      "93: Throat Baby (Go Baby) / BRS Kash\n",
      "94: Hole In The Bottle / Kelsea Ballerini\n",
      "95: La Jeepeta / Nio Garcia x Anuel AA x Myke Towers x Brray x Juanka\n",
      "96: Caramelo / Ozuna x Karol G x Myke Towers\n",
      "97: Pardon / T.I. Featuring Lil Baby\n",
      "98: One Too Many / Keith Urban Duet With P!nk\n",
      "99: Dollaz On My Head / Gunna Featuring Young Thug\n",
      "100: Champagne Night / Lady A\n"
     ]
    }
   ],
   "source": [
    "# 곡명과 아티스트 데이터를 정리하여 출력\n",
    "\n",
    "import datetime\n",
    "now=datetime.datetime.now()\n",
    "print(\"========%s년%s월%s일 빌보드 Top 100========\\n\"%(now.year,now.month,now.day))\n",
    "\n",
    "for k in range(100):\n",
    "    print(\"%s: %s / %s\" %(k+1,music_titles[k],music_artists[k]))"
   ]
  },
  {
   "cell_type": "markdown",
   "metadata": {},
   "source": [
    "## 이미지 데이터 가져오기"
   ]
  },
  {
   "cell_type": "markdown",
   "metadata": {},
   "source": [
    "### 웹 사이트에서 이미지 데이터 가져오기"
   ]
  },
  {
   "cell_type": "markdown",
   "metadata": {},
   "source": [
    "무료 픽토그램 사이트\n",
    "-  https://iconmonstr.com/\n"
   ]
  },
  {
   "cell_type": "markdown",
   "metadata": {},
   "source": [
    "### 관심위치에서 요소검사"
   ]
  },
  {
   "cell_type": "code",
   "execution_count": null,
   "metadata": {},
   "outputs": [],
   "source": [
    "# 이미지를 가져오기 위해 해당 위치에서 검사\n",
    "\n",
    "# 1. 검사 -> 2. select()의 인자로 쓸 태그 확인"
   ]
  },
  {
   "cell_type": "markdown",
   "metadata": {},
   "source": [
    "### 이미지 주소의 태그요소 가져오기"
   ]
  },
  {
   "cell_type": "code",
   "execution_count": 7,
   "metadata": {},
   "outputs": [
    {
     "data": {
      "text/plain": [
       "[]"
      ]
     },
     "execution_count": 7,
     "metadata": {},
     "output_type": "execute_result"
    }
   ],
   "source": [
    "# 이미지 사이트로부터 이미지 주소 태그요소 가져오기\n",
    "\n",
    "import requests\n",
    "from bs4 import BeautifulSoup\n",
    "\n",
    "URL = 'https://iconmonstr.com/'\n",
    "h_image = requests.get(URL).text\n",
    "l_image = BeautifulSoup(h_image,'lxml')\n",
    "s_image = l_image.select('img.favorite') # 공개이미지가 아니라서 소스가 없는 것 같음\n",
    "s_image"
   ]
  },
  {
   "cell_type": "code",
   "execution_count": 8,
   "metadata": {},
   "outputs": [
    {
     "data": {
      "text/plain": [
       "[<img class=\"preload\" height=\"1\" src=\"https://cdns.iconmonstr.com/wp-content/assets/preview/2020/240/iconmonstr-fish-1.png\" width=\"1\"/>,\n",
       " <img class=\"preload\" height=\"1\" src=\"https://cdns.iconmonstr.com/wp-content/assets/preview/2020/240/iconmonstr-fish-2.png\" width=\"1\"/>,\n",
       " <img class=\"preload\" height=\"1\" src=\"https://cdns.iconmonstr.com/wp-content/assets/preview/2020/240/iconmonstr-process-1.png\" width=\"1\"/>,\n",
       " <img class=\"preload\" height=\"1\" src=\"https://cdns.iconmonstr.com/wp-content/assets/preview/2020/240/iconmonstr-process-2.png\" width=\"1\"/>,\n",
       " <img class=\"preload\" height=\"1\" src=\"https://cdns.iconmonstr.com/wp-content/assets/preview/2020/240/iconmonstr-friend-1.png\" width=\"1\"/>,\n",
       " <img class=\"preload\" height=\"1\" src=\"https://cdns.iconmonstr.com/wp-content/assets/preview/2020/240/iconmonstr-friend-2.png\" width=\"1\"/>,\n",
       " <img class=\"preload\" height=\"1\" src=\"https://cdns.iconmonstr.com/wp-content/assets/preview/2020/240/iconmonstr-friend-3.png\" width=\"1\"/>,\n",
       " <img class=\"preload\" height=\"1\" src=\"https://cdns.iconmonstr.com/wp-content/assets/preview/2020/240/iconmonstr-friend-4.png\" width=\"1\"/>,\n",
       " <img class=\"preload\" height=\"1\" src=\"https://cdns.iconmonstr.com/wp-content/assets/preview/2020/240/iconmonstr-friend-5.png\" width=\"1\"/>,\n",
       " <img class=\"preload\" height=\"1\" src=\"https://cdns.iconmonstr.com/wp-content/assets/preview/2020/240/iconmonstr-friend-6.png\" width=\"1\"/>,\n",
       " <img class=\"preload\" height=\"1\" src=\"https://cdns.iconmonstr.com/wp-content/assets/preview/2019/240/iconmonstr-school-21.png\" width=\"1\"/>,\n",
       " <img class=\"preload\" height=\"1\" src=\"https://cdns.iconmonstr.com/wp-content/assets/preview/2019/240/iconmonstr-school-22.png\" width=\"1\"/>,\n",
       " <img class=\"preload\" height=\"1\" src=\"https://cdns.iconmonstr.com/wp-content/assets/preview/2019/240/iconmonstr-school-23.png\" width=\"1\"/>,\n",
       " <img class=\"preload\" height=\"1\" src=\"https://cdns.iconmonstr.com/wp-content/assets/preview/2019/240/iconmonstr-school-24.png\" width=\"1\"/>,\n",
       " <img class=\"preload\" height=\"1\" src=\"https://cdns.iconmonstr.com/wp-content/assets/preview/2019/240/iconmonstr-school-25.png\" width=\"1\"/>,\n",
       " <img class=\"preload\" height=\"1\" src=\"https://cdns.iconmonstr.com/wp-content/assets/preview/2019/240/iconmonstr-school-26.png\" width=\"1\"/>,\n",
       " <img class=\"preload\" height=\"1\" src=\"https://cdns.iconmonstr.com/wp-content/assets/preview/2019/240/iconmonstr-school-27.png\" width=\"1\"/>,\n",
       " <img class=\"preload\" height=\"1\" src=\"https://cdns.iconmonstr.com/wp-content/assets/preview/2019/240/iconmonstr-school-28.png\" width=\"1\"/>,\n",
       " <img class=\"preload\" height=\"1\" src=\"https://cdns.iconmonstr.com/wp-content/assets/preview/2019/240/iconmonstr-school-29.png\" width=\"1\"/>,\n",
       " <img class=\"preload\" height=\"1\" src=\"https://cdns.iconmonstr.com/wp-content/assets/preview/2019/240/iconmonstr-school-30.png\" width=\"1\"/>,\n",
       " <img class=\"preload\" height=\"1\" src=\"https://cdns.iconmonstr.com/wp-content/assets/preview/2019/240/iconmonstr-tag-20.png\" width=\"1\"/>,\n",
       " <img class=\"preload\" height=\"1\" src=\"https://cdns.iconmonstr.com/wp-content/assets/preview/2019/240/iconmonstr-tag-21.png\" width=\"1\"/>,\n",
       " <img class=\"preload\" height=\"1\" src=\"https://cdns.iconmonstr.com/wp-content/assets/preview/2019/240/iconmonstr-tag-22.png\" width=\"1\"/>,\n",
       " <img class=\"preload\" height=\"1\" src=\"https://cdns.iconmonstr.com/wp-content/assets/preview/2019/240/iconmonstr-tag-23.png\" width=\"1\"/>,\n",
       " <img class=\"preload\" height=\"1\" src=\"https://cdns.iconmonstr.com/wp-content/assets/preview/2019/240/iconmonstr-door-1.png\" width=\"1\"/>,\n",
       " <img class=\"preload\" height=\"1\" src=\"https://cdns.iconmonstr.com/wp-content/assets/preview/2019/240/iconmonstr-door-2.png\" width=\"1\"/>,\n",
       " <img class=\"preload\" height=\"1\" src=\"https://cdns.iconmonstr.com/wp-content/assets/preview/2019/240/iconmonstr-door-3.png\" width=\"1\"/>,\n",
       " <img class=\"preload\" height=\"1\" src=\"https://cdns.iconmonstr.com/wp-content/assets/preview/2019/240/iconmonstr-door-4.png\" width=\"1\"/>,\n",
       " <img class=\"preload\" height=\"1\" src=\"https://cdns.iconmonstr.com/wp-content/assets/preview/2019/240/iconmonstr-door-5.png\" width=\"1\"/>,\n",
       " <img class=\"preload\" height=\"1\" src=\"https://cdns.iconmonstr.com/wp-content/assets/preview/2019/240/iconmonstr-door-6.png\" width=\"1\"/>,\n",
       " <img class=\"preload\" height=\"1\" src=\"https://cdns.iconmonstr.com/wp-content/assets/preview/2019/240/iconmonstr-door-7.png\" width=\"1\"/>,\n",
       " <img class=\"preload\" height=\"1\" src=\"https://cdns.iconmonstr.com/wp-content/assets/preview/2019/240/iconmonstr-door-8.png\" width=\"1\"/>,\n",
       " <img class=\"preload\" height=\"1\" src=\"https://cdns.iconmonstr.com/wp-content/assets/preview/2019/240/iconmonstr-building-45.png\" width=\"1\"/>,\n",
       " <img class=\"preload\" height=\"1\" src=\"https://cdns.iconmonstr.com/wp-content/assets/preview/2019/240/iconmonstr-building-46.png\" width=\"1\"/>,\n",
       " <img class=\"preload\" height=\"1\" src=\"https://cdns.iconmonstr.com/wp-content/assets/preview/2019/240/iconmonstr-bus-1.png\" width=\"1\"/>,\n",
       " <img class=\"preload\" height=\"1\" src=\"https://cdns.iconmonstr.com/wp-content/assets/preview/2019/240/iconmonstr-bus-2.png\" width=\"1\"/>,\n",
       " <img class=\"preload\" height=\"1\" src=\"https://cdns.iconmonstr.com/wp-content/assets/preview/2019/240/iconmonstr-bus-3.png\" width=\"1\"/>,\n",
       " <img class=\"preload\" height=\"1\" src=\"https://cdns.iconmonstr.com/wp-content/assets/preview/2019/240/iconmonstr-bus-4.png\" width=\"1\"/>,\n",
       " <img class=\"preload\" height=\"1\" src=\"https://cdns.iconmonstr.com/wp-content/assets/preview/2019/240/iconmonstr-bus-5.png\" width=\"1\"/>,\n",
       " <img class=\"preload\" height=\"1\" src=\"https://cdns.iconmonstr.com/wp-content/assets/preview/2019/240/iconmonstr-bus-6.png\" width=\"1\"/>,\n",
       " <img class=\"preload\" height=\"1\" src=\"https://cdns.iconmonstr.com/wp-content/assets/preview/2019/240/iconmonstr-bus-7.png\" width=\"1\"/>,\n",
       " <img class=\"preload\" height=\"1\" src=\"https://cdns.iconmonstr.com/wp-content/assets/preview/2019/240/iconmonstr-bus-8.png\" width=\"1\"/>,\n",
       " <img class=\"preload\" height=\"1\" src=\"https://cdns.iconmonstr.com/wp-content/assets/preview/2019/240/iconmonstr-party-1.png\" width=\"1\"/>,\n",
       " <img class=\"preload\" height=\"1\" src=\"https://cdns.iconmonstr.com/wp-content/assets/preview/2019/240/iconmonstr-party-2.png\" width=\"1\"/>,\n",
       " <img class=\"preload\" height=\"1\" src=\"https://cdns.iconmonstr.com/wp-content/assets/preview/2019/240/iconmonstr-party-3.png\" width=\"1\"/>,\n",
       " <img class=\"preload\" height=\"1\" src=\"https://cdns.iconmonstr.com/wp-content/assets/preview/2019/240/iconmonstr-party-4.png\" width=\"1\"/>,\n",
       " <img class=\"preload\" height=\"1\" src=\"https://cdns.iconmonstr.com/wp-content/assets/preview/2019/240/iconmonstr-party-5.png\" width=\"1\"/>,\n",
       " <img class=\"preload\" height=\"1\" src=\"https://cdns.iconmonstr.com/wp-content/assets/preview/2019/240/iconmonstr-party-6.png\" width=\"1\"/>,\n",
       " <img class=\"preload\" height=\"1\" src=\"https://cdns.iconmonstr.com/wp-content/assets/preview/2019/240/iconmonstr-party-7.png\" width=\"1\"/>,\n",
       " <img class=\"preload\" height=\"1\" src=\"https://cdns.iconmonstr.com/wp-content/assets/preview/2019/240/iconmonstr-party-8.png\" width=\"1\"/>,\n",
       " <img class=\"preload\" height=\"1\" src=\"https://cdns.iconmonstr.com/wp-content/assets/preview/2019/240/iconmonstr-party-9.png\" width=\"1\"/>,\n",
       " <img class=\"preload\" height=\"1\" src=\"https://cdns.iconmonstr.com/wp-content/assets/preview/2019/240/iconmonstr-party-10.png\" width=\"1\"/>,\n",
       " <img class=\"preload\" height=\"1\" src=\"https://cdns.iconmonstr.com/wp-content/assets/preview/2019/240/iconmonstr-party-11.png\" width=\"1\"/>,\n",
       " <img class=\"preload\" height=\"1\" src=\"https://cdns.iconmonstr.com/wp-content/assets/preview/2019/240/iconmonstr-party-12.png\" width=\"1\"/>,\n",
       " <img class=\"preload\" height=\"1\" src=\"https://cdns.iconmonstr.com/wp-content/assets/preview/2019/240/iconmonstr-party-13.png\" width=\"1\"/>,\n",
       " <img class=\"preload\" height=\"1\" src=\"https://cdns.iconmonstr.com/wp-content/assets/preview/2019/240/iconmonstr-party-14.png\" width=\"1\"/>,\n",
       " <img class=\"preload\" height=\"1\" src=\"https://cdns.iconmonstr.com/wp-content/assets/preview/2019/240/iconmonstr-party-15.png\" width=\"1\"/>,\n",
       " <img class=\"preload\" height=\"1\" src=\"https://cdns.iconmonstr.com/wp-content/assets/preview/2019/240/iconmonstr-party-16.png\" width=\"1\"/>,\n",
       " <img class=\"preload\" height=\"1\" src=\"https://cdns.iconmonstr.com/wp-content/assets/preview/2019/240/iconmonstr-party-17.png\" width=\"1\"/>]"
      ]
     },
     "execution_count": 8,
     "metadata": {},
     "output_type": "execute_result"
    }
   ],
   "source": [
    "import requests\n",
    "from bs4 import BeautifulSoup\n",
    "\n",
    "URL='https://iconmonstr.com/'\n",
    "html_image = requests.get(URL).text  # 요청 사이트 html 소스 가져오기\n",
    "soup_image = BeautifulSoup(html_image,'lxml') # html 데이터 파싱하여 soup_image에 저장\n",
    "\n",
    "# 파싱된 데이터 soup_image으로부터 이미지 주소가 위치한 태그 요소 추출\n",
    "image_elements = soup_image.select('img.preload')\n",
    "image_elements"
   ]
  },
  {
   "cell_type": "markdown",
   "metadata": {},
   "source": [
    "### 이미지가 저장된 주소만 가져오기"
   ]
  },
  {
   "cell_type": "code",
   "execution_count": 9,
   "metadata": {},
   "outputs": [
    {
     "data": {
      "text/plain": [
       "['https://cdns.iconmonstr.com/wp-content/assets/preview/2020/240/iconmonstr-fish-1.png',\n",
       " 'https://cdns.iconmonstr.com/wp-content/assets/preview/2020/240/iconmonstr-fish-2.png',\n",
       " 'https://cdns.iconmonstr.com/wp-content/assets/preview/2020/240/iconmonstr-process-1.png',\n",
       " 'https://cdns.iconmonstr.com/wp-content/assets/preview/2020/240/iconmonstr-process-2.png',\n",
       " 'https://cdns.iconmonstr.com/wp-content/assets/preview/2020/240/iconmonstr-friend-1.png',\n",
       " 'https://cdns.iconmonstr.com/wp-content/assets/preview/2020/240/iconmonstr-friend-2.png',\n",
       " 'https://cdns.iconmonstr.com/wp-content/assets/preview/2020/240/iconmonstr-friend-3.png',\n",
       " 'https://cdns.iconmonstr.com/wp-content/assets/preview/2020/240/iconmonstr-friend-4.png',\n",
       " 'https://cdns.iconmonstr.com/wp-content/assets/preview/2020/240/iconmonstr-friend-5.png',\n",
       " 'https://cdns.iconmonstr.com/wp-content/assets/preview/2020/240/iconmonstr-friend-6.png',\n",
       " 'https://cdns.iconmonstr.com/wp-content/assets/preview/2019/240/iconmonstr-school-21.png',\n",
       " 'https://cdns.iconmonstr.com/wp-content/assets/preview/2019/240/iconmonstr-school-22.png',\n",
       " 'https://cdns.iconmonstr.com/wp-content/assets/preview/2019/240/iconmonstr-school-23.png',\n",
       " 'https://cdns.iconmonstr.com/wp-content/assets/preview/2019/240/iconmonstr-school-24.png',\n",
       " 'https://cdns.iconmonstr.com/wp-content/assets/preview/2019/240/iconmonstr-school-25.png',\n",
       " 'https://cdns.iconmonstr.com/wp-content/assets/preview/2019/240/iconmonstr-school-26.png',\n",
       " 'https://cdns.iconmonstr.com/wp-content/assets/preview/2019/240/iconmonstr-school-27.png',\n",
       " 'https://cdns.iconmonstr.com/wp-content/assets/preview/2019/240/iconmonstr-school-28.png',\n",
       " 'https://cdns.iconmonstr.com/wp-content/assets/preview/2019/240/iconmonstr-school-29.png',\n",
       " 'https://cdns.iconmonstr.com/wp-content/assets/preview/2019/240/iconmonstr-school-30.png',\n",
       " 'https://cdns.iconmonstr.com/wp-content/assets/preview/2019/240/iconmonstr-tag-20.png',\n",
       " 'https://cdns.iconmonstr.com/wp-content/assets/preview/2019/240/iconmonstr-tag-21.png',\n",
       " 'https://cdns.iconmonstr.com/wp-content/assets/preview/2019/240/iconmonstr-tag-22.png',\n",
       " 'https://cdns.iconmonstr.com/wp-content/assets/preview/2019/240/iconmonstr-tag-23.png',\n",
       " 'https://cdns.iconmonstr.com/wp-content/assets/preview/2019/240/iconmonstr-door-1.png',\n",
       " 'https://cdns.iconmonstr.com/wp-content/assets/preview/2019/240/iconmonstr-door-2.png',\n",
       " 'https://cdns.iconmonstr.com/wp-content/assets/preview/2019/240/iconmonstr-door-3.png',\n",
       " 'https://cdns.iconmonstr.com/wp-content/assets/preview/2019/240/iconmonstr-door-4.png',\n",
       " 'https://cdns.iconmonstr.com/wp-content/assets/preview/2019/240/iconmonstr-door-5.png',\n",
       " 'https://cdns.iconmonstr.com/wp-content/assets/preview/2019/240/iconmonstr-door-6.png',\n",
       " 'https://cdns.iconmonstr.com/wp-content/assets/preview/2019/240/iconmonstr-door-7.png',\n",
       " 'https://cdns.iconmonstr.com/wp-content/assets/preview/2019/240/iconmonstr-door-8.png',\n",
       " 'https://cdns.iconmonstr.com/wp-content/assets/preview/2019/240/iconmonstr-building-45.png',\n",
       " 'https://cdns.iconmonstr.com/wp-content/assets/preview/2019/240/iconmonstr-building-46.png',\n",
       " 'https://cdns.iconmonstr.com/wp-content/assets/preview/2019/240/iconmonstr-bus-1.png',\n",
       " 'https://cdns.iconmonstr.com/wp-content/assets/preview/2019/240/iconmonstr-bus-2.png',\n",
       " 'https://cdns.iconmonstr.com/wp-content/assets/preview/2019/240/iconmonstr-bus-3.png',\n",
       " 'https://cdns.iconmonstr.com/wp-content/assets/preview/2019/240/iconmonstr-bus-4.png',\n",
       " 'https://cdns.iconmonstr.com/wp-content/assets/preview/2019/240/iconmonstr-bus-5.png',\n",
       " 'https://cdns.iconmonstr.com/wp-content/assets/preview/2019/240/iconmonstr-bus-6.png',\n",
       " 'https://cdns.iconmonstr.com/wp-content/assets/preview/2019/240/iconmonstr-bus-7.png',\n",
       " 'https://cdns.iconmonstr.com/wp-content/assets/preview/2019/240/iconmonstr-bus-8.png',\n",
       " 'https://cdns.iconmonstr.com/wp-content/assets/preview/2019/240/iconmonstr-party-1.png',\n",
       " 'https://cdns.iconmonstr.com/wp-content/assets/preview/2019/240/iconmonstr-party-2.png',\n",
       " 'https://cdns.iconmonstr.com/wp-content/assets/preview/2019/240/iconmonstr-party-3.png',\n",
       " 'https://cdns.iconmonstr.com/wp-content/assets/preview/2019/240/iconmonstr-party-4.png',\n",
       " 'https://cdns.iconmonstr.com/wp-content/assets/preview/2019/240/iconmonstr-party-5.png',\n",
       " 'https://cdns.iconmonstr.com/wp-content/assets/preview/2019/240/iconmonstr-party-6.png',\n",
       " 'https://cdns.iconmonstr.com/wp-content/assets/preview/2019/240/iconmonstr-party-7.png',\n",
       " 'https://cdns.iconmonstr.com/wp-content/assets/preview/2019/240/iconmonstr-party-8.png',\n",
       " 'https://cdns.iconmonstr.com/wp-content/assets/preview/2019/240/iconmonstr-party-9.png',\n",
       " 'https://cdns.iconmonstr.com/wp-content/assets/preview/2019/240/iconmonstr-party-10.png',\n",
       " 'https://cdns.iconmonstr.com/wp-content/assets/preview/2019/240/iconmonstr-party-11.png',\n",
       " 'https://cdns.iconmonstr.com/wp-content/assets/preview/2019/240/iconmonstr-party-12.png',\n",
       " 'https://cdns.iconmonstr.com/wp-content/assets/preview/2019/240/iconmonstr-party-13.png',\n",
       " 'https://cdns.iconmonstr.com/wp-content/assets/preview/2019/240/iconmonstr-party-14.png',\n",
       " 'https://cdns.iconmonstr.com/wp-content/assets/preview/2019/240/iconmonstr-party-15.png',\n",
       " 'https://cdns.iconmonstr.com/wp-content/assets/preview/2019/240/iconmonstr-party-16.png',\n",
       " 'https://cdns.iconmonstr.com/wp-content/assets/preview/2019/240/iconmonstr-party-17.png']"
      ]
     },
     "execution_count": 9,
     "metadata": {},
     "output_type": "execute_result"
    }
   ],
   "source": [
    "# .get('속성')은 속성이 들어간 '속성값'만 반환하는 함수\n",
    "\n",
    "img_urls=[]\n",
    "\n",
    "for img in image_elements: # 리스트로 저장된 image_elements로 부터 주소 하나씩 반복변수 img에 가져옴\n",
    "    img_url = img.get('src') # src 속성의 값인 주소만 가져옴\n",
    "    img_urls.append(img_url)\n",
    "    \n",
    "img_urls"
   ]
  },
  {
   "cell_type": "markdown",
   "metadata": {},
   "source": [
    "### 이미지 내려받기"
   ]
  },
  {
   "cell_type": "code",
   "execution_count": null,
   "metadata": {},
   "outputs": [],
   "source": [
    "# 각 이미지 주소에 접속하여 이미지 내려받기\n",
    "\n",
    "- 탐색기에서'‘C:\\myCode\\download’ 폴더 만들기\n",
    "- os.path.basename(url) : url 경로에서 마지막 파일명 부분만 가져오기\n",
    "- urllib.request.urlretrieve(url,저장위치) : url로부터 파일 저장위치에 다운로드"
   ]
  },
  {
   "cell_type": "code",
   "execution_count": null,
   "metadata": {},
   "outputs": [],
   "source": [
    "import urllib\n",
    "import os\n",
    "\n",
    "folder = r'C:\\Users\\user\\Documents\\주피터노트북\\download' # PC에 다운받을 폴더 위치\n",
    "\n",
    "for url in img_urls:  # 앞서 생성한 img_urls로부터 이미지 주소 하나씩 url에 가져오기\n",
    "    save_path = folder + '/' + os.path.basename(url)\n",
    "    urllib.request.urlretrieve(url, save_path) # url로부터 save_path 위치에 파일 다운로드"
   ]
  },
  {
   "cell_type": "markdown",
   "metadata": {},
   "source": [
    "- os.path는 파일 경로를 생성 및 수정하고, 파일 정보를 쉽게 다룰 수 있게 해주는 모듈.\n",
    "    - os.path.abspath(path)  \n",
    " \n",
    "- 현재 경로를 Prefix로 하여 입력받은 경로를 절대경로로 바꿔서 반환합니다.\n",
    "\n",
    "    - abspath('tmp')\n",
    "\n",
    "    - 'C:\\\\Python30\\\\tmp'\n",
    "\n",
    "- 입력받은 경로의 기본 이름(base name)을 반환합니다.\n",
    "\n",
    "    - abspath() 함수와 반대되는 기능을 수행한다고 볼 수 있습니다.\n",
    "    - os.path.basename(path)\n",
    "\n",
    "    - basename('C:\\\\Python30\\\\tmp')\n",
    "\n",
    "        - 'tmp'\n",
    "\n",
    "    - basename('C:\\\\Python30\\\\tmp\\\\test.txt')\n",
    "\n",
    "        - 'test.txt'\n"
   ]
  },
  {
   "cell_type": "markdown",
   "metadata": {},
   "source": [
    "파이썬 os.path 모듈  \n",
    "- 코드 내에서 직접 파일을 다루는 경우 os.path 모듈을 사용하게 된다.  \n",
    "- os.path 내에는 경로반환, 경로추출 등 파일/디렉토리 경로와 관련된 많은 함수를 제공해준다.\n",
    "\n",
    "\n",
    "\n",
    "1. 다운로드 하기\n",
    "2. urllib.request\n",
    "3. 파일로 저장:urlretrieve()\n",
    "4. 메모리로 저장 : urlopen()"
   ]
  },
  {
   "cell_type": "code",
   "execution_count": null,
   "metadata": {},
   "outputs": [],
   "source": [
    "# 탐색기에서 내려받은 이미지 확인\n",
    "\n",
    "C:\\Users\\user\\Documents\\주피터노트북\\download"
   ]
  }
 ],
 "metadata": {
  "kernelspec": {
   "display_name": "Python 3",
   "language": "python",
   "name": "python3"
  },
  "language_info": {
   "codemirror_mode": {
    "name": "ipython",
    "version": 3
   },
   "file_extension": ".py",
   "mimetype": "text/x-python",
   "name": "python",
   "nbconvert_exporter": "python",
   "pygments_lexer": "ipython3",
   "version": "3.7.6"
  }
 },
 "nbformat": 4,
 "nbformat_minor": 4
}
