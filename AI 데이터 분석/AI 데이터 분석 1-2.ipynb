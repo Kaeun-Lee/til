{
 "cells": [
  {
   "cell_type": "markdown",
   "metadata": {},
   "source": [
    "# 머신러닝의 개념"
   ]
  },
  {
   "cell_type": "markdown",
   "metadata": {},
   "source": [
    "# 웹 스크래핑(Web Scraping)"
   ]
  },
  {
   "cell_type": "markdown",
   "metadata": {},
   "source": [
    "- 소프트웨어 기술을 활용해 웹 사이트 내에 있는 특정 정보를 추출하는 일\n",
    "- 웹 사이트에 접속해 자료를 추출, 필요한 정보만 가져오도록 구조를 분석하고 정리하는 작업\n",
    "- 다양한 패키지들을 이용하면 많은 양의 웹 자료를 정리하기 위한 반복적인 작업들을\n",
    "- 편리하게 수행할 수 있음"
   ]
  },
  {
   "cell_type": "markdown",
   "metadata": {},
   "source": [
    "## HTML 기본 구조"
   ]
  },
  {
   "cell_type": "markdown",
   "metadata": {},
   "source": [
    "### HTML 기본 구조"
   ]
  },
  {
   "cell_type": "code",
   "execution_count": null,
   "metadata": {},
   "outputs": [],
   "source": [
    "# < > 로 둘러쌓인 약속된 태그(tag)로 구성\n",
    "예) <html>, <head>, <title>, <body>,<p>\n",
    "\n",
    "# 태그에 따라서 HTML 파일의 문서 구조가 결정됨\n",
    "<태그> 내용 </태그>\n",
    "<태그 속성 = 값, 속성= 값> 내용 </태그>\n",
    "- 시작 태그에는 부가적인 정보를 나타내는 속성 지정"
   ]
  },
  {
   "cell_type": "markdown",
   "metadata": {},
   "source": [
    "## 웹 페이지의 HTML 소스 갖고 오기"
   ]
  },
  {
   "cell_type": "markdown",
   "metadata": {},
   "source": [
    "### urllib 파이썬 내장 패키지 사용하기"
   ]
  },
  {
   "cell_type": "code",
   "execution_count": 2,
   "metadata": {},
   "outputs": [
    {
     "data": {
      "text/plain": [
       "b'<!doctype html><html itemscope=\"\" itemtype=\"http://schema.org/WebPage\" lang=\"ko\"><head><meta content=\"text/html; charset=UTF-8\" http-equiv=\"Content-Type\"><meta content=\"/images/branding/googleg/1x/goo'"
      ]
     },
     "execution_count": 2,
     "metadata": {},
     "output_type": "execute_result"
    }
   ],
   "source": [
    "import urllib.request\n",
    "\n",
    "url = \"http://www.google.co.kr\"\n",
    "res = urllib.request.urlopen(url)\n",
    "data= res.read()\n",
    "data[0:200]"
   ]
  },
  {
   "cell_type": "markdown",
   "metadata": {},
   "source": [
    "### requests 라이브러리 사용하기"
   ]
  },
  {
   "cell_type": "code",
   "execution_count": 4,
   "metadata": {},
   "outputs": [
    {
     "data": {
      "text/plain": [
       "'<!doctype html><html itemscope=\"\" itemtype=\"http://schema.org/WebPage\" lang=\"ko\"><head><meta content=\"text/html; charset=UTF-8\" http-equiv=\"Content-Type\"><meta content=\"/images/branding/googleg/1x/goo'"
      ]
     },
     "execution_count": 4,
     "metadata": {},
     "output_type": "execute_result"
    }
   ],
   "source": [
    "import requests\n",
    "\n",
    "r = requests.get(\"http://www.google.co.kr\")\n",
    "r.text[0:200]"
   ]
  },
  {
   "cell_type": "code",
   "execution_count": 5,
   "metadata": {},
   "outputs": [
    {
     "data": {
      "text/plain": [
       "'<!doctype html><html itemscope=\"\" itemtype=\"http://schema.org/WebPage\" lang=\"ko\"><head><meta content=\"text/html; charset=UTF-8\" http-equiv=\"Content-Type\"><meta content=\"/images/branding/googleg/1x/goo'"
      ]
     },
     "execution_count": 5,
     "metadata": {},
     "output_type": "execute_result"
    }
   ],
   "source": [
    "import requests\n",
    "\n",
    "html = requests.get(\"http://www.google.co.kr\").text\n",
    "html[0:200]\n",
    "\n",
    "# 위에랑 동일한 결과가 나온다"
   ]
  },
  {
   "cell_type": "code",
   "execution_count": 6,
   "metadata": {},
   "outputs": [
    {
     "data": {
      "text/plain": [
       "'<!doctype html><html itemscope=\"\" itemtype=\"http://schema.org/WebPage\" lang=\"ko\"><head><meta content=\"text/html; charset=UTF-8\" http-equiv=\"Content-Type\"><meta content=\"/images/branding/googleg/1x/goo'"
      ]
     },
     "execution_count": 6,
     "metadata": {},
     "output_type": "execute_result"
    }
   ],
   "source": [
    "import requests\n",
    "i = requests.get(\"http://www.google.co.kr\").text[0:200]\n",
    "i"
   ]
  },
  {
   "cell_type": "markdown",
   "metadata": {},
   "source": [
    "### HTML 소스코드를 분석하고 처리하기"
   ]
  },
  {
   "cell_type": "code",
   "execution_count": null,
   "metadata": {},
   "outputs": [],
   "source": [
    "# 가지고 온 HTML 소스코드에서 원하는 데이터 추출해야 함\n",
    "\n",
    "## Beautiful Soup : 파싱을 돕는 라이브러리\n",
    "# 파싱(Parsing)이란?\n",
    "# HTML 코드 구문을 이해하고 요소별로 HTML 코드를 분류Be\n",
    "\n",
    "from bs4 import BeautifulSoup\n",
    "BeautifulSoup(html_Data, 'lxml')   # lxml 파서 사용"
   ]
  },
  {
   "cell_type": "markdown",
   "metadata": {},
   "source": [
    "### 1 HTML 소스 코드 파싱하기"
   ]
  },
  {
   "cell_type": "code",
   "execution_count": 10,
   "metadata": {},
   "outputs": [
    {
     "data": {
      "text/plain": [
       "\n",
       "<!DOCTYPE html>\n",
       "\n",
       "<html class=\"html_login\" dir=\"ltr\" lang=\"ko\" xml:lang=\"ko\">\n",
       "<head>\n",
       "<title>숭실 스마트캠퍼스LMS</title>\n",
       "<meta content=\"IE=edge\" http-equiv=\"X-UA-Compatible\"/>\n",
       "<meta content=\"width=device-width, initial-scale=1, maximum-scale=1, minimum-scale=1, user-scalable=no, target-densitydpi=medium-dpi\" name=\"viewport\"/>\n",
       "<meta content=\"moodle, coursemos, 코스모스\" name=\"keywords\"/>\n",
       "<link href=\"https://myclass.ssu.ac.kr/theme/image.php/coursemosv2/theme/1579118566/favicon\" rel=\"shortcut icon\"/>\n",
       "<meta content=\"text/html; charset=utf-8\" http-equiv=\"Content-Type\">\n",
       "<meta content=\"moodle, 숭실 스마트캠퍼스(SSU e-Learning): 사이트에 로그인\" name=\"keywords\"/>\n",
       "<script type=\"text/javascript\"></script></meta></head></html>"
      ]
     },
     "execution_count": 10,
     "metadata": {},
     "output_type": "execute_result"
    }
   ],
   "source": [
    "from bs4 import BeautifulSoup\n",
    "html1=\"\"\"\n",
    "<!DOCTYPE html>\n",
    "<html  dir=\"ltr\" lang=\"ko\" xml:lang=\"ko\" class=\"html_login\">\n",
    "<head>\n",
    "    <title>숭실 스마트캠퍼스LMS</title>\n",
    "    <meta http-equiv=\"X-UA-Compatible\" content=\"IE=edge\" />\n",
    "    <meta name=\"viewport\" content=\"width=device-width, initial-scale=1, maximum-scale=1, minimum-scale=1, user-scalable=no, target-densitydpi=medium-dpi\" />\n",
    "    <meta name=\"keywords\" content=\"moodle, coursemos, 코스모스\">\n",
    "    <link rel=\"shortcut icon\" href=\"https://myclass.ssu.ac.kr/theme/image.php/coursemosv2/theme/1579118566/favicon\" />\n",
    "    <meta http-equiv=\"Content-Type\" content=\"text/html; charset=utf-8\" />\n",
    "<meta name=\"keywords\" content=\"moodle, 숭실 스마트캠퍼스(SSU e-Learning): 사이트에 로그인\" />\n",
    "<script type=\"text/javascript\">\n",
    "\"\"\"\n",
    "soup= BeautifulSoup(html1,'html.parser')\n",
    "soup"
   ]
  },
  {
   "cell_type": "code",
   "execution_count": 11,
   "metadata": {},
   "outputs": [
    {
     "data": {
      "text/plain": [
       "\n",
       "<!DOCTYPE html>\n",
       "\n",
       "<html>\n",
       "<head>\n",
       "<title>HTML 예제</title>\n",
       "</head>\n",
       "<body>\n",
       "<h1>학생 개인 정보</h1>\n",
       "<p ,=\"\" class=\"male\" id=\"name\">이름 : 홍길동</p>\n",
       "<p id=\"school\">학교 : 숭실대학교</p>\n",
       "<p id=\"major\">학과 : 컴퓨터학부</p>\n",
       "<p ,=\"\" class=\"male\" id=\"name\">이름 : 강동순</p>\n",
       "<p id=\"school\">학교 : 숭실대학교</p>\n",
       "<p id=\"major\">학과 : 교양학부</p>\n",
       "<p ,=\"\" class=\"male\" id=\"name\">이름 : 나경훈</p>\n",
       "<p id=\"school\">학교 : 숭실대학교</p>\n",
       "<p id=\"major\">학과 : 경제학부</p>\n",
       "</body>\n",
       "</html>"
      ]
     },
     "execution_count": 11,
     "metadata": {},
     "output_type": "execute_result"
    }
   ],
   "source": [
    "from bs4 import BeautifulSoup\n",
    "html1=\"\"\"\n",
    "<!doctype html>\n",
    "<html>\n",
    "<head>\n",
    "<title>HTML 예제</title>\n",
    "</head>\n",
    "<body>\n",
    "<h1>학생 개인 정보</h1>\n",
    "    <p class=\"male\", id =\"name\">이름 : 홍길동</p>\n",
    "    <p id=\"school\">학교 : 숭실대학교</p>\n",
    "    <p id=\"major\">학과 : 컴퓨터학부</p>\n",
    "    \n",
    "    <p class=\"male\", id =\"name\">이름 : 강동순</p>\n",
    "    <p id=\"school\">학교 : 숭실대학교</p>\n",
    "    <p id=\"major\">학과 : 교양학부</p>\n",
    "    \n",
    "    <p class=\"male\", id =\"name\">이름 : 나경훈</p>\n",
    "    <p id=\"school\">학교 : 숭실대학교</p>\n",
    "    <p id=\"major\">학과 : 경제학부</p>    \n",
    "</body>\n",
    "</html>\n",
    "\"\"\"\n",
    "soup= BeautifulSoup(html1,'html.parser')\n",
    "soup"
   ]
  },
  {
   "cell_type": "code",
   "execution_count": 12,
   "metadata": {},
   "outputs": [
    {
     "data": {
      "text/plain": [
       "<!DOCTYPE html>\n",
       "<html>\n",
       "<head>\n",
       "<title>HTML 예제</title>\n",
       "</head>\n",
       "<body>\n",
       "<h1>학생 개인 정보</h1>\n",
       "<p class=\"male\" id=\"name\">이름 : 홍길동</p>\n",
       "<p id=\"school\">학교 : 숭실대학교</p>\n",
       "<p id=\"major\">학과 : 컴퓨터학부</p>\n",
       "<p class=\"male\" id=\"name\">이름 : 강동순</p>\n",
       "<p id=\"school\">학교 : 숭실대학교</p>\n",
       "<p id=\"major\">학과 : 교양학부</p>\n",
       "<p class=\"male\" id=\"name\">이름 : 나경훈</p>\n",
       "<p id=\"school\">학교 : 숭실대학교</p>\n",
       "<p id=\"major\">학과 : 경제학부</p>\n",
       "</body>\n",
       "</html>"
      ]
     },
     "execution_count": 12,
     "metadata": {},
     "output_type": "execute_result"
    }
   ],
   "source": [
    "from bs4 import BeautifulSoup\n",
    "html1=\"\"\"\n",
    "<!doctype html>\n",
    "<html>\n",
    "<head>\n",
    "<title>HTML 예제</title>\n",
    "</head>\n",
    "<body>\n",
    "<h1>학생 개인 정보</h1>\n",
    "    <p class=\"male\", id =\"name\">이름 : 홍길동</p>\n",
    "    <p id=\"school\">학교 : 숭실대학교</p>\n",
    "    <p id=\"major\">학과 : 컴퓨터학부</p>\n",
    "    \n",
    "    <p class=\"male\", id =\"name\">이름 : 강동순</p>\n",
    "    <p id=\"school\">학교 : 숭실대학교</p>\n",
    "    <p id=\"major\">학과 : 교양학부</p>\n",
    "    \n",
    "    <p class=\"male\", id =\"name\">이름 : 나경훈</p>\n",
    "    <p id=\"school\">학교 : 숭실대학교</p>\n",
    "    <p id=\"major\">학과 : 경제학부</p>    \n",
    "</body>\n",
    "</html>\n",
    "\"\"\"\n",
    "soup= BeautifulSoup(html1,'lxml')\n",
    "soup"
   ]
  },
  {
   "cell_type": "markdown",
   "metadata": {},
   "source": [
    "### 2 원하는 데이터를 찾고 추출하기 (방법1 - 태그 이용)"
   ]
  },
  {
   "cell_type": "code",
   "execution_count": null,
   "metadata": {},
   "outputs": [],
   "source": [
    "BeautifulSoup.find('태그','속성')\n",
    "BeautifulSoup.find_all('태그','속성')\n",
    "# '파싱한 결과'.find(태그','속성') 또는 '파싱한 결과'.find_all('태그','속성')를 수행"
   ]
  },
  {
   "cell_type": "code",
   "execution_count": 13,
   "metadata": {},
   "outputs": [
    {
     "data": {
      "text/plain": [
       "<p class=\"male\" id=\"name\">이름 : 홍길동</p>"
      ]
     },
     "execution_count": 13,
     "metadata": {},
     "output_type": "execute_result"
    }
   ],
   "source": [
    "# 해당 태그가 있는 첫 번째 요소 전체 반환\n",
    "soup.find('p')"
   ]
  },
  {
   "cell_type": "code",
   "execution_count": 14,
   "metadata": {},
   "outputs": [
    {
     "data": {
      "text/plain": [
       "[<p class=\"male\" id=\"name\">이름 : 홍길동</p>,\n",
       " <p id=\"school\">학교 : 숭실대학교</p>,\n",
       " <p id=\"major\">학과 : 컴퓨터학부</p>,\n",
       " <p class=\"male\" id=\"name\">이름 : 강동순</p>,\n",
       " <p id=\"school\">학교 : 숭실대학교</p>,\n",
       " <p id=\"major\">학과 : 교양학부</p>,\n",
       " <p class=\"male\" id=\"name\">이름 : 나경훈</p>,\n",
       " <p id=\"school\">학교 : 숭실대학교</p>,\n",
       " <p id=\"major\">학과 : 경제학부</p>]"
      ]
     },
     "execution_count": 14,
     "metadata": {},
     "output_type": "execute_result"
    }
   ],
   "source": [
    "# 해당 태그가 있는 모든 요소 전체 반환\n",
    "soup.find_all('p')\n",
    "\n",
    "# 모든 p 태그 요소들을 리스트 형태로 반환"
   ]
  },
  {
   "cell_type": "markdown",
   "metadata": {},
   "source": [
    "### 2 원하는 데이터를 찾고 추출하기(방법1 - 태그와 속성 이용)"
   ]
  },
  {
   "cell_type": "code",
   "execution_count": 15,
   "metadata": {},
   "outputs": [
    {
     "data": {
      "text/plain": [
       "<p class=\"male\" id=\"name\">이름 : 홍길동</p>"
      ]
     },
     "execution_count": 15,
     "metadata": {},
     "output_type": "execute_result"
    }
   ],
   "source": [
    "# 해당 태그가 있는 첫 번째 요소 전체 반환\n",
    "soup.find('p',{'id':'name'})"
   ]
  },
  {
   "cell_type": "code",
   "execution_count": 16,
   "metadata": {},
   "outputs": [
    {
     "data": {
      "text/plain": [
       "<p id=\"major\">학과 : 컴퓨터학부</p>"
      ]
     },
     "execution_count": 16,
     "metadata": {},
     "output_type": "execute_result"
    }
   ],
   "source": [
    "soup.find('p',{'id':'major'})"
   ]
  },
  {
   "cell_type": "code",
   "execution_count": 17,
   "metadata": {},
   "outputs": [
    {
     "data": {
      "text/plain": [
       "[<p class=\"male\" id=\"name\">이름 : 홍길동</p>,\n",
       " <p class=\"male\" id=\"name\">이름 : 강동순</p>,\n",
       " <p class=\"male\" id=\"name\">이름 : 나경훈</p>]"
      ]
     },
     "execution_count": 17,
     "metadata": {},
     "output_type": "execute_result"
    }
   ],
   "source": [
    "# 해당 태그가 있는 모든 요소 전체 반환\n",
    "soup.find_all('p',{'class':'male'})\n",
    "\n",
    "# p 태그에서 속성 class가 male인 모든 요소 리스트로 반환"
   ]
  },
  {
   "cell_type": "code",
   "execution_count": 18,
   "metadata": {},
   "outputs": [
    {
     "data": {
      "text/plain": [
       "[<p class=\"male\" id=\"name\">이름 : 홍길동</p>,\n",
       " <p class=\"male\" id=\"name\">이름 : 강동순</p>,\n",
       " <p class=\"male\" id=\"name\">이름 : 나경훈</p>]"
      ]
     },
     "execution_count": 18,
     "metadata": {},
     "output_type": "execute_result"
    }
   ],
   "source": [
    "soup.find_all('p',{'id':'name'})"
   ]
  },
  {
   "cell_type": "code",
   "execution_count": 19,
   "metadata": {},
   "outputs": [
    {
     "data": {
      "text/plain": [
       "<h1>학생 개인 정보</h1>"
      ]
     },
     "execution_count": 19,
     "metadata": {},
     "output_type": "execute_result"
    }
   ],
   "source": [
    "soup.find('h1')"
   ]
  },
  {
   "cell_type": "markdown",
   "metadata": {},
   "source": [
    "### 3 텍스트 데이터만 추출하기"
   ]
  },
  {
   "cell_type": "code",
   "execution_count": 20,
   "metadata": {},
   "outputs": [
    {
     "data": {
      "text/plain": [
       "'이름 : 홍길동'"
      ]
     },
     "execution_count": 20,
     "metadata": {},
     "output_type": "execute_result"
    }
   ],
   "source": [
    "# 요소반환결과.get_text(): 태그와 속성을 제거한 텍스트 문자열만 반환\n",
    "text=soup.find('p')\n",
    "text.get_text()"
   ]
  },
  {
   "cell_type": "code",
   "execution_count": 21,
   "metadata": {},
   "outputs": [
    {
     "data": {
      "text/plain": [
       "'이름 : 홍길동'"
      ]
     },
     "execution_count": 21,
     "metadata": {},
     "output_type": "execute_result"
    }
   ],
   "source": [
    "soup.find('p').get_text()  # 둘 다 동일한 결과"
   ]
  },
  {
   "cell_type": "code",
   "execution_count": 22,
   "metadata": {},
   "outputs": [
    {
     "name": "stdout",
     "output_type": "stream",
     "text": [
      "이름 : 홍길동\n",
      "학교 : 숭실대학교\n",
      "학과 : 컴퓨터학부\n",
      "이름 : 강동순\n",
      "학교 : 숭실대학교\n",
      "학과 : 교양학부\n",
      "이름 : 나경훈\n",
      "학교 : 숭실대학교\n",
      "학과 : 경제학부\n"
     ]
    }
   ],
   "source": [
    "st_info= soup.find_all('p')\n",
    "for text in st_info:\n",
    "    print(text.get_text())"
   ]
  },
  {
   "cell_type": "markdown",
   "metadata": {},
   "source": [
    "### 정리"
   ]
  },
  {
   "cell_type": "code",
   "execution_count": 23,
   "metadata": {},
   "outputs": [
    {
     "name": "stdout",
     "output_type": "stream",
     "text": [
      "이름 : 홍길동 / 학과 : 컴퓨터학부\n",
      "이름 : 강동순 / 학과 : 교양학부\n",
      "이름 : 나경훈 / 학과 : 경제학부\n"
     ]
    }
   ],
   "source": [
    "from bs4 import BeautifulSoup\n",
    "\n",
    "soup = BeautifulSoup(html1,'lxml')  # HTML 소스코드 파싱\n",
    "names = soup.find_all('p',{'id':'name'})   # 원하는 데이터를 태그와 속성으로 찾기\n",
    "majors = soup.find_all('p',{'id':'major'}) # 원하는 데이터를 태그와 속성으로 찾기\n",
    "\n",
    "for name, major in zip(names, majors):  # zip()은 두 개의 리스트를 쌍으로 묶어 주는 기능\n",
    "    print(name.get_text()+' / '+major.get_text())  # 텍스트 데이터만 가져오기\n",
    "    "
   ]
  },
  {
   "cell_type": "markdown",
   "metadata": {},
   "source": [
    "### 2 원하는 데이터를 찾고 추출하기 (방법2)"
   ]
  },
  {
   "cell_type": "markdown",
   "metadata": {},
   "source": [
    "- CSS(Cascading Style Sheets) : 시각적으로 스타일을 바꿀 때 사용하는 언어\n",
    "\n",
    "- BeautifulSoup.select('태그 및 속성') : CSS 선택자를 이용하여 원하는 요소를 선택\n",
    "\n",
    "- body 태그 요소 내에 태그 요소 가져오기"
   ]
  },
  {
   "cell_type": "code",
   "execution_count": 24,
   "metadata": {},
   "outputs": [
    {
     "data": {
      "text/plain": [
       "[<h1>학생 개인 정보</h1>]"
      ]
     },
     "execution_count": 24,
     "metadata": {},
     "output_type": "execute_result"
    }
   ],
   "source": [
    "soup.select('h1')"
   ]
  },
  {
   "cell_type": "code",
   "execution_count": 25,
   "metadata": {},
   "outputs": [
    {
     "data": {
      "text/plain": [
       "[<h1>학생 개인 정보</h1>]"
      ]
     },
     "execution_count": 25,
     "metadata": {},
     "output_type": "execute_result"
    }
   ],
   "source": [
    "soup.select('body h1')"
   ]
  },
  {
   "cell_type": "code",
   "execution_count": 26,
   "metadata": {},
   "outputs": [
    {
     "data": {
      "text/plain": [
       "[<title>HTML 예제</title>]"
      ]
     },
     "execution_count": 26,
     "metadata": {},
     "output_type": "execute_result"
    }
   ],
   "source": [
    "soup.select('head title')"
   ]
  },
  {
   "cell_type": "code",
   "execution_count": 27,
   "metadata": {},
   "outputs": [
    {
     "data": {
      "text/plain": [
       "[<p class=\"male\" id=\"name\">이름 : 홍길동</p>,\n",
       " <p id=\"school\">학교 : 숭실대학교</p>,\n",
       " <p id=\"major\">학과 : 컴퓨터학부</p>,\n",
       " <p class=\"male\" id=\"name\">이름 : 강동순</p>,\n",
       " <p id=\"school\">학교 : 숭실대학교</p>,\n",
       " <p id=\"major\">학과 : 교양학부</p>,\n",
       " <p class=\"male\" id=\"name\">이름 : 나경훈</p>,\n",
       " <p id=\"school\">학교 : 숭실대학교</p>,\n",
       " <p id=\"major\">학과 : 경제학부</p>]"
      ]
     },
     "execution_count": 27,
     "metadata": {},
     "output_type": "execute_result"
    }
   ],
   "source": [
    "soup.select('p')"
   ]
  },
  {
   "cell_type": "code",
   "execution_count": null,
   "metadata": {},
   "outputs": [],
   "source": [
    "# 태그 id_속성값 : 태그 p를 포함하는 요소 중 id 속성이 \"name\"인 요소만 선택"
   ]
  },
  {
   "cell_type": "code",
   "execution_count": 28,
   "metadata": {},
   "outputs": [
    {
     "data": {
      "text/plain": [
       "[<p class=\"male\" id=\"name\">이름 : 홍길동</p>,\n",
       " <p class=\"male\" id=\"name\">이름 : 강동순</p>,\n",
       " <p class=\"male\" id=\"name\">이름 : 나경훈</p>]"
      ]
     },
     "execution_count": 28,
     "metadata": {},
     "output_type": "execute_result"
    }
   ],
   "source": [
    "soup.select('p#name')"
   ]
  },
  {
   "cell_type": "code",
   "execution_count": null,
   "metadata": {},
   "outputs": [],
   "source": [
    "# 태그.class_속성값 : 태그 p를 포함하는 요소 중 class 속성이 \"male\"인 요소만 선택"
   ]
  },
  {
   "cell_type": "code",
   "execution_count": null,
   "metadata": {},
   "outputs": [],
   "source": [
    "soup.select('p.male')"
   ]
  },
  {
   "cell_type": "markdown",
   "metadata": {},
   "source": [
    "## 웹 스크레핑 과정"
   ]
  },
  {
   "cell_type": "markdown",
   "metadata": {},
   "source": [
    "### 1. 웹 페이지의 HTML 소스 갖고 오기"
   ]
  },
  {
   "cell_type": "code",
   "execution_count": null,
   "metadata": {},
   "outputs": [],
   "source": [
    "import requests\n",
    "html_Data = requests.get(url)"
   ]
  },
  {
   "cell_type": "markdown",
   "metadata": {},
   "source": [
    "### 2. HTML 소스 코드 파싱하기"
   ]
  },
  {
   "cell_type": "code",
   "execution_count": null,
   "metadata": {},
   "outputs": [],
   "source": [
    "from bs4 import BeautifulSoup\n",
    "Parsed_Data = BeautifulSoup(html_Data, 'lxml')"
   ]
  },
  {
   "cell_type": "markdown",
   "metadata": {},
   "source": [
    "### 3. 원하는 데이터를 찾고 추출하기"
   ]
  },
  {
   "cell_type": "code",
   "execution_count": null,
   "metadata": {},
   "outputs": [],
   "source": [
    "Finded_Data = Parsed_Data.find('태그','속성')\n",
    "Finded_Data = Parsed_Data.find_all('태그','속성')\n",
    "Selected_Data = Parsed_Data.select('태그 및 속성')"
   ]
  },
  {
   "cell_type": "markdown",
   "metadata": {},
   "source": [
    "### 4. 텍스트 데이터만 추출하기"
   ]
  },
  {
   "cell_type": "code",
   "execution_count": null,
   "metadata": {},
   "outputs": [],
   "source": [
    "Finded_Data.get_text()\n",
    "Selected_Data.get_text()"
   ]
  }
 ],
 "metadata": {
  "kernelspec": {
   "display_name": "Python 3",
   "language": "python",
   "name": "python3"
  },
  "language_info": {
   "codemirror_mode": {
    "name": "ipython",
    "version": 3
   },
   "file_extension": ".py",
   "mimetype": "text/x-python",
   "name": "python",
   "nbconvert_exporter": "python",
   "pygments_lexer": "ipython3",
   "version": "3.7.6"
  }
 },
 "nbformat": 4,
 "nbformat_minor": 4
}
