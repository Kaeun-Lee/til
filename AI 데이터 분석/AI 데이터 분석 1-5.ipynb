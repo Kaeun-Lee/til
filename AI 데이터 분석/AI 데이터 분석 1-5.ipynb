{
 "cells": [
  {
   "cell_type": "markdown",
   "metadata": {},
   "source": [
    "## == XML 기본 =="
   ]
  },
  {
   "cell_type": "markdown",
   "metadata": {},
   "source": [
    "## XML 구조"
   ]
  },
  {
   "cell_type": "markdown",
   "metadata": {},
   "source": [
    "### XML 트리"
   ]
  },
  {
   "cell_type": "markdown",
   "metadata": {},
   "source": [
    "- XML 문서는 HTML 문서와 마찬가지로 트리(tree) 형태의 계층 구조를 가짐  \n",
    "- XML 트리는 하나뿐인 루트(root) 요소부터 시작하며, 각각의 자식(child)요소에  \n",
    "  차례대로 연결됨  \n",
    "- XML 트리 구조에 포함되는 모든 요소는 자신만의 자식(child) 요소를 가질 수 있음\n",
    "\n",
    "\n",
    "- 부모(parent)요소는 여러 개의 자식(child) 요소를 가질 수 있음  \n",
    "  하지만 자식(child) 요소는 단 하나의 부모(parent) 요소만을 가짐  \n",
    "- 형제(sibling) 요소는 같은 트리 레벨(tree level)에 존재하는 요소를 가리킴  \n",
    "  즉, 형제 요소란 같은 부모(parent) 요소를 가지는 자식 요소 간의 관계를 나타냄  \n",
    "  \n",
    "    \n",
    "- 조상(ancestor) 요소란 부모 요소를 포함해 계층적으로 현재 요소보다 상위에 있는 모든 요소를 가리킴  \n",
    "- 자손(descendant) 요소란 자식 요소를 포함해 계층적으로 현재 요소보다 하위에 있는 모든 요소를 가리킴\n",
    "\n",
    "\n",
    "- XML 트리의 모든 요소는 자신만의 텍스트나 속성을 가질 수 있음\n"
   ]
  },
  {
   "cell_type": "markdown",
   "metadata": {},
   "source": [
    "### XML 선언"
   ]
  },
  {
   "cell_type": "markdown",
   "metadata": {},
   "source": [
    "- XML 문서는 맨 첫 줄에 < xml >태그를 사용하여 XML 문서임을 명시해야 함  \n",
    "- 이것을 XML 프롤로그(prolog)라고 하며, 이때 사용되는 < xml >태그의 이름은\n",
    "  소문자 xml로만 사용해야 함  \n",
    "    \n",
    "    \n",
    "- XML 프롤로그의 문법  \n",
    "< ?xml version = \"XML문서버전\" encoding=\"문자셋\" standalone=\"yes|no\"? >\n",
    "\n",
    "- version 속성 : XML 문서에 사용된 XML의 버전을 명시  \n",
    "- encoding 속성 : XML문서의 문자셋(character set)을 명시하며, 기본값은 UTF-8로 설정됨  \n",
    "- standalone 속성 : XML 문서가 외부 DTD(Document Type Definition)와 같은 외부 소스의 데이터에  \n",
    "    의존하고 있는 문서인지 아닌지를 XML 파서(parser)에 알려주는 역할을 함  \n",
    "    기본값은 no이며, yes로 설정하면 이 문서를 파싱(parsing)할 때 참조해야 할  \n",
    "    외부 소스가 없다는 것을 의미"
   ]
  },
  {
   "cell_type": "markdown",
   "metadata": {},
   "source": [
    "### XML 문법"
   ]
  },
  {
   "cell_type": "code",
   "execution_count": null,
   "metadata": {},
   "outputs": [],
   "source": [
    "1. 모든 XML 요소는 종료 태그를 가져야 함\n",
    "  HTML은 종료 태그를 생략하거나, 빈 태그를 사용해도 대부분 문제없이 동작하지만\n",
    "  XML에서는 종료 태그가 생략되면 오류가 발생함\n",
    "  또한, 빈 태그에도 반드시 슬래시(/)를 추가해야만 오류가 발생하지 않음\n",
    "\n",
    "    예제\n",
    "HTML : <h1>XML\n",
    "       <hr>\n",
    "\n",
    "XML  : <h1>XML</h1>\n",
    "       <hr />\n",
    "\n",
    "2. XML 태그는 대소문자를 구분함\n",
    "  HTML에서는 태그 이름에 대소문자를 구분하지 않지만, XML은 구분하므로,\n",
    "  대소문자가 다르면 다른 요소로 인식함\n",
    "\n",
    "3. XML 태그의 여닫는 순서는 반드시 지켜져야 함\n",
    "\n",
    "예제\n",
    "<p><strong>이 구문은 오류를 발생합니다.</p></strong>\n",
    "\n",
    "4. 속성값은 반드시 따옴표로 감싸야 함\n",
    "  HTML에서는 속성값을 따옴표로 감싸지 않아도 큰 문제 없이 동작하지만\n",
    "  XML에서는 오류 발생\n",
    "\n",
    "예제\n",
    "<student name=홍길동>   // 오류가 발생함.\n",
    "<student name=\"이순신\"> // 정상적으로 동작함.\n",
    "\n",
    "6. XML에서는 띄어쓰기를 인식함\n",
    "\n",
    "예제\n",
    "코드 : <p>띄   어 쓰    기</p>\n",
    "HTML : 띄어쓰기\n",
    "XML  : 띄   어 쓰    기"
   ]
  },
  {
   "cell_type": "markdown",
   "metadata": {},
   "source": [
    "### XML 요소 문법"
   ]
  },
  {
   "cell_type": "code",
   "execution_count": null,
   "metadata": {},
   "outputs": [],
   "source": [
    "- XML 요소란 시작 태그부터 종료 태그까지의 모든 것을 가리킴\n",
    "- XML 요소는 다음과 같은 문법을 사용하여 정의할 수 있음\n",
    "\n",
    "문법\n",
    "<요소이름 속성1=\"속성값\" 속성2=\"속성값\"...>내용</요소이름>\n",
    "\n",
    "- 또한, 어떠한 내용도 가지지 않는 빈 요소(empty element)는 다음과 같이 정의할 수 있음\n",
    "\n",
    "문법\n",
    "<요소이름 속성1=\"속성값\" 속성2=\"속성값\".../>"
   ]
  },
  {
   "cell_type": "markdown",
   "metadata": {},
   "source": [
    "## == JSON 기본 =="
   ]
  },
  {
   "cell_type": "markdown",
   "metadata": {},
   "source": [
    "- JSON은 XML의 대안으로서 좀 더 쉽게 데이터를 교환하고 저장하기 위하여 고안 됨\n",
    "- JSON은 텍스트 기반이므로 어떠한 프로그래밍 언어에서도 JSON 데이터를 읽고 사용할 수 있음"
   ]
  },
  {
   "cell_type": "markdown",
   "metadata": {},
   "source": [
    "## JASON 문법"
   ]
  },
  {
   "cell_type": "markdown",
   "metadata": {},
   "source": [
    "- JSON은 자바스크립트의 객체 표기법에서 리터럴(literal)과 프로퍼티(property)를  \n",
    "  표현하는 방법만 가져와서 사용함  \n",
    "- 따라서 JSON 데이터는 모양과 규칙이 매우 단순  \n",
    "- 그로 인해 브라우저 영역에서도 쉽고 빠르게 그 의미를 해석할 수 있으며, 다른 프로그래밍  \n",
    "  언어에서도 구현하기 쉬움"
   ]
  },
  {
   "cell_type": "markdown",
   "metadata": {},
   "source": [
    "### 리터럴(literal)과 객체(object)"
   ]
  },
  {
   "cell_type": "markdown",
   "metadata": {},
   "source": [
    "- 리터럴(literal)은 변수와 다르게 해석되는 값 그 자체를 의미함\n",
    "    - 예제)\n",
    "\n",
    "    - 12     // 숫자 리터럴  \n",
    "    - \"JSON\" // 문자열 리터럴  \n",
    "    - true   // 불리언 리터럴  \n",
    "\n",
    "\n",
    "- 변수(variable): 데이터(data)를 저장할 수 있는 메모리 공간을 의미하며,\n",
    "- 그 값이 변경될 수 있음"
   ]
  },
  {
   "cell_type": "markdown",
   "metadata": {},
   "source": [
    "- 객체(object)란 실생활에서 우리가 인식할 수 있는 사물로 이해할 수 있음  \n",
    "- JSON에서 객체란 이름(name)과 값(value)으로 구성된 프로퍼티(property)의\n",
    "  정렬되지 않은 집합임  \n",
    "    \n",
    "    \n",
    "- 다음 예제는 이름과 값으로 이루어진 네 쌍의 프로퍼티를 가지는 \"강아지\"객체를  \n",
    "  나타내는 예제임 "
   ]
  },
  {
   "cell_type": "code",
   "execution_count": null,
   "metadata": {},
   "outputs": [],
   "source": [
    "예제)\n",
    "{\n",
    "    \"name\": \"식빵\",\n",
    "    \"family\": \"웰시코기\",\n",
    "    \"age\": 1,\n",
    "    \"weight\": 2.14\n",
    "}"
   ]
  },
  {
   "cell_type": "markdown",
   "metadata": {},
   "source": [
    "## JSON 구조"
   ]
  },
  {
   "cell_type": "markdown",
   "metadata": {},
   "source": [
    "### JSON 구조\n",
    "- JSON은 자바스크립트의 객체 표기법으로부터 파생된 부분 집합임\n",
    "- 따라서 JSON 데이터는 다음과 같은 자바스크립트 객체 표기법에 따른 구조로 구성됨"
   ]
  },
  {
   "cell_type": "code",
   "execution_count": null,
   "metadata": {},
   "outputs": [],
   "source": [
    "1. JSON 데이터는 이름과 값의 쌍으로 이루어짐\n",
    "  - 데이터는 데이터 이름, 콜론(:), 값의 순서로 구성\n",
    "  - 데이터의 이름도 문자열이므로, 항상 큰따옴표(\"\")와 함께 입력해야 함\n",
    "\n",
    "문법\n",
    "\"데이터이름\": 값\n",
    "예제\n",
    "\"name\": \"식빵\"\n",
    "    \n",
    "2. JSON 데이터는 쉼표(,)로 나열됨\n",
    "3. 객체(object)는 중괄호({})로 둘러쌓아 표현됨\n",
    " - JSON 객체는 쉽표(,)를 사용하여 여러 프로퍼티를 포함할 수 있음\n",
    "    \n",
    "예제\n",
    "{\n",
    "    \"name\": \"식빵\",\n",
    "    \"family\": \"웰시코기\",\n",
    "    \"age\": 1,\n",
    "    \"weight\": 2.14\n",
    "}\n",
    "\n",
    "4. 배열(array)는 대괄호([])로 둘러쌓아 표현됨\n",
    " - JSON 배열은 쉼표(,)를 사용하여 여러 JSON 데이터를 포함할 수 있음\n",
    " - 다음 예제는 배열의 이름이 \"dog\"이고, 3개의 JSON 객체를 요소로 가지는 JSON배열의 예제\n",
    "\n",
    "예제\n",
    "\"dog\": [\n",
    "    {\"name\": \"식빵\", \"family\": \"웰시코기\", \"age\": 1, \"weight\": 2.14},\n",
    "    {\"name\": \"콩콩\", \"family\": \"포메라니안\", \"age\": 3, \"weight\": 2.5},\n",
    "    {\"name\": \"젤리\", \"family\": \"푸들\", \"age\": 7, \"weight\": 3.1}\n",
    "]"
   ]
  },
  {
   "cell_type": "markdown",
   "metadata": {},
   "source": [
    "# 웹 API 이용한 다양한 데이터 가져오기"
   ]
  },
  {
   "cell_type": "markdown",
   "metadata": {},
   "source": [
    "## API 키 인증없는 데이터 가져오기"
   ]
  },
  {
   "cell_type": "markdown",
   "metadata": {},
   "source": [
    "### 국제 우주 정거장(ISS: International Space Station)의 정보 가져오기"
   ]
  },
  {
   "cell_type": "markdown",
   "metadata": {},
   "source": [
    "- Open Notify(http:open-notify.org/)  \n",
    "(국제 우주 정거장의 현재 위치(위도, 경도), 지정된 위치를 지나가는 시간 및  \n",
    "국제 우주 정거장에 있는 우주인의 수와 이름을 알려주는 웹 API 제공)\n",
    "\n",
    "\n",
    "- 홈페이지 들어가서 -> API Docs- ISS Current Location\n",
    "\n",
    "\n",
    "- http://api.open-notify.org/iss-now.json"
   ]
  },
  {
   "cell_type": "code",
   "execution_count": null,
   "metadata": {},
   "outputs": [],
   "source": [
    "{\n",
    "  \"message\": \"success\", \n",
    "  \"timestamp\": UNIX_TIME_STAMP, \n",
    "  \"iss_position\": {\n",
    "    \"latitude\": CURRENT_LATITUDE, \n",
    "    \"longitude\": CURRENT_LONGITUDE\n",
    "  }\n",
    "}"
   ]
  },
  {
   "cell_type": "code",
   "execution_count": 5,
   "metadata": {},
   "outputs": [
    {
     "name": "stdout",
     "output_type": "stream",
     "text": [
      "{\"iss_position\": {\"latitude\": \"-50.9289\", \"longitude\": \"125.4175\"}, \"timestamp\": 1604557746, \"message\": \"success\"}\n"
     ]
    }
   ],
   "source": [
    "# JSON 형식의 데이터 딕셔너리 데이터 타입으로 변환 방법 1\n",
    "\n",
    "import requests\n",
    "import json\n",
    "\n",
    "url =\"http://api.open-notify.org/iss-now.json\"\n",
    "\n",
    "r= requests.get(url)  # url로 정보 요청 후 응답 객체를 r에 가져옴\n",
    "print(r.text)         # 응답 객체 r에서 JSON 형식의 문자열 데이터 추출"
   ]
  },
  {
   "cell_type": "code",
   "execution_count": 6,
   "metadata": {},
   "outputs": [
    {
     "name": "stdout",
     "output_type": "stream",
     "text": [
      "{\"iss_position\": {\"latitude\": \"-51.3310\", \"longitude\": \"129.6647\"}, \"timestamp\": 1604557789, \"message\": \"success\"}\n"
     ]
    },
    {
     "data": {
      "text/plain": [
       "{'iss_position': {'latitude': '-51.3310', 'longitude': '129.6647'},\n",
       " 'timestamp': 1604557789,\n",
       " 'message': 'success'}"
      ]
     },
     "execution_count": 6,
     "metadata": {},
     "output_type": "execute_result"
    }
   ],
   "source": [
    "import requests\n",
    "import json\n",
    "\n",
    "url =\"http://api.open-notify.org/iss-now.json\"\n",
    "\n",
    "r= requests.get(url)  # url로 정보 요청 후 응답 객체를 r에 가져옴\n",
    "print(r.text) \n",
    "\n",
    "to_dict = json.loads(r.text) # Json 형식의 데이터를 딕셔너리로 바꾸기\n",
    "to_dict               # 딕셔너리 데이터타입으로 바뀐 데이터 출력\n",
    "\n",
    "\n",
    "# iss_position : 현재 정거장 위치, longitude : 위도, latitude : 경도"
   ]
  },
  {
   "cell_type": "code",
   "execution_count": 7,
   "metadata": {},
   "outputs": [
    {
     "data": {
      "text/plain": [
       "{'iss_position': {'latitude': '-51.5231', 'longitude': '132.9299'},\n",
       " 'timestamp': 1604557822,\n",
       " 'message': 'success'}"
      ]
     },
     "execution_count": 7,
     "metadata": {},
     "output_type": "execute_result"
    }
   ],
   "source": [
    "# JSON 형식의 데이터 딕셔너리 데이터 타입으로 변환 방법 2\n",
    "\n",
    "import requests\n",
    "url=\"http://api.open-notify.org/iss-now.json\"\n",
    "\n",
    "r = requests.get(url) # url로 정보 요청 후 응답 객체를 r에 가져옴\n",
    "to_dict=r.json()   # 응답 객체 r에서 JSON 데이터 추출과 딕셔너리로의 변환을 한번에 수행\n",
    "to_dict            # 딕셔너리 데이터타입으로 바뀐 데이터 출력\n"
   ]
  },
  {
   "cell_type": "code",
   "execution_count": 8,
   "metadata": {},
   "outputs": [
    {
     "data": {
      "text/plain": [
       "dict"
      ]
     },
     "execution_count": 8,
     "metadata": {},
     "output_type": "execute_result"
    }
   ],
   "source": [
    "type(to_dict)"
   ]
  },
  {
   "cell_type": "code",
   "execution_count": 9,
   "metadata": {},
   "outputs": [
    {
     "name": "stdout",
     "output_type": "stream",
     "text": [
      "{'latitude': '-51.5231', 'longitude': '132.9299'}\n",
      "-51.5231\n",
      "132.9299\n",
      "1604557822\n"
     ]
    }
   ],
   "source": [
    "# 딕셔너리 데이터에서 원하는 데이터 추출\n",
    "\n",
    "print(to_dict[\"iss_position\"])\n",
    "print(to_dict[\"iss_position\"][\"latitude\"])\n",
    "print(to_dict[\"iss_position\"][\"longitude\"])\n",
    "print(to_dict[\"timestamp\"])"
   ]
  },
  {
   "cell_type": "code",
   "execution_count": 10,
   "metadata": {},
   "outputs": [
    {
     "name": "stdout",
     "output_type": "stream",
     "text": [
      "{'latitude': '-51.6211', 'longitude': '136.7149'}\n",
      "{'latitude': '-51.6219', 'longitude': '136.8147'}\n",
      "{'latitude': '-51.6230', 'longitude': '136.9644'}\n",
      "{'latitude': '-51.6238', 'longitude': '137.1140'}\n",
      "{'latitude': '-51.6242', 'longitude': '137.2138'}\n",
      "{'latitude': '-51.6247', 'longitude': '137.3635'}\n",
      "{'latitude': '-51.6248', 'longitude': '137.4633'}\n",
      "{'latitude': '-51.6250', 'longitude': '137.6129'}\n",
      "{'latitude': '-51.6249', 'longitude': '137.7626'}\n",
      "{'latitude': '-51.6247', 'longitude': '137.8624'}\n"
     ]
    }
   ],
   "source": [
    "# 국제 우주 정거장 위치 정보를 일정 시간마다(1초) 갱신\n",
    "\n",
    "import requests\n",
    "import time\n",
    "\n",
    "url =\"http://api.open-notify.org/iss-now.json\"\n",
    "\n",
    "def ISS_Position(url):\n",
    "    r=requests.get(url)  # to_dict = requests.get(url).json() 과 동일\n",
    "    to_dict= r.json()\n",
    "    return to_dict\n",
    "\n",
    "for k in range(10):\n",
    "    pos_dict=ISS_Position(url)\n",
    "    print(pos_dict[\"iss_position\"])\n",
    "    time.sleep(1)"
   ]
  }
 ],
 "metadata": {
  "kernelspec": {
   "display_name": "Python 3",
   "language": "python",
   "name": "python3"
  },
  "language_info": {
   "codemirror_mode": {
    "name": "ipython",
    "version": 3
   },
   "file_extension": ".py",
   "mimetype": "text/x-python",
   "name": "python",
   "nbconvert_exporter": "python",
   "pygments_lexer": "ipython3",
   "version": "3.7.6"
  }
 },
 "nbformat": 4,
 "nbformat_minor": 4
}
