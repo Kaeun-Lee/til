{
 "cells": [
  {
   "cell_type": "markdown",
   "id": "sporting-blake",
   "metadata": {},
   "source": [
    "## ▼ 난이도 중 문제 풀기 \n",
    "### 숫자 n의 k번째 약수\n",
    "- 숫자 n과 k를 입력받아, n의 k번째 약수를 구하라\n",
    "    - 조건 1 : 숫자 k는 n의 약수의 개수보다 작아야함. 만일 k가 n의 약수의 개수보다 크다면 오류 메시지를 출력\n",
    "    \n",
    "    \n",
    "\n",
    "- input    \n",
    "숫자를 입력해주세요 : 5  \n",
    "몇 번째 약수를 알고 싶은지를 입력해주세요 : 3  \n",
    "- output   \n",
    "입력하신 숫자 만큼의 약수가 존재하지 않습니다. \n",
    "\n",
    "\n",
    "- input    \n",
    "숫자를 입력해주세요 : 6   \n",
    "몇 번째 약수를 알고 싶은지를 입력해주세요 : 2    \n",
    "- output   \n",
    "6의 2번째 약수는 2입니다."
   ]
  },
  {
   "cell_type": "code",
   "execution_count": null,
   "id": "valued-subcommittee",
   "metadata": {},
   "outputs": [],
   "source": [
    "n의 약수를 구하는 공식\n",
    "약수?\n",
    "k가 n의 약수의 개수보다 작도록 조건\n"
   ]
  },
  {
   "cell_type": "code",
   "execution_count": 13,
   "id": "present-cartoon",
   "metadata": {},
   "outputs": [
    {
     "name": "stdout",
     "output_type": "stream",
     "text": [
      "숫자를 입력해주세요: 4\n",
      "몇 번째 약수를 알고 싶은지를 입력해주세요: 4\n",
      "입력하신 숫자 만큼의 약수가 존재하지 않습니다.\n"
     ]
    }
   ],
   "source": [
    "num = int(input(\"숫자를 입력해주세요: \"))\n",
    "kn_num = int(input(\"몇 번째 약수를 알고 싶은지를 입력해주세요: \"))\n",
    "\n",
    "fac_list = []\n",
    "for i in range(1, num+1):\n",
    "    if num % i == 0:\n",
    "        fac_list.append(i)\n",
    "        \n",
    "        \n",
    "if kn_num > len(fac_list):\n",
    "    print(\"입력하신 숫자 만큼의 약수가 존재하지 않습니다.\")\n",
    "else :\n",
    "    print(f\"{num}의 {kn_num}번째 약수는 {fac_list[kn_num-1]}입니다.\")"
   ]
  }
 ],
 "metadata": {
  "kernelspec": {
   "display_name": "Python 3",
   "language": "python",
   "name": "python3"
  },
  "language_info": {
   "codemirror_mode": {
    "name": "ipython",
    "version": 3
   },
   "file_extension": ".py",
   "mimetype": "text/x-python",
   "name": "python",
   "nbconvert_exporter": "python",
   "pygments_lexer": "ipython3",
   "version": "3.7.10"
  }
 },
 "nbformat": 4,
 "nbformat_minor": 5
}
