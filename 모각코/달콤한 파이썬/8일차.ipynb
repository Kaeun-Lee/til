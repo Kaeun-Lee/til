{
 "cells": [
  {
   "cell_type": "code",
   "execution_count": 2,
   "id": "smooth-graduation",
   "metadata": {},
   "outputs": [
    {
     "name": "stdout",
     "output_type": "stream",
     "text": [
      "직사각형 가로 길이를 입력해주세요: 5\n",
      "직사각형 세로 길이를 입력해주세요: 3\n",
      "직사각형의 둘레는 <bound method rectangle.rectangle_round of <__main__.rectangle object at 0x00000257D565CD88>>이고, 넓이는 <bound method rectangle.rectangle_area of <__main__.rectangle object at 0x00000257D565CD88>>입니다.\n"
     ]
    }
   ],
   "source": [
    "class rectangle:\n",
    "    def __init__(self, width, length):\n",
    "        self.width = width\n",
    "        self.length = length\n",
    "        \n",
    "    def rectangle_round(self):\n",
    "        round_ = (self.width + self.length) * 2\n",
    "        return round_\n",
    "        \n",
    "    def rectangle_area(self):\n",
    "        area_ = self.width * self.length\n",
    "        return area_\n",
    "\n",
    "\n",
    "\n",
    "width = int(input(\"직사각형 가로 길이를 입력해주세요: \"))\n",
    "length = int(input(\"직사각형 세로 길이를 입력해주세요: \"))\n",
    "rec = rectangle(width, length)\n",
    "print(f\"직사각형의 둘레는 {rec.rectangle_round()}이고, 넓이는 {rec.rectangle_area()}입니다.\")"
   ]
  },
  {
   "cell_type": "code",
   "execution_count": null,
   "id": "detailed-canyon",
   "metadata": {},
   "outputs": [],
   "source": [
    "class rectangle:\n",
    "   \n",
    "    def __init__(self,width,height):\n",
    "        self.width=width\n",
    "        self.height=height\n",
    "    def round(self):\n",
    "        result1=(self.width*2)+(self.height*2)\n",
    "        return result1\n",
    "    def area(self):\n",
    "        result2=self.width*self.height\n",
    "        return result2 \n",
    "\n",
    "width=int(input(\"가로: \"))\n",
    "height=int(input(\"높이: \"))\n",
    "a = rectangle(width, height)\n",
    "print(\"직사각형의 둘레는{}이고, 넓이는{}입니다.\".format(a.round(),a.area()))"
   ]
  }
 ],
 "metadata": {
  "kernelspec": {
   "display_name": "Python 3",
   "language": "python",
   "name": "python3"
  },
  "language_info": {
   "codemirror_mode": {
    "name": "ipython",
    "version": 3
   },
   "file_extension": ".py",
   "mimetype": "text/x-python",
   "name": "python",
   "nbconvert_exporter": "python",
   "pygments_lexer": "ipython3",
   "version": "3.7.10"
  }
 },
 "nbformat": 4,
 "nbformat_minor": 5
}
