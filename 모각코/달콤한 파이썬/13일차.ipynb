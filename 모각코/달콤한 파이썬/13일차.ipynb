{
 "cells": [
  {
   "cell_type": "markdown",
   "id": "national-magazine",
   "metadata": {},
   "source": [
    "## ▼ 난이도 중 문제 풀기 \n",
    "### 소인수분해\n",
    "- 정수를 소수의 곱만으로 표현하는 것을 소인수분해라고 함.  \n",
    "소인수분해 프로그램을 작성\n",
    "    - 힌트 : 소인수분해 과정 예시(숫자 12를 소인수분해하는 과정)\n",
    "        - A. 먼저, 숫자 12를 가장 작은 소수인 2로 나눔  \n",
    "        - B. 12는 2로 나누어떨어지므로, 2는 12의 소인수 → 2 \n",
    "        - C. 12를 2로 나눈 값 6을 다시 2로 나눔\n",
    "        - D. 6은 2로 나누어떨어지므로, 2는 6의 소인수 → 2\n",
    "        - E. 6을 2로 나눈 값 3을 다시 2로 나눔\n",
    "        - F. 3은 2로 나누어떨어지지 않음\n",
    "        - G. 3을 2 다음으로 작은 소수인 3으로 나눔\n",
    "        - H. 3은 3으로 나누어떨어지므로 3은 소인수 → 3\n",
    "        - I. 3을 3으로 나눈 값은 1인데, 나누는 수 3이 나눠지는 수 1보다 크기 때문에 계산을 종료\n",
    "   \n",
    "    \n",
    "    \n",
    "    \n",
    "\n",
    "- input    \n",
    "숫자를 입력해주세요: 36  \n",
    "- output  \n",
    "2  \n",
    "2  \n",
    "3  \n",
    "3  \n",
    "\n",
    "\n",
    "- input  \n",
    "숫자를 입력해주세요: 2132  \n",
    "- output   \n",
    "2  \n",
    "2  \n",
    "13  \n",
    "41\n",
    "\n",
    "\n"
   ]
  },
  {
   "cell_type": "code",
   "execution_count": null,
   "id": "czech-terrorist",
   "metadata": {},
   "outputs": [],
   "source": [
    "소수 만드는 함수\n",
    "num = int(input(\"숫자를 입력해주세요: \"))\n",
    "\n",
    "prime_ = []\n",
    "\n",
    "for i in range(2, (num//2)+1):\n",
    "    if num % i == 0:\n",
    "        prime_.append(num)\n",
    "        "
   ]
  },
  {
   "cell_type": "code",
   "execution_count": null,
   "id": "cellular-expansion",
   "metadata": {},
   "outputs": [],
   "source": [
    "word = input('단어를 입력해주세요: ')\n",
    "\n",
    "for i in range(1,len(word)):\n",
    "    "
   ]
  },
  {
   "cell_type": "code",
   "execution_count": null,
   "id": "given-saudi",
   "metadata": {},
   "outputs": [],
   "source": [
    "num = int(input(\"숫자를 입력해주세요: \"))\n",
    "\n",
    "\n",
    "for i in range (2,num):\n",
    "    while num % i==0 :\n",
    "        print(i)\n",
    "        num=num //i"
   ]
  }
 ],
 "metadata": {
  "kernelspec": {
   "display_name": "Python 3",
   "language": "python",
   "name": "python3"
  },
  "language_info": {
   "codemirror_mode": {
    "name": "ipython",
    "version": 3
   },
   "file_extension": ".py",
   "mimetype": "text/x-python",
   "name": "python",
   "nbconvert_exporter": "python",
   "pygments_lexer": "ipython3",
   "version": "3.7.10"
  }
 },
 "nbformat": 4,
 "nbformat_minor": 5
}
