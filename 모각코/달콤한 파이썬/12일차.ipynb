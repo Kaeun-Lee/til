{
 "cells": [
  {
   "cell_type": "markdown",
   "id": "knowing-spine",
   "metadata": {},
   "source": [
    "## ▼ 난이도 중 문제 풀기 \n",
    "### 함수를 활용한 구구단\n",
    "- 함수를 활용하여 구구단 프로그램 작성\n",
    "    - 조건 1 : 프로그램을 종료하기 전까지 계속 반복\n",
    "    - 조건 2 : 숫자를 입력받아 해당 숫자의 구구단을 출력\n",
    "    - 조건 3 : 입력받는 숫자의 범위는 2에서 9까지. 범위 이외의 숫자를 입력하면 오류를 표시\n",
    "    - 조건 4 : 함수를 하나 이상 만들어서 사용 조건 4 : 함수를 하나 이상 만들어서 사용\n",
    "  \n",
    "    \n",
    "\n",
    "- input    \n",
    "2부터 9사이 숫자를 입력해주세요(1을 누르면 프로그램이 종료됩니다): 2  \n",
    "- output\n",
    "2 × 1 = 2  \n",
    "2 × 2 = 4  \n",
    "2 × 3 = 6  \n",
    "2 × 4 = 8  \n",
    "2 × 5 = 10  \n",
    "2 × 6 = 12  \n",
    "2 × 7 = 14  \n",
    "2 × 8 = 16  \n",
    "2 × 9 = 18  \n",
    "\n",
    "\n",
    "- input  \n",
    "2부터 9사이 숫자를 입력해주세요(1을 누르면 프로그램이 종료됩니다): 1  \n",
    "- output   \n",
    "프로그램을 종료합니다.  \n",
    "\n",
    "\n",
    "- input    \n",
    "2부터 9사이 숫자를 입력해주세요(1을 누르면 프로그램이 종료됩니다): 0  \n",
    "- output   \n",
    "범위 외의 숫자입니다.  \n",
    "\n",
    "\n",
    "- input    \n",
    "2부터 9사이 숫자를 입력해주세요(1을 누르면 프로그램이 종료됩니다): 1  \n",
    "- output   \n",
    "프로그램을 종료합니다.  \n"
   ]
  },
  {
   "cell_type": "code",
   "execution_count": null,
   "id": "polyphonic-fence",
   "metadata": {},
   "outputs": [],
   "source": [
    "def multi (num) :\n",
    "    for i in range (1,10):\n",
    "        print(\"{0} x {1} = {2}\".format(num,i,num*i))\n",
    "\n",
    "while True:\n",
    "    num = int(input(\"\\n2부터 9사이 숫자를 입력해주세요(1을 누르면 프로그램이 종료됩니다):\"))\n",
    "    if num >1 and num<10:\n",
    "        multi(num)\n",
    "    elif num!=1 :\n",
    "        print(\"범위 외의 숫자를 입력하셨습니다.\")\n",
    "    else :\n",
    "        print(\"프로그램을 종료합니다.\")\n",
    "        break\n",
    "\n"
   ]
  },
  {
   "cell_type": "code",
   "execution_count": 3,
   "id": "preliminary-veteran",
   "metadata": {},
   "outputs": [
    {
     "name": "stdout",
     "output_type": "stream",
     "text": [
      "2부터 9사이 숫자를 입력해주세요(1을 누르면 프로그램이 종료됩니다):  30\n",
      "범위 외의 숫자를 입력하셨습니다.\n",
      "2부터 9사이 숫자를 입력해주세요(1을 누르면 프로그램이 종료됩니다):  5\n",
      "5 x 1 = 5\n",
      "5 x 2 = 10\n",
      "5 x 3 = 15\n",
      "5 x 4 = 20\n",
      "5 x 5 = 25\n",
      "5 x 6 = 30\n",
      "5 x 7 = 35\n",
      "5 x 8 = 40\n",
      "5 x 9 = 45\n",
      "2부터 9사이 숫자를 입력해주세요(1을 누르면 프로그램이 종료됩니다):  1\n",
      "프로그램을 종료합니다.\n"
     ]
    }
   ],
   "source": [
    "def multi(num):\n",
    "    for i in range(1,10):\n",
    "        print(f\"{num} x {i} = {num*i}\")\n",
    "        \n",
    "while True:\n",
    "    num = int(input(\"2부터 9사이 숫자를 입력해주세요(1을 누르면 프로그램이 종료됩니다):  \"))\n",
    "    if num == 1:\n",
    "        print(\"프로그램을 종료합니다.\")\n",
    "        break\n",
    "    elif 1 < num < 10:\n",
    "        multi(num)\n",
    "    else : \n",
    "        print(\"범위 외의 숫자를 입력하셨습니다.\")\n",
    "            "
   ]
  }
 ],
 "metadata": {
  "kernelspec": {
   "display_name": "Python 3",
   "language": "python",
   "name": "python3"
  },
  "language_info": {
   "codemirror_mode": {
    "name": "ipython",
    "version": 3
   },
   "file_extension": ".py",
   "mimetype": "text/x-python",
   "name": "python",
   "nbconvert_exporter": "python",
   "pygments_lexer": "ipython3",
   "version": "3.7.10"
  }
 },
 "nbformat": 4,
 "nbformat_minor": 5
}
