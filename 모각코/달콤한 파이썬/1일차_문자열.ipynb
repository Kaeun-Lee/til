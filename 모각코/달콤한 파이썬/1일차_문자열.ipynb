{
 "cells": [
  {
   "cell_type": "markdown",
   "metadata": {},
   "source": [
    "## ▼ 난이도 중 문제 풀기 \n",
    "### 문장 내 단어 오름차순으로 출력\n",
    "- 공백을 기준으로 단어를 구분한 후, 중복 단어를 삭제하여 오름차순으로 출력\n",
    "\n",
    "\n",
    "\n",
    "- input    \n",
    "문장을 입력해 주세요 : 딸기 당근 참외 포도 당근\n",
    "- output   \n",
    "당근 딸기 참외 포도\n",
    "- input  \n",
    "문장을 입력해 주세요 : 모각코 파이썬 코딩 문제 모두 각자 코딩\n",
    "- output   \n",
    "각자 모각코 모두 문제 코딩 파이썬"
   ]
  },
  {
   "cell_type": "code",
   "execution_count": 1,
   "metadata": {
    "scrolled": true
   },
   "outputs": [
    {
     "name": "stdout",
     "output_type": "stream",
     "text": [
      "문장을 입력해 주세요: 딸기 당근 참외 포도 당근\n",
      "당근 딸기 참외 포도 "
     ]
    }
   ],
   "source": [
    "# 방법 1\n",
    "user = input(\"문장을 입력해 주세요: \")\n",
    "\n",
    "word_list = user.split()\n",
    "unique_word = []\n",
    "\n",
    "for word in word_list:\n",
    "    if word not in unique_word:\n",
    "        unique_word.append(word)\n",
    "    else:\n",
    "        pass\n",
    "    \n",
    "ordered_word = sorted(unique_word)   # 정렬된 새로운 리스트를 리턴\n",
    "for i in ordered_word:\n",
    "    print(i, end= \" \")"
   ]
  },
  {
   "cell_type": "code",
   "execution_count": 2,
   "metadata": {},
   "outputs": [
    {
     "name": "stdout",
     "output_type": "stream",
     "text": [
      "문장을 입력해 주세요: 모각코 파이썬 코딩 문제 모두 각자 코딩\n",
      "각자 모각코 모두 문제 코딩 파이썬\n"
     ]
    }
   ],
   "source": [
    "# 방법 2\n",
    "word = input(\"문장을 입력해 주세요: \").split(\" \")   # 문장 입력 후 공백을 기준으로 문장 속 단어 나누기\n",
    "word = set(word)                                    # 집합 자료형으로 바꾸어 중복 단어 제거\n",
    "word = list(word)                                   # list형으로 다시 자료형 변환\n",
    "word.sort()                                         # sort 함수를 통해 오름차순으로 정렬\n",
    "\n",
    "print(\" \".join(word))                               # list 형식을 공백으로 연결하여 출력"
   ]
  },
  {
   "cell_type": "markdown",
   "metadata": {},
   "source": [
    "## ▼ 난이도 상 문제 풀기 \n",
    "### 영어 문장 대소문자 올바르게 사용하기\n",
    "- 여러 영어 문장을 입력받았을 때, 문장의 대소문자 사용을 올바르게 고치는 프로그램 작성\n",
    "    * 조건 1 : 문장은 마침표(.)를 기준으로 구분됨\n",
    "    * 조건 2 : 각 문장의 첫 번째 글자와, '나'를 뜻하는 단어 'I'는 무조건 대문자여야 함\n",
    "    * 조건 3 : 이외의 글자는 소문자여야 함\n",
    "\n",
    "\n",
    "- input    \n",
    "문장을 입력해 주세요 : hI. nIcE to MEEt yOU. i'M hAPPY. tHen, gOOD Bye.\n",
    "- output   \n",
    "Hi. Nice to meet you. I'm happy. Then, good bye.\n",
    "- input  \n",
    "문장을 입력해 주세요 : THe wEaTHer iS vERy CleaR TOdAy. i nEEd To go FoR a waLK.\n",
    "- output   \n",
    "The weather is very clear today. I need to go for a walk."
   ]
  },
  {
   "cell_type": "code",
   "execution_count": 3,
   "metadata": {},
   "outputs": [
    {
     "name": "stdout",
     "output_type": "stream",
     "text": [
      "문장을 입력해 주세요: THe wEaTHer iS vERy CleaR TOdAy. i nEEd To go FoR a waLK.\n",
      "The weather is very clear today. I need to go for a walk. "
     ]
    }
   ],
   "source": [
    "# 방법1\n",
    "a = input(\"문장을 입력해 주세요: \")    \n",
    "b = a.split('.')\n",
    "\n",
    "for i in range(len(b)-1):                   # for문으로 각 문장 살펴보기\n",
    "    c = b[i].strip()                        # 각 문장의 좌우 공백 제거\n",
    "    d = c.split(' ')                        # 공백을 기준으로 단어 나누기\n",
    "    for j in range(len(d)):                # for문으로 각 단어 살펴보기\n",
    "        d[j] = d[j].lower()                # 모든 단어를 알파벳 소문자로 변환\n",
    "        if d[j] == 'i':\n",
    "            d[j] = 'I'                      # 'i'만 존재하는 경우 대문자 'I'로 변환\n",
    "        elif d[j][0:2] == \"i'\":\n",
    "            d[j] = d[j].replace('i', 'I')   # \"i'\"로 존재하는 경우 대문자 'I'로 변환\n",
    "    d[0] = d[0].capitalize()                # 문장 첫 번째 단어의 첫 번째 문자를 대문자로 변환\n",
    "    d = ' '.join(d)                         # list 형태의 단어들을 문자열로 치환\n",
    "    print(d, end = '. ')                    # 문장 끝에 마침표를 찍어주며 출력"
   ]
  }
 ],
 "metadata": {
  "kernelspec": {
   "display_name": "Python 3",
   "language": "python",
   "name": "python3"
  },
  "language_info": {
   "codemirror_mode": {
    "name": "ipython",
    "version": 3
   },
   "file_extension": ".py",
   "mimetype": "text/x-python",
   "name": "python",
   "nbconvert_exporter": "python",
   "pygments_lexer": "ipython3",
   "version": "3.7.6"
  }
 },
 "nbformat": 4,
 "nbformat_minor": 4
}
