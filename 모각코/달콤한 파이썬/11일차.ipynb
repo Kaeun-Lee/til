{
 "cells": [
  {
   "cell_type": "markdown",
   "id": "average-trade",
   "metadata": {},
   "source": [
    "## ▼ 난이도 중 문제 풀기 \n",
    "### 가운데 글자 찾기\n",
    "- 단어를 입력받고, 입력받은 단어의 가운데 글자를 찾는 코드를 작성해보세요.\n",
    "    - 조건 1 : 단어의 길이가 홀수이면 가운데 글자 하나를 출력합니다.\n",
    "    - 조건 2 : 단어의 길이가 짝수이면 가운데 글자 두 개를 출력합니다.\n",
    "\n",
    "    \n",
    "- input    \n",
    "코뮤니티    \n",
    "- output   \n",
    "뮤니  \n",
    "\n",
    "\n",
    "- input    \n",
    "모각코  \n",
    "- output   \n",
    "각   "
   ]
  },
  {
   "cell_type": "code",
   "execution_count": 9,
   "id": "published-suite",
   "metadata": {
    "scrolled": true
   },
   "outputs": [
    {
     "name": "stdout",
     "output_type": "stream",
     "text": [
      "단어를 입력해주세요: 안녕하실까요\n",
      "하실\n"
     ]
    }
   ],
   "source": [
    "word = input(\"단어를 입력해주세요: \")\n",
    "\n",
    "if len(word) % 2 == 0 :\n",
    "    i = (len(word) // 2)-1\n",
    "    j = len(word) // 2ㅅ\n",
    "    print(word[i]+word[j])\n",
    "else :\n",
    "    i = (len(word) // 2)\n",
    "    print(word[i])"
   ]
  },
  {
   "cell_type": "code",
   "execution_count": null,
   "id": "invisible-equivalent",
   "metadata": {},
   "outputs": [],
   "source": [
    "## ▼ 난이도 상 문제 풀기 \n",
    "### 가위바위보 게임\n",
    "- 아래의 조건에 따라 컴퓨터와 가위바위보 게임을 할 수 있는 간단한 게임\n",
    "    - 조건 1 : random 모듈을 사용\n",
    "        - random 모듈\n",
    "            - 파이썬에서 제공하는 난수 활용 모듈\n",
    "            - random.random() : 0이상 1미만 사이의 실수로 난수를 구함\n",
    "            - random.randint(a,b) : a이상 b이하 사이의 정수를 난수로 구함\n",
    "    - 조건 2 : 프로그램에서 '가위', '바위', '보' 중 하나를 입력하면 게임을 진행.  \n",
    "        다른 입력 사항은 고려하지 않음\n",
    "    - 조건 3 : 함수를 최소 2개 이상은 사용\n",
    "    - 조건 4 : 게임 결과(이김, 비김, 짐)에 따른 출력\n",
    "    \n",
    "- input    \n",
    "코뮤니티    \n",
    "- output   \n",
    "뮤니  \n",
    "\n",
    "\n",
    "- input    \n",
    "모각코  \n",
    "- output   \n",
    "각   "
   ]
  }
 ],
 "metadata": {
  "kernelspec": {
   "display_name": "Python 3",
   "language": "python",
   "name": "python3"
  },
  "language_info": {
   "codemirror_mode": {
    "name": "ipython",
    "version": 3
   },
   "file_extension": ".py",
   "mimetype": "text/x-python",
   "name": "python",
   "nbconvert_exporter": "python",
   "pygments_lexer": "ipython3",
   "version": "3.7.10"
  }
 },
 "nbformat": 4,
 "nbformat_minor": 5
}
