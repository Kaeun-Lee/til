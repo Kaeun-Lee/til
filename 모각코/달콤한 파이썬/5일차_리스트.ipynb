{
 "cells": [
  {
   "cell_type": "markdown",
   "metadata": {},
   "source": [
    "## ▼ 난이도 중 문제 풀기 \n",
    "### OX퀴즈 점수 계산하기\n",
    "- OX퀴즈의 결과가 주어졌을 때 점수를 계산하는 프로그램을 작성\n",
    "    - 조건 1 : 'O'의 점수는 그 때까지의 연속된 O의 개수를 점수로 가짐  \n",
    "        (ex. O → 1점, OOO → 1 + 2 + 3 = 6점)\n",
    "    - 조건 2 : 'x'의 점수는 0점의 점수는 0점\n",
    "\n",
    "\n",
    "\n",
    "- input    \n",
    "OX퀴즈의 결과를 입력해주세요(ex. OOXOXXO) : OXXXOOX  \n",
    "- output   \n",
    "4\n",
    "- input  \n",
    "OX퀴즈의 결과를 입력해주세요(ex. OOXOXXO) : OXOXOX  \n",
    "- output   \n",
    "3\n",
    "- input   \n",
    "OX퀴즈의 결과를 입력해주세요(ex. OOXOXXO) : OOOOO  \n",
    "- output  \n",
    "15"
   ]
  },
  {
   "cell_type": "code",
   "execution_count": null,
   "metadata": {},
   "outputs": [],
   "source": [
    "o이 연속되면 점수가 1점씩 올라가도록\n",
    "X가 나오면 0점\n"
   ]
  },
  {
   "cell_type": "code",
   "execution_count": null,
   "metadata": {},
   "outputs": [],
   "source": [
    "a = list(map(str, input(\"OX퀴즈의 결과를 입력해주세요 :\")))\n",
    "\n",
    "score = 0\n",
    "res = 0 #OX점수총합\n",
    "\n",
    "for i in a :\n",
    "    if i == 'O' :\n",
    "        score += 1 #'O'가 연속되면 1씩 증가\n",
    "        res += score \n",
    "    else : score = 0 \n",
    "\n",
    "print(res)"
   ]
  },
  {
   "cell_type": "code",
   "execution_count": null,
   "metadata": {},
   "outputs": [],
   "source": [
    "#모각코 달콤한 파이썬 난이도 중\n",
    "a=input(\"OX퀴즈의 결과를 입력해주세요: \")\n",
    "b=a.split(\"x\")\n",
    "d=0\n",
    "f=[]\n",
    "for i in range(1,len(a)+1):\n",
    "    c=b.count(\"o\"*i)\n",
    "    d=sum(range(1,i+1))\n",
    "    e=c*d\n",
    "    f.append(e)\n",
    "\n",
    "print(sum(f))"
   ]
  },
  {
   "cell_type": "code",
   "execution_count": null,
   "metadata": {},
   "outputs": [],
   "source": [
    "Q = input(\"OX퀴즈의 결과를 입력해주세요(ex.OOXOXXO): \").split(\"X\")\n",
    "score = 0\n",
    "for n in Q:\n",
    "    for J in range(0, len(n)+1):\n",
    "        score=score+J\n",
    "print(score)"
   ]
  },
  {
   "cell_type": "code",
   "execution_count": null,
   "metadata": {},
   "outputs": [],
   "source": [
    "user = input('OX퀴즈의 결과를 입력해주세요(ex.OOXOXXO):')split('X')\n",
    "score = 0\n",
    "\n",
    "for n in user:\n",
    "    for i in range(1,len(n)+1):\n",
    "        score += i\n",
    "\n",
    "print(score)"
   ]
  },
  {
   "cell_type": "markdown",
   "metadata": {},
   "source": [
    "## ▼ 난이도 상 문제 풀기 \n",
    "### 끝말잇기\n",
    "- 끝말잇기 게임을 할 수 있는 코드를 작성\n",
    "    - 조건 1 : 두 번째 단어 입력부터는 앞의 단어의 마지막 글자와 동일한 글자로 시작되어야 함    \n",
    "        (ex. 기차 → 차○)  \n",
    "        만약 다른 글자로 시작하게 된다면 게임을 종료\n",
    "    - 조건 2 : 5의 배수 번째 단어에서는 현재까지 몇 개의 단어를 입력했는지 알려줘야 함\n",
    "    - 조건 3 : 앞에서 입력했던 단어와 동일한 단어를 입력한다면 게임을 종료\n",
    "        \n",
    "\n",
    "\n",
    "\n",
    "- input    \n",
    "기차  \n",
    "차표  \n",
    "고양이\n",
    "- output   \n",
    "틀린 단어를 입력하셨습니다. 게임을 종료합니다.  \n",
    "- input  \n",
    "사과  \n",
    "과일  \n",
    "일상  \n",
    "상자  \n",
    "자석  \n",
    "(중간 점검) 현재 5개의 단어를 입력하셨습니다.  \n",
    "석사  \n",
    "사과  \n",
    "- output   \n",
    "앞에서 사용한 단어와 동일한 단어를 입력하셨습니다. 게임을 종료합니다."
   ]
  },
  {
   "cell_type": "code",
   "execution_count": null,
   "metadata": {},
   "outputs": [],
   "source": [
    "앞의 마지막 단어와 같도록\n",
    "다른 글자로 시작하면 종료\n",
    "5번째 배수에서 중간 점검\n",
    "앞에 나온 단어와 동일하면 종료\n",
    "앞에서 사용한 것과 동일하지 않으려면 그동안 사용한 단어는 리스트에 담아서 확인\n"
   ]
  },
  {
   "cell_type": "code",
   "execution_count": null,
   "metadata": {},
   "outputs": [],
   "source": [
    "h=[]\n",
    "\n",
    "while True:\n",
    "    g=input(\"\")\n",
    "    h.append(g)\n",
    "    if h.index(g)==0:\n",
    "         g=input(\"\")\n",
    "         h.append(g)\n",
    "        \n",
    "    else:\n",
    "        if (h.index(g)+1)%5==0:\n",
    "             print(\"(중간점검) 현재 {}개의 단어를 입력하셨습니다.\".format(h.index(g)+1))\n",
    "\n",
    "        if h[-2][-1]!=h[-1][0]:\n",
    "            print(\"틀린단어를 입력하셨습니다. 게임을 종료합니다.\")\n",
    "            break\n",
    "\n",
    "        if h[-1] in h[:-2]:\n",
    "            print(\"틀린단어를 입력하셨습니다. 게임을 종료합니다.\")\n",
    "            break"
   ]
  },
  {
   "cell_type": "code",
   "execution_count": null,
   "metadata": {},
   "outputs": [],
   "source": [
    "user = list(input(\"끝말잇기 시작\"))\n",
    "word_list = []\n",
    "\n",
    "while True:\n",
    "    word_list.append(input())\n",
    "    if word_list[-2][-1] != word_list[-1][0]:\n",
    "        print(\"틀린 단어를 입력하셨습니다. 게임을 종료합니다.\")\n",
    "        break\n",
    "    elif word_list[-1] in word_list[:-2]:\n",
    "        print(\"앞에서 사용한 단어와 동일한 단어를 입력하셨습니다. 게임을 종료합니다.\")\n",
    "        break\n",
    "    if len(word_list) % 5 == 0:\n",
    "        print(f\"(중간 점검) 현재 {len(word_list)}개의 단어를 입력하셨습니다.\")"
   ]
  }
 ],
 "metadata": {
  "kernelspec": {
   "display_name": "Python 3",
   "language": "python",
   "name": "python3"
  },
  "language_info": {
   "codemirror_mode": {
    "name": "ipython",
    "version": 3
   },
   "file_extension": ".py",
   "mimetype": "text/x-python",
   "name": "python",
   "nbconvert_exporter": "python",
   "pygments_lexer": "ipython3",
   "version": "3.7.6"
  }
 },
 "nbformat": 4,
 "nbformat_minor": 4
}
