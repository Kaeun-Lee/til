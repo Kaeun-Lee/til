{
 "cells": [
  {
   "cell_type": "markdown",
   "id": "express-turtle",
   "metadata": {},
   "source": [
    "## ▼ 난이도 중 문제 풀기 \n",
    "### 24시간제에서 12시간제로 변환\n",
    "- 24시간제 시간(ex. 13:23)을 입력받고, 입력받은 시간을  \n",
    "12시간제(ex.1:23PM)로 변환하여 출력하는 프로그램을 작성  \n",
    "    - 조건 1 : 시간은 문자열 형태로 입력받음\n",
    "    - 조건 2 : 시간을 변환하고 오전인지 오후인지도 표기\n",
    "    - 조건 3 : 24시간제의 시간 범위는 0:00~23:59\n",
    "         \n",
    "    \n",
    "\n",
    "- input    \n",
    "24시 기준의 시간을 입력해주세요(ex.12:34): 13:11  \n",
    "- output  \n",
    "변환 시간: 1:11 PM\n",
    "\n",
    "\n",
    "\n",
    "- input  \n",
    "24시 기준의 시간을 입력해주세요(ex.12:34): 12:34  \n",
    "- output   \n",
    "변환 시간: 12:34 PM\n",
    "\n"
   ]
  },
  {
   "cell_type": "code",
   "execution_count": 1,
   "id": "forbidden-valentine",
   "metadata": {},
   "outputs": [
    {
     "name": "stdout",
     "output_type": "stream",
     "text": [
      "24시 기준의 시간을 입력해주세요(ex.12:34): 12:34\n",
      "변환 시간: 12:34 PM\n"
     ]
    }
   ],
   "source": [
    "time_ = input(\"24시 기준의 시간을 입력해주세요(ex.12:34): \").split(':')\n",
    "\n",
    "\n",
    "if 0 <= int(time_[0]) < 12:\n",
    "    print('변환 시간: {}:{} AM'.format(int(time_[0]), time_[1])) \n",
    "elif int(time_[0]) == 12:\n",
    "    print('변환 시간: {}:{} PM'.format(int(time_[0]), time_[1]))\n",
    "else:\n",
    "    hour= int(time_[0]) % 12\n",
    "    print('변환 시간: {}:{} PM'.format(hour, time_[1])) "
   ]
  },
  {
   "cell_type": "markdown",
   "id": "informed-beast",
   "metadata": {},
   "source": [
    "## ▼ 난이도 상 문제 풀기 \n",
    "### 오름차순 정렬하기\n",
    "- sort 키워드를 사용하지 않고, 입력받은 숫자를 오름차순으로 정렬하는 프로그램을 작성  \n",
    "    - 오름차순 : 작은 것 → 큰 것 순서대로 정렬하는 것\n",
    "    - 조건 1 : 출력값은 리스트 자료형으로 출력\n",
    "    - 조건 2 : 숫자는 5개의 숫자를 입력받음\n",
    "    - 리스트\n",
    "    \n",
    "\n",
    "- input    \n",
    "숫자를 입력하세요: 5  \n",
    "숫자를 입력하세요: 56  \n",
    "숫자를 입력하세요: 45  \n",
    "숫자를 입력하세요: 82  \n",
    "숫자를 입력하세요: 1035  \n",
    "- output  \n",
    "[5, 45, 56,82,1035]\n",
    "\n",
    "\n",
    "\n",
    "- input  \n",
    "숫자를 입력하세요: 564  \n",
    "숫자를 입력하세요: 1212  \n",
    "숫자를 입력하세요: 374  \n",
    "숫자를 입력하세요: 33  \n",
    "숫자를 입력하세요: 79  \n",
    "- output   \n",
    "[33, 79, 374, 564, 1212]\n"
   ]
  }
 ],
 "metadata": {
  "kernelspec": {
   "display_name": "Python 3",
   "language": "python",
   "name": "python3"
  },
  "language_info": {
   "codemirror_mode": {
    "name": "ipython",
    "version": 3
   },
   "file_extension": ".py",
   "mimetype": "text/x-python",
   "name": "python",
   "nbconvert_exporter": "python",
   "pygments_lexer": "ipython3",
   "version": "3.7.10"
  }
 },
 "nbformat": 4,
 "nbformat_minor": 5
}
