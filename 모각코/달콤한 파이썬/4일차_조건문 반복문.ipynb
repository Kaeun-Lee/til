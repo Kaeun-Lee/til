{
 "cells": [
  {
   "cell_type": "markdown",
   "metadata": {},
   "source": [
    "## ▼ 난이도 중 문제 풀기 \n",
    "### 팩토리얼 계산하기\n",
    "- 팩토리얼은 그 숫자와 같거나 작은 정수들의 모든 곱을 연산하는 개념  \n",
    "반복문을 통해 팩토리얼을 계산하는 코드를 작성\n",
    "    - 5! = 5 \\* 4 \\* 3 \\* 2 \\* 1 = 120\n",
    "\n",
    "\n",
    "\n",
    "- input    \n",
    "숫자를 입력해주세요: 5\n",
    "- output   \n",
    "5!은 120입니다.\n",
    "- input  \n",
    "숫자를 입력해주세요: 6\n",
    "- output   \n",
    "6!은 720입니다."
   ]
  },
  {
   "cell_type": "code",
   "execution_count": 4,
   "metadata": {},
   "outputs": [
    {
     "name": "stdout",
     "output_type": "stream",
     "text": [
      "숫자를 입력해주세요: 5\n",
      "5!은 120입니다.\n"
     ]
    }
   ],
   "source": [
    "num = int(input(\"숫자를 입력해주세요: \"))\n",
    "\n",
    "fac = 1\n",
    "for i in range(num):\n",
    "    fac *= (num-i)\n",
    "    \n",
    "print(f\"{num}!은 {fac}입니다.\")"
   ]
  },
  {
   "cell_type": "markdown",
   "metadata": {},
   "source": [
    "## ▼ 난이도 상 문제 풀기 \n",
    "### 두 숫자 사이 n의 배수 찾기\n",
    "- 공백으로 구분된 문자열 형태의 두 숫자를 입력받고, n을 입력받아 두 숫자 사이에 존재하는 n의 배수를 구하라를 입력받고, n을 입력받아 두 숫자 사이에 존재하는 n의 배수를 구하기\n",
    "    - 조건 1 : 숫자 두 개는 공백(스페이스 바)로 구분되어 입력됨\n",
    "    - 조건 2 : 숫자 두 개는 문자열 형태로 입력됨\n",
    "    - 조건 3 : 입력된 숫자를 포함하여 배수를 출력\n",
    "\n",
    "\n",
    "- input    \n",
    "숫자 두 개를 입력해주세요(ex. '3 5'): 2 21   \n",
    "배수를 알고 싶은 숫자를 입력해주세요: 5\n",
    "- output   \n",
    "5 10 15 20\n",
    "- input    \n",
    "숫자 두 개를 입력해주세요(ex. '3 5'): 9 52  \n",
    "배수를 알고 싶은 숫자를 입력해주세요: 13\n",
    "- output   \n",
    "13 26 39 52"
   ]
  },
  {
   "cell_type": "code",
   "execution_count": 2,
   "metadata": {},
   "outputs": [
    {
     "name": "stdout",
     "output_type": "stream",
     "text": [
      "숫자 두 개를 입력해주세요(ex. '3 5'): 9 52\n",
      "배수를 알고 싶은 숫자를 입력해주세요: 13\n",
      "13 26 39 52 "
     ]
    }
   ],
   "source": [
    "num_two = input(\"숫자 두 개를 입력해주세요(ex. '3 5'): \").split(\" \")\n",
    "multi = int(input(\"배수를 알고 싶은 숫자를 입력해주세요: \"))\n",
    "\n",
    "int_num = []\n",
    "for i in num_two:\n",
    "    i = int(i)\n",
    "    int_num.append(i)\n",
    "    \n",
    "for num in range(int_num[0], int_num[1]+1):\n",
    "    if num % multi == 0:\n",
    "        print(num, end=\" \")"
   ]
  }
 ],
 "metadata": {
  "kernelspec": {
   "display_name": "Python 3",
   "language": "python",
   "name": "python3"
  },
  "language_info": {
   "codemirror_mode": {
    "name": "ipython",
    "version": 3
   },
   "file_extension": ".py",
   "mimetype": "text/x-python",
   "name": "python",
   "nbconvert_exporter": "python",
   "pygments_lexer": "ipython3",
   "version": "3.7.6"
  }
 },
 "nbformat": 4,
 "nbformat_minor": 4
}
