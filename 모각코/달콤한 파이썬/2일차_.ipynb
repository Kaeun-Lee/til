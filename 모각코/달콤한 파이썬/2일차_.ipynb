{
 "cells": [
  {
   "cell_type": "code",
   "execution_count": 2,
   "metadata": {},
   "outputs": [
    {
     "name": "stdout",
     "output_type": "stream",
     "text": [
      "숫자를 입력하시오: 5.5\n",
      "6\n"
     ]
    }
   ],
   "source": [
    "user = input('숫자를 입력하시오: ')\n",
    "num = user.split('.')\n",
    "\n",
    "if int(num[1][0]) >= 5: \n",
    "    print(int(num[0]) + 1) \n",
    "else:\n",
    "    print(num[0])"
   ]
  }
 ],
 "metadata": {
  "kernelspec": {
   "display_name": "Python 3",
   "language": "python",
   "name": "python3"
  },
  "language_info": {
   "codemirror_mode": {
    "name": "ipython",
    "version": 3
   },
   "file_extension": ".py",
   "mimetype": "text/x-python",
   "name": "python",
   "nbconvert_exporter": "python",
   "pygments_lexer": "ipython3",
   "version": "3.7.6"
  }
 },
 "nbformat": 4,
 "nbformat_minor": 4
}
