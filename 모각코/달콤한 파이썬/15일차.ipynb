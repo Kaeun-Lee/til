{
 "cells": [
  {
   "cell_type": "markdown",
   "id": "wicked-efficiency",
   "metadata": {},
   "source": [
    "## ▼ 난이도 중 문제 풀기 \n",
    "### 2021년 a월 b일은 무슨 요일\n",
    "- 날짜를 입력받고, 2021년을 기준으로 입력받은 날짜가 무슨 요일인지 구하는 프로그램을 작성 \n",
    "    - 조건 1 : 2021년 1월 1일은 금요일\n",
    "    - 조건 2 : 2021년은 윤년이 아님\n",
    "    - ★ 힌트\n",
    "        - 일주일은 7일을 주기로 반복되기 때문에, 해당 날짜까지의 총 날짜 수를 7로 나눈 나머지를 활용할 수 있음\n",
    "    \n",
    "\n",
    "- input    \n",
    "월 : 2  \n",
    "일 : 23\n",
    "- output  \n",
    "2월 23일은 화요일입니다.\n",
    "\n",
    "\n",
    "\n",
    "- input  \n",
    "월 : 4  \n",
    "일 : 15\n",
    "- output   \n",
    "4월 15일은 목요일입니다.\n"
   ]
  },
  {
   "cell_type": "code",
   "execution_count": 10,
   "id": "guilty-journal",
   "metadata": {},
   "outputs": [
    {
     "name": "stdout",
     "output_type": "stream",
     "text": [
      "월 : 4\n",
      "일 : 6\n",
      "4월 6는 화요일 입니다.\n"
     ]
    }
   ],
   "source": [
    "import datetime\n",
    "import time\n",
    "\n",
    "def Day_c(y,m,d):\n",
    "    daylist = ['월', '화', '수', '목', '금', '토', '일']\n",
    "    return daylist[datetime.date(y,m,d).weekday()]\n",
    "\n",
    "m = int(input(\"월 : \"))\n",
    "d = int(input(\"일 : \"))\n",
    "\n",
    "day_ = Day_c(2021, m,d)\n",
    "print(f\"{m}월 {d} {day_}요일 입니다.\")"
   ]
  }
 ],
 "metadata": {
  "kernelspec": {
   "display_name": "Python 3",
   "language": "python",
   "name": "python3"
  },
  "language_info": {
   "codemirror_mode": {
    "name": "ipython",
    "version": 3
   },
   "file_extension": ".py",
   "mimetype": "text/x-python",
   "name": "python",
   "nbconvert_exporter": "python",
   "pygments_lexer": "ipython3",
   "version": "3.7.10"
  }
 },
 "nbformat": 4,
 "nbformat_minor": 5
}
