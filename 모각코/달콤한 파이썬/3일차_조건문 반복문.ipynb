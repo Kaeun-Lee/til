{
 "cells": [
  {
   "cell_type": "markdown",
   "metadata": {},
   "source": [
    "## ▼ 난이도 중 문제 풀기 \n",
    "### <U>높이가 n인 직각이등변삼각형 만들기</U>\n",
    "- 삼각형의 길이를 입력받고, 반복문을 활용하여 직각 삼각형을 만들어보세요.\n",
    "    - 조건 1 : 삼각형의 높이(길이)를 입력 받아야 함\n",
    "    - 조건 2 : 반복문을 활용해야 함\n",
    "    - 조건 3 : 출력 예시와 같이 별이 오른쪽부터 찍혀 있어야 함\n",
    "\n",
    "\n",
    "- input    \n",
    "삼각형의 높이를 입력해주세요 : 5"
   ]
  },
  {
   "cell_type": "code",
   "execution_count": 3,
   "metadata": {
    "scrolled": true
   },
   "outputs": [
    {
     "name": "stdout",
     "output_type": "stream",
     "text": [
      "삼각형의 높이를 입력해주세요: 5\n",
      "        * \n",
      "      * * \n",
      "    * * * \n",
      "  * * * * \n",
      "* * * * * \n"
     ]
    }
   ],
   "source": [
    "height = int(input(\"삼각형의 높이를 입력해주세요: \"))\n",
    "\n",
    "for row in range(height):\n",
    "    for col in range(height-row-1):\n",
    "        print(\" \", end=\" \")\n",
    "    for col in range(row+1):\n",
    "        print(\"*\", end=\" \")\n",
    "    print()    "
   ]
  },
  {
   "cell_type": "markdown",
   "metadata": {},
   "source": [
    "## ▼ 난이도 상 문제 풀기 \n",
    "### <U>3월 달력 출력하기</U>\n",
    "- 반복문과 조건문을 활용하여 2021년 3월의 달력을 출력해보세요.\n",
    "    * 조건 1 : 3월의 마지막 날은 31일이며, 3월 1일은 월요일이다.\n",
    "    * 조건 2 : 달력은 일요일부터 시작되며, 날짜 위에 요일 표시를 출력해야 함요일부터 시작되며, 날짜 위에 요일 표시를 출력해야 함\n",
    "        \n",
    "    ▼ 힌트 1  \n",
    "    7일 마다 주가 바뀌는 것을 고려하여 반복문을 사용해야 함  \n",
    "    ▼ 힌트 2  \n",
    "    일주일은 7일이므로 날짜를 7로 나누었을 때 if의 조건부가 어떻게 들어가야 할 지 고려"
   ]
  },
  {
   "cell_type": "code",
   "execution_count": 15,
   "metadata": {},
   "outputs": [
    {
     "name": "stdout",
     "output_type": "stream",
     "text": [
      "\t\t\t<3월 달력>\t\t\t\n",
      "일\t월\t화\t수\t목\t금\t토\n",
      "1\t2\t3\t4\t5\t6\t\n",
      "\n",
      "7\t8\t9\t10\t11\t12\t13\t\n",
      "\n",
      "14\t15\t16\t17\t18\t19\t20\t\n",
      "\n",
      "21\t22\t23\t24\t25\t26\t27\t\n",
      "\n",
      "28\t29\t30\t31\t"
     ]
    }
   ],
   "source": [
    "print(\"\\t\\t\\t<3월 달력>\\t\\t\\t\")\n",
    "print(\"일\\t월\\t화\\t수\\t목\\t금\\t토\")\n",
    "\n",
    "for i in range(1, 32):\n",
    "    print(f\"{i}\\t\", end=\"\")\n",
    "    if (i % 7) == 6:\n",
    "        print(\"\\n\")\n",
    "\n"
   ]
  }
 ],
 "metadata": {
  "kernelspec": {
   "display_name": "Python 3",
   "language": "python",
   "name": "python3"
  },
  "language_info": {
   "codemirror_mode": {
    "name": "ipython",
    "version": 3
   },
   "file_extension": ".py",
   "mimetype": "text/x-python",
   "name": "python",
   "nbconvert_exporter": "python",
   "pygments_lexer": "ipython3",
   "version": "3.7.6"
  }
 },
 "nbformat": 4,
 "nbformat_minor": 4
}
