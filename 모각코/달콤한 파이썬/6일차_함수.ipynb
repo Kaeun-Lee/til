{
 "cells": [
  {
   "cell_type": "markdown",
   "metadata": {},
   "source": [
    "## ▼ 난이도 중 문제 풀기 \n",
    "### 도형별 넓이 계산기\n",
    "- 메뉴에 있는 도형을 선택하고 길이를 입력받아 넓이를 구할 수 있는 코드를 작성\n",
    "    - 조건 1 : 도형은 원, 삼각형, 직사각형, 정사각형이 존재\n",
    "    - 조건 2 : 도형의 넒이 계산은 무조건 함수로 정의되어야 함\n",
    "    - 조건 3 : 도형 별로 필요한 길이를 입력받아야 함\n",
    "        - 원 → 반지름\n",
    "        - 삼각형 → 밑변, 높이\n",
    "        - 직사각형 → 가로, 세로\n",
    "        - 정사각형 → 한 변의 길이\n",
    "        \n",
    "        \n",
    "- 도형 넓이 계산 공식\n",
    "    - (원 넓이 공식) : 반지름 * 반지름 * 원주율(3.1415)\n",
    "    - (삼각형 넓이 공식) : 밑변 * 높이 / 2\n",
    "    - (직사각형 넓이 공식) : 가로 * 세로\n",
    "    - (정사각형 넓이 공식) : (한 변 길이) * (한 변 길이)\n",
    "\n",
    "\n",
    "- input    \n",
    "\\==========도형 목록==========  \n",
    "1.원  \n",
    "2.삼각형  \n",
    "3.직사각형   \n",
    "4.정사각형  \n",
    "\\============================  \n",
    "\n",
    "    도형 목록에서 넓이를 계산할 도형의 번호를 입력해주세요: 3  \n",
    "    직사각형 가로 길이를 입력해주세요 : 4  \n",
    "    직사각형 세로 길이를 입력해주세요 : 5  \n",
    "    \n",
    "    \n",
    "- output   \n",
    "가로가 4이고 세로가 5인 직사각형의 넓이는 20입니다.  \n",
    "\n",
    "\n",
    "- input  \n",
    "\\==========도형 목록==========  \n",
    "1.원  \n",
    "2.삼각형  \n",
    "3.직사각형   \n",
    "4.정사각형  \n",
    "\\============================  \n",
    "\n",
    "    도형 목록에서 넓이를 계산할 도형의 번호를 입력해주세요: 1  \n",
    "    원의 반지름 길이를 입력해주세요: 5  \n",
    "    \n",
    "    \n",
    "- output   \n",
    "반지름 길이가 5인 원의 넓이는 약 78.54입니다."
   ]
  },
  {
   "cell_type": "code",
   "execution_count": 26,
   "metadata": {},
   "outputs": [
    {
     "name": "stdout",
     "output_type": "stream",
     "text": [
      "==========도형 목록==========\n",
      "1. 원\n",
      "2. 삼각형\n",
      "3. 직사각형  \n",
      "4. 정사각형\n",
      "=============================\n",
      "\n",
      "도형 목록에서 넓이를 계산할 도형의 번호를 입력해주세요: 3\n",
      "직사각형 가로 길이를 입력해주세요: 4\n",
      "직사각형 세로 길이를 입력해주세요: 5\n",
      "가로가 4이고 세로가 5인 삼각형의 넓이는 20입니다.\n"
     ]
    }
   ],
   "source": [
    "def circle_area(radius):\n",
    "    return radius * radius * 3.1415\n",
    "    \n",
    "def triangle_area(base,height):\n",
    "    return (base * height) / 2\n",
    "\n",
    "def rectangle_area(width,length):\n",
    "    return width * length\n",
    "\n",
    "def square_area(length):\n",
    "    return length * length\n",
    "\n",
    "print(\"\"\"==========도형 목록==========\n",
    "1. 원\n",
    "2. 삼각형\n",
    "3. 직사각형  \n",
    "4. 정사각형\n",
    "=============================\\n\"\"\")\n",
    "\n",
    "\n",
    "num = int(input(\"도형 목록에서 넓이를 계산할 도형의 번호를 입력해주세요: \"))\n",
    "if num == 1 :\n",
    "    radi = int(input(\"원의 반지름 길이를 입력해주세요: \"))\n",
    "    print(f\"반지름의 길이가 {radi}인 원의 넓이는 약 {circle_area(radi):.2f}입니다.\")\n",
    "elif num == 2 :\n",
    "    base = int(input(\"삼각형 밑변 길이를 입력해주세요: \"))\n",
    "    height = int(input(\"삼각형 높이를 입력해주세요: \"))\n",
    "    print(f\"밑변이 {base}이고 높이가 {height}인 삼각형의 넓이는 {triangle_area(base, height):.2f}입니다.\")\n",
    "elif num == 3 :\n",
    "    width = int(input(\"직사각형 가로 길이를 입력해주세요: \"))\n",
    "    length = int(input(\"직사각형 세로 길이를 입력해주세요: \"))\n",
    "    print(f\"가로가 {width}이고 세로가 {length}인 삼각형의 넓이는 {rectangle_area(width,length)}입니다.\")\n",
    "elif num == 4 :\n",
    "    length = int(input(\"정사각형의 한 변의 길이를 입력해주세요: \"))\n",
    "    print(f\"한 변의 길이가 {length}인 정사각형의 넓이는 {square_area(length)}입니다.\")\n",
    "else : \n",
    "    print(\"번호를 잘못 입력하셨습니다.\")"
   ]
  },
  {
   "cell_type": "markdown",
   "metadata": {},
   "source": [
    "## ▼ 난이도 상 문제 풀기 \n",
    "### 뒤집은 소수\n",
    "- 여러 숫자를 입력받고, 각 숫자가 뒤집었을 때 소수이면 출력을 하는 프로그램\n",
    "    - 조건 1 : 숫자를 뒤집었을 때 소수이면 출력  \n",
    "        (ex. 32를 뒤집었을 때 23이고, 23은 소수이므로 출력)\n",
    "    - 조건 2 : 최소 두 개 이상의 함수를 사용\n",
    "\n",
    "        \n",
    "\n",
    "- input  \n",
    "입력받을 숫자의 개수를 입력해주세요 : 3  \n",
    "각 1번째 숫자를 입력해주세요 : 32  \n",
    "각 2번째 숫자를 입력해주세요 : 11  \n",
    "각 3번째 숫자를 입력해주세요 : 71  \n",
    "- output  \n",
    "32 11 71  \n",
    "- input  \n",
    "입력받을 숫자의 개수를 입력해주세요 : 2  \n",
    "각 1번째 숫자를 입력해주세요 : 23  \n",
    "각 2번째 숫자를 입력해주세요 : 34    \n",
    "- output  \n",
    "34 "
   ]
  },
  {
   "cell_type": "code",
   "execution_count": null,
   "metadata": {},
   "outputs": [],
   "source": [
    "최소 두 개 이상의 함수?\n",
    "1. 소수 판별함수\n",
    "2. 뒤집는 함수"
   ]
  },
  {
   "cell_type": "code",
   "execution_count": 53,
   "metadata": {},
   "outputs": [
    {
     "name": "stdout",
     "output_type": "stream",
     "text": [
      "입력받을 숫자의 개수를 입력해주세요: 3\n",
      "각 1번째 숫자를 입력해주세요: 32\n",
      "각 2번째 숫자를 입력해주세요: 11\n",
      "각 3번째 숫자를 입력해주세요: 71\n"
     ]
    },
    {
     "ename": "TypeError",
     "evalue": "'int' object is not iterable",
     "output_type": "error",
     "traceback": [
      "\u001b[1;31m---------------------------------------------------------------------------\u001b[0m",
      "\u001b[1;31mTypeError\u001b[0m                                 Traceback (most recent call last)",
      "\u001b[1;32m<ipython-input-53-367363c4b441>\u001b[0m in \u001b[0;36m<module>\u001b[1;34m\u001b[0m\n\u001b[0;32m     24\u001b[0m     \u001b[0mnum_list\u001b[0m\u001b[1;33m.\u001b[0m\u001b[0mappend\u001b[0m\u001b[1;33m(\u001b[0m\u001b[0mnum\u001b[0m\u001b[1;33m)\u001b[0m\u001b[1;33m\u001b[0m\u001b[1;33m\u001b[0m\u001b[0m\n\u001b[0;32m     25\u001b[0m \u001b[1;33m\u001b[0m\u001b[0m\n\u001b[1;32m---> 26\u001b[1;33m \u001b[0mprint\u001b[0m\u001b[1;33m(\u001b[0m\u001b[0mreverse_number\u001b[0m\u001b[1;33m(\u001b[0m\u001b[0mnum_list\u001b[0m\u001b[1;33m)\u001b[0m\u001b[1;33m)\u001b[0m\u001b[1;33m\u001b[0m\u001b[1;33m\u001b[0m\u001b[0m\n\u001b[0m",
      "\u001b[1;32m<ipython-input-53-367363c4b441>\u001b[0m in \u001b[0;36mreverse_number\u001b[1;34m(x)\u001b[0m\n\u001b[0;32m     15\u001b[0m     \u001b[1;32mfor\u001b[0m \u001b[0mi\u001b[0m \u001b[1;32min\u001b[0m \u001b[0mnum_list\u001b[0m\u001b[1;33m:\u001b[0m\u001b[1;33m\u001b[0m\u001b[1;33m\u001b[0m\u001b[0m\n\u001b[0;32m     16\u001b[0m         \u001b[0mi\u001b[0m \u001b[1;33m=\u001b[0m \u001b[0mstr\u001b[0m\u001b[1;33m(\u001b[0m\u001b[0mi\u001b[0m\u001b[1;33m)\u001b[0m\u001b[1;33m[\u001b[0m\u001b[1;33m:\u001b[0m\u001b[1;33m:\u001b[0m\u001b[1;33m-\u001b[0m\u001b[1;36m1\u001b[0m\u001b[1;33m]\u001b[0m\u001b[1;33m\u001b[0m\u001b[1;33m\u001b[0m\u001b[0m\n\u001b[1;32m---> 17\u001b[1;33m         \u001b[1;32mreturn\u001b[0m \u001b[0mis_prime_number\u001b[0m\u001b[1;33m(\u001b[0m\u001b[0mint\u001b[0m\u001b[1;33m(\u001b[0m\u001b[0mi\u001b[0m\u001b[1;33m)\u001b[0m\u001b[1;33m)\u001b[0m\u001b[1;33m\u001b[0m\u001b[1;33m\u001b[0m\u001b[0m\n\u001b[0m\u001b[0;32m     18\u001b[0m \u001b[1;33m\u001b[0m\u001b[0m\n\u001b[0;32m     19\u001b[0m \u001b[0muser\u001b[0m \u001b[1;33m=\u001b[0m \u001b[0mint\u001b[0m\u001b[1;33m(\u001b[0m\u001b[0minput\u001b[0m\u001b[1;33m(\u001b[0m\u001b[1;34m\"입력받을 숫자의 개수를 입력해주세요: \"\u001b[0m\u001b[1;33m)\u001b[0m\u001b[1;33m)\u001b[0m\u001b[1;33m\u001b[0m\u001b[1;33m\u001b[0m\u001b[0m\n",
      "\u001b[1;32m<ipython-input-53-367363c4b441>\u001b[0m in \u001b[0;36mis_prime_number\u001b[1;34m(x)\u001b[0m\n\u001b[0;32m      2\u001b[0m \u001b[1;33m\u001b[0m\u001b[0m\n\u001b[0;32m      3\u001b[0m \u001b[1;32mdef\u001b[0m \u001b[0mis_prime_number\u001b[0m\u001b[1;33m(\u001b[0m\u001b[0mx\u001b[0m\u001b[1;33m)\u001b[0m\u001b[1;33m:\u001b[0m\u001b[1;33m\u001b[0m\u001b[1;33m\u001b[0m\u001b[0m\n\u001b[1;32m----> 4\u001b[1;33m     \u001b[1;32mfor\u001b[0m \u001b[0ma\u001b[0m \u001b[1;32min\u001b[0m \u001b[0mx\u001b[0m\u001b[1;33m:\u001b[0m\u001b[1;33m\u001b[0m\u001b[1;33m\u001b[0m\u001b[0m\n\u001b[0m\u001b[0;32m      5\u001b[0m         \u001b[1;32mif\u001b[0m \u001b[0ma\u001b[0m \u001b[1;33m!=\u001b[0m \u001b[1;36m1\u001b[0m\u001b[1;33m:\u001b[0m\u001b[1;33m\u001b[0m\u001b[1;33m\u001b[0m\u001b[0m\n\u001b[0;32m      6\u001b[0m             \u001b[1;32mfor\u001b[0m \u001b[0mi\u001b[0m \u001b[1;32min\u001b[0m \u001b[0mrange\u001b[0m\u001b[1;33m(\u001b[0m\u001b[1;36m2\u001b[0m\u001b[1;33m,\u001b[0m \u001b[0mint\u001b[0m\u001b[1;33m(\u001b[0m\u001b[0mmath\u001b[0m\u001b[1;33m.\u001b[0m\u001b[0msqrt\u001b[0m\u001b[1;33m(\u001b[0m\u001b[0ma\u001b[0m\u001b[1;33m)\u001b[0m\u001b[1;33m)\u001b[0m \u001b[1;33m+\u001b[0m \u001b[1;36m1\u001b[0m\u001b[1;33m)\u001b[0m\u001b[1;33m:\u001b[0m  \u001b[1;31m# 2부터 x의 제곱근까지의 모든 수를 확인\u001b[0m\u001b[1;33m\u001b[0m\u001b[1;33m\u001b[0m\u001b[0m\n",
      "\u001b[1;31mTypeError\u001b[0m: 'int' object is not iterable"
     ]
    }
   ],
   "source": [
    "import math\n",
    "\n",
    "def reverse_number(x):\n",
    "    for i in num_list:\n",
    "        i = str(i)[::-1]\n",
    "        return is_prime_number(int(i))\n",
    "    \n",
    "    \n",
    "    \n",
    "def is_prime_number(x):\n",
    "    for a in x:\n",
    "        if a != 1:\n",
    "            for i in range(2, int(math.sqrt(a)) + 1):  # 2부터 x의 제곱근까지의 모든 수를 확인\n",
    "                if a % i == 0 :                        # x가 해당 수로 나누어떨어진다면\n",
    "                    return None                      # 소수가 아님\n",
    "        else :\n",
    "            return None\n",
    "    \n",
    "        return str(x)[::-1]\n",
    "\n",
    "\n",
    "    \n",
    "user = int(input(\"입력받을 숫자의 개수를 입력해주세요: \"))\n",
    "\n",
    "num_list=[]\n",
    "for i in range(user):\n",
    "    num =int(input(f\"각 {i+1}번째 숫자를 입력해주세요: \"))\n",
    "    num_list.append(num)\n",
    "    \n",
    "print(reverse_number(x))"
   ]
  },
  {
   "cell_type": "code",
   "execution_count": 46,
   "metadata": {},
   "outputs": [
    {
     "ename": "TypeError",
     "evalue": "'int' object is not subscriptable",
     "output_type": "error",
     "traceback": [
      "\u001b[1;31m---------------------------------------------------------------------------\u001b[0m",
      "\u001b[1;31mTypeError\u001b[0m                                 Traceback (most recent call last)",
      "\u001b[1;32m<ipython-input-46-53727bf1d7fc>\u001b[0m in \u001b[0;36m<module>\u001b[1;34m\u001b[0m\n\u001b[0;32m      1\u001b[0m \u001b[0ma\u001b[0m \u001b[1;33m=\u001b[0m \u001b[1;36m56\u001b[0m\u001b[1;33m\u001b[0m\u001b[1;33m\u001b[0m\u001b[0m\n\u001b[1;32m----> 2\u001b[1;33m \u001b[0ma\u001b[0m\u001b[1;33m[\u001b[0m\u001b[1;33m:\u001b[0m\u001b[1;33m:\u001b[0m\u001b[1;33m-\u001b[0m\u001b[1;36m1\u001b[0m\u001b[1;33m]\u001b[0m\u001b[1;33m\u001b[0m\u001b[1;33m\u001b[0m\u001b[0m\n\u001b[0m",
      "\u001b[1;31mTypeError\u001b[0m: 'int' object is not subscriptable"
     ]
    }
   ],
   "source": [
    "a = 56\n",
    "a[::-1]"
   ]
  }
 ],
 "metadata": {
  "kernelspec": {
   "display_name": "Python 3",
   "language": "python",
   "name": "python3"
  },
  "language_info": {
   "codemirror_mode": {
    "name": "ipython",
    "version": 3
   },
   "file_extension": ".py",
   "mimetype": "text/x-python",
   "name": "python",
   "nbconvert_exporter": "python",
   "pygments_lexer": "ipython3",
   "version": "3.7.10"
  }
 },
 "nbformat": 4,
 "nbformat_minor": 4
}
